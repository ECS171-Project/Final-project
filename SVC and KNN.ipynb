{
 "cells": [
  {
   "cell_type": "code",
   "execution_count": 1,
   "metadata": {},
   "outputs": [],
   "source": [
    "import numpy as np \n",
    "import pandas as pd \n",
    "\n",
    "import matplotlib.pyplot as plt\n",
    "import seaborn as sns\n",
    "\n",
    "import string\n",
    "\n",
    "import nltk\n",
    "from nltk.corpus import stopwords\n",
    "from nltk.tokenize import word_tokenize\n",
    "\n",
    "from wordcloud import WordCloud\n",
    "\n",
    "import sklearn\n",
    "from sklearn import model_selection\n",
    "from sklearn.feature_extraction.text import CountVectorizer, TfidfVectorizer\n",
    "from sklearn.metrics import classification_report, confusion_matrix, accuracy_score,\\\n",
    "                            roc_curve, auc, roc_auc_score, f1_score, precision_recall_curve,\\\n",
    "                            precision_score, average_precision_score, recall_score\n",
    "from sklearn.metrics.scorer import make_scorer\n",
    "from sklearn.svm import SVC\n",
    "from sklearn.neighbors import KNeighborsClassifier"
   ]
  },
  {
   "cell_type": "code",
   "execution_count": 2,
   "metadata": {},
   "outputs": [],
   "source": [
    "import warnings\n",
    "warnings.filterwarnings(\"ignore\")"
   ]
  },
  {
   "cell_type": "code",
   "execution_count": 3,
   "metadata": {},
   "outputs": [
    {
     "data": {
      "text/html": [
       "<div>\n",
       "<style scoped>\n",
       "    .dataframe tbody tr th:only-of-type {\n",
       "        vertical-align: middle;\n",
       "    }\n",
       "\n",
       "    .dataframe tbody tr th {\n",
       "        vertical-align: top;\n",
       "    }\n",
       "\n",
       "    .dataframe thead th {\n",
       "        text-align: right;\n",
       "    }\n",
       "</style>\n",
       "<table border=\"1\" class=\"dataframe\">\n",
       "  <thead>\n",
       "    <tr style=\"text-align: right;\">\n",
       "      <th></th>\n",
       "      <th>label</th>\n",
       "      <th>text</th>\n",
       "    </tr>\n",
       "  </thead>\n",
       "  <tbody>\n",
       "    <tr>\n",
       "      <th>0</th>\n",
       "      <td>ham</td>\n",
       "      <td>Go until jurong point, crazy.. Available only ...</td>\n",
       "    </tr>\n",
       "    <tr>\n",
       "      <th>1</th>\n",
       "      <td>ham</td>\n",
       "      <td>Ok lar... Joking wif u oni...</td>\n",
       "    </tr>\n",
       "    <tr>\n",
       "      <th>2</th>\n",
       "      <td>spam</td>\n",
       "      <td>Free entry in 2 a wkly comp to win FA Cup fina...</td>\n",
       "    </tr>\n",
       "    <tr>\n",
       "      <th>3</th>\n",
       "      <td>ham</td>\n",
       "      <td>U dun say so early hor... U c already then say...</td>\n",
       "    </tr>\n",
       "    <tr>\n",
       "      <th>4</th>\n",
       "      <td>ham</td>\n",
       "      <td>Nah I don't think he goes to usf, he lives aro...</td>\n",
       "    </tr>\n",
       "  </tbody>\n",
       "</table>\n",
       "</div>"
      ],
      "text/plain": [
       "  label                                               text\n",
       "0   ham  Go until jurong point, crazy.. Available only ...\n",
       "1   ham                      Ok lar... Joking wif u oni...\n",
       "2  spam  Free entry in 2 a wkly comp to win FA Cup fina...\n",
       "3   ham  U dun say so early hor... U c already then say...\n",
       "4   ham  Nah I don't think he goes to usf, he lives aro..."
      ]
     },
     "execution_count": 3,
     "metadata": {},
     "output_type": "execute_result"
    }
   ],
   "source": [
    "data = pd.read_csv('spam.csv', usecols = [0,1], encoding='latin-1')\n",
    "data.columns = ['label', 'text']\n",
    "data.head()"
   ]
  },
  {
   "cell_type": "code",
   "execution_count": 4,
   "metadata": {},
   "outputs": [
    {
     "data": {
      "text/html": [
       "<div>\n",
       "<style scoped>\n",
       "    .dataframe tbody tr th:only-of-type {\n",
       "        vertical-align: middle;\n",
       "    }\n",
       "\n",
       "    .dataframe tbody tr th {\n",
       "        vertical-align: top;\n",
       "    }\n",
       "\n",
       "    .dataframe thead tr th {\n",
       "        text-align: left;\n",
       "    }\n",
       "\n",
       "    .dataframe thead tr:last-of-type th {\n",
       "        text-align: right;\n",
       "    }\n",
       "</style>\n",
       "<table border=\"1\" class=\"dataframe\">\n",
       "  <thead>\n",
       "    <tr>\n",
       "      <th></th>\n",
       "      <th colspan=\"4\" halign=\"left\">text</th>\n",
       "    </tr>\n",
       "    <tr>\n",
       "      <th></th>\n",
       "      <th>count</th>\n",
       "      <th>unique</th>\n",
       "      <th>top</th>\n",
       "      <th>freq</th>\n",
       "    </tr>\n",
       "    <tr>\n",
       "      <th>label</th>\n",
       "      <th></th>\n",
       "      <th></th>\n",
       "      <th></th>\n",
       "      <th></th>\n",
       "    </tr>\n",
       "  </thead>\n",
       "  <tbody>\n",
       "    <tr>\n",
       "      <th>ham</th>\n",
       "      <td>4825</td>\n",
       "      <td>4516</td>\n",
       "      <td>Sorry, I'll call later</td>\n",
       "      <td>30</td>\n",
       "    </tr>\n",
       "    <tr>\n",
       "      <th>spam</th>\n",
       "      <td>747</td>\n",
       "      <td>653</td>\n",
       "      <td>Please call our customer service representativ...</td>\n",
       "      <td>4</td>\n",
       "    </tr>\n",
       "  </tbody>\n",
       "</table>\n",
       "</div>"
      ],
      "text/plain": [
       "       text                                                               \n",
       "      count unique                                                top freq\n",
       "label                                                                     \n",
       "ham    4825   4516                             Sorry, I'll call later   30\n",
       "spam    747    653  Please call our customer service representativ...    4"
      ]
     },
     "execution_count": 4,
     "metadata": {},
     "output_type": "execute_result"
    }
   ],
   "source": [
    "data.groupby('label').describe()"
   ]
  },
  {
   "cell_type": "code",
   "execution_count": 5,
   "metadata": {},
   "outputs": [
    {
     "data": {
      "text/html": [
       "<div>\n",
       "<style scoped>\n",
       "    .dataframe tbody tr th:only-of-type {\n",
       "        vertical-align: middle;\n",
       "    }\n",
       "\n",
       "    .dataframe tbody tr th {\n",
       "        vertical-align: top;\n",
       "    }\n",
       "\n",
       "    .dataframe thead th {\n",
       "        text-align: right;\n",
       "    }\n",
       "</style>\n",
       "<table border=\"1\" class=\"dataframe\">\n",
       "  <thead>\n",
       "    <tr style=\"text-align: right;\">\n",
       "      <th></th>\n",
       "      <th>label</th>\n",
       "      <th>text</th>\n",
       "      <th>length</th>\n",
       "      <th>cat</th>\n",
       "    </tr>\n",
       "  </thead>\n",
       "  <tbody>\n",
       "    <tr>\n",
       "      <th>0</th>\n",
       "      <td>ham</td>\n",
       "      <td>Go until jurong point, crazy.. Available only ...</td>\n",
       "      <td>111</td>\n",
       "      <td>1</td>\n",
       "    </tr>\n",
       "    <tr>\n",
       "      <th>1</th>\n",
       "      <td>ham</td>\n",
       "      <td>Ok lar... Joking wif u oni...</td>\n",
       "      <td>29</td>\n",
       "      <td>1</td>\n",
       "    </tr>\n",
       "    <tr>\n",
       "      <th>2</th>\n",
       "      <td>spam</td>\n",
       "      <td>Free entry in 2 a wkly comp to win FA Cup fina...</td>\n",
       "      <td>155</td>\n",
       "      <td>0</td>\n",
       "    </tr>\n",
       "    <tr>\n",
       "      <th>3</th>\n",
       "      <td>ham</td>\n",
       "      <td>U dun say so early hor... U c already then say...</td>\n",
       "      <td>49</td>\n",
       "      <td>1</td>\n",
       "    </tr>\n",
       "    <tr>\n",
       "      <th>4</th>\n",
       "      <td>ham</td>\n",
       "      <td>Nah I don't think he goes to usf, he lives aro...</td>\n",
       "      <td>61</td>\n",
       "      <td>1</td>\n",
       "    </tr>\n",
       "    <tr>\n",
       "      <th>5</th>\n",
       "      <td>spam</td>\n",
       "      <td>FreeMsg Hey there darling it's been 3 week's n...</td>\n",
       "      <td>148</td>\n",
       "      <td>0</td>\n",
       "    </tr>\n",
       "    <tr>\n",
       "      <th>6</th>\n",
       "      <td>ham</td>\n",
       "      <td>Even my brother is not like to speak with me. ...</td>\n",
       "      <td>77</td>\n",
       "      <td>1</td>\n",
       "    </tr>\n",
       "    <tr>\n",
       "      <th>7</th>\n",
       "      <td>ham</td>\n",
       "      <td>As per your request 'Melle Melle (Oru Minnamin...</td>\n",
       "      <td>160</td>\n",
       "      <td>1</td>\n",
       "    </tr>\n",
       "    <tr>\n",
       "      <th>8</th>\n",
       "      <td>spam</td>\n",
       "      <td>WINNER!! As a valued network customer you have...</td>\n",
       "      <td>158</td>\n",
       "      <td>0</td>\n",
       "    </tr>\n",
       "    <tr>\n",
       "      <th>9</th>\n",
       "      <td>spam</td>\n",
       "      <td>Had your mobile 11 months or more? U R entitle...</td>\n",
       "      <td>154</td>\n",
       "      <td>0</td>\n",
       "    </tr>\n",
       "    <tr>\n",
       "      <th>10</th>\n",
       "      <td>ham</td>\n",
       "      <td>I'm gonna be home soon and i don't want to tal...</td>\n",
       "      <td>109</td>\n",
       "      <td>1</td>\n",
       "    </tr>\n",
       "    <tr>\n",
       "      <th>11</th>\n",
       "      <td>spam</td>\n",
       "      <td>SIX chances to win CASH! From 100 to 20,000 po...</td>\n",
       "      <td>136</td>\n",
       "      <td>0</td>\n",
       "    </tr>\n",
       "    <tr>\n",
       "      <th>12</th>\n",
       "      <td>spam</td>\n",
       "      <td>URGENT! You have won a 1 week FREE membership ...</td>\n",
       "      <td>156</td>\n",
       "      <td>0</td>\n",
       "    </tr>\n",
       "    <tr>\n",
       "      <th>13</th>\n",
       "      <td>ham</td>\n",
       "      <td>I've been searching for the right words to tha...</td>\n",
       "      <td>196</td>\n",
       "      <td>1</td>\n",
       "    </tr>\n",
       "    <tr>\n",
       "      <th>14</th>\n",
       "      <td>ham</td>\n",
       "      <td>I HAVE A DATE ON SUNDAY WITH WILL!!</td>\n",
       "      <td>35</td>\n",
       "      <td>1</td>\n",
       "    </tr>\n",
       "    <tr>\n",
       "      <th>15</th>\n",
       "      <td>spam</td>\n",
       "      <td>XXXMobileMovieClub: To use your credit, click ...</td>\n",
       "      <td>149</td>\n",
       "      <td>0</td>\n",
       "    </tr>\n",
       "    <tr>\n",
       "      <th>16</th>\n",
       "      <td>ham</td>\n",
       "      <td>Oh k...i'm watching here:)</td>\n",
       "      <td>26</td>\n",
       "      <td>1</td>\n",
       "    </tr>\n",
       "    <tr>\n",
       "      <th>17</th>\n",
       "      <td>ham</td>\n",
       "      <td>Eh u remember how 2 spell his name... Yes i di...</td>\n",
       "      <td>81</td>\n",
       "      <td>1</td>\n",
       "    </tr>\n",
       "    <tr>\n",
       "      <th>18</th>\n",
       "      <td>ham</td>\n",
       "      <td>Fine if thatåÕs the way u feel. ThatåÕs the wa...</td>\n",
       "      <td>58</td>\n",
       "      <td>1</td>\n",
       "    </tr>\n",
       "    <tr>\n",
       "      <th>19</th>\n",
       "      <td>spam</td>\n",
       "      <td>England v Macedonia - dont miss the goals/team...</td>\n",
       "      <td>156</td>\n",
       "      <td>0</td>\n",
       "    </tr>\n",
       "    <tr>\n",
       "      <th>20</th>\n",
       "      <td>ham</td>\n",
       "      <td>Is that seriously how you spell his name?</td>\n",
       "      <td>41</td>\n",
       "      <td>1</td>\n",
       "    </tr>\n",
       "    <tr>\n",
       "      <th>21</th>\n",
       "      <td>ham</td>\n",
       "      <td>IÛ÷m going to try for 2 months ha ha only joking</td>\n",
       "      <td>49</td>\n",
       "      <td>1</td>\n",
       "    </tr>\n",
       "    <tr>\n",
       "      <th>22</th>\n",
       "      <td>ham</td>\n",
       "      <td>So Ì_ pay first lar... Then when is da stock c...</td>\n",
       "      <td>53</td>\n",
       "      <td>1</td>\n",
       "    </tr>\n",
       "    <tr>\n",
       "      <th>23</th>\n",
       "      <td>ham</td>\n",
       "      <td>Aft i finish my lunch then i go str down lor. ...</td>\n",
       "      <td>88</td>\n",
       "      <td>1</td>\n",
       "    </tr>\n",
       "    <tr>\n",
       "      <th>24</th>\n",
       "      <td>ham</td>\n",
       "      <td>Ffffffffff. Alright no way I can meet up with ...</td>\n",
       "      <td>57</td>\n",
       "      <td>1</td>\n",
       "    </tr>\n",
       "    <tr>\n",
       "      <th>25</th>\n",
       "      <td>ham</td>\n",
       "      <td>Just forced myself to eat a slice. I'm really ...</td>\n",
       "      <td>144</td>\n",
       "      <td>1</td>\n",
       "    </tr>\n",
       "    <tr>\n",
       "      <th>26</th>\n",
       "      <td>ham</td>\n",
       "      <td>Lol your always so convincing.</td>\n",
       "      <td>30</td>\n",
       "      <td>1</td>\n",
       "    </tr>\n",
       "    <tr>\n",
       "      <th>27</th>\n",
       "      <td>ham</td>\n",
       "      <td>Did you catch the bus ? Are you frying an egg ...</td>\n",
       "      <td>134</td>\n",
       "      <td>1</td>\n",
       "    </tr>\n",
       "    <tr>\n",
       "      <th>28</th>\n",
       "      <td>ham</td>\n",
       "      <td>I'm back &amp;amp; we're packing the car now, I'll...</td>\n",
       "      <td>75</td>\n",
       "      <td>1</td>\n",
       "    </tr>\n",
       "    <tr>\n",
       "      <th>29</th>\n",
       "      <td>ham</td>\n",
       "      <td>Ahhh. Work. I vaguely remember that! What does...</td>\n",
       "      <td>64</td>\n",
       "      <td>1</td>\n",
       "    </tr>\n",
       "    <tr>\n",
       "      <th>...</th>\n",
       "      <td>...</td>\n",
       "      <td>...</td>\n",
       "      <td>...</td>\n",
       "      <td>...</td>\n",
       "    </tr>\n",
       "    <tr>\n",
       "      <th>5542</th>\n",
       "      <td>ham</td>\n",
       "      <td>Armand says get your ass over to epsilon</td>\n",
       "      <td>40</td>\n",
       "      <td>1</td>\n",
       "    </tr>\n",
       "    <tr>\n",
       "      <th>5543</th>\n",
       "      <td>ham</td>\n",
       "      <td>U still havent got urself a jacket ah?</td>\n",
       "      <td>38</td>\n",
       "      <td>1</td>\n",
       "    </tr>\n",
       "    <tr>\n",
       "      <th>5544</th>\n",
       "      <td>ham</td>\n",
       "      <td>I'm taking derek &amp;amp; taylor to walmart, if I...</td>\n",
       "      <td>154</td>\n",
       "      <td>1</td>\n",
       "    </tr>\n",
       "    <tr>\n",
       "      <th>5545</th>\n",
       "      <td>ham</td>\n",
       "      <td>Hi its in durban are you still on this number</td>\n",
       "      <td>45</td>\n",
       "      <td>1</td>\n",
       "    </tr>\n",
       "    <tr>\n",
       "      <th>5546</th>\n",
       "      <td>ham</td>\n",
       "      <td>Ic. There are a lotta childporn cars then.</td>\n",
       "      <td>42</td>\n",
       "      <td>1</td>\n",
       "    </tr>\n",
       "    <tr>\n",
       "      <th>5547</th>\n",
       "      <td>spam</td>\n",
       "      <td>Had your contract mobile 11 Mnths? Latest Moto...</td>\n",
       "      <td>160</td>\n",
       "      <td>0</td>\n",
       "    </tr>\n",
       "    <tr>\n",
       "      <th>5548</th>\n",
       "      <td>ham</td>\n",
       "      <td>No, I was trying it all weekend ;V</td>\n",
       "      <td>34</td>\n",
       "      <td>1</td>\n",
       "    </tr>\n",
       "    <tr>\n",
       "      <th>5549</th>\n",
       "      <td>ham</td>\n",
       "      <td>You know, wot people wear. T shirts, jumpers, ...</td>\n",
       "      <td>87</td>\n",
       "      <td>1</td>\n",
       "    </tr>\n",
       "    <tr>\n",
       "      <th>5550</th>\n",
       "      <td>ham</td>\n",
       "      <td>Cool, what time you think you can get here?</td>\n",
       "      <td>43</td>\n",
       "      <td>1</td>\n",
       "    </tr>\n",
       "    <tr>\n",
       "      <th>5551</th>\n",
       "      <td>ham</td>\n",
       "      <td>Wen did you get so spiritual and deep. That's ...</td>\n",
       "      <td>51</td>\n",
       "      <td>1</td>\n",
       "    </tr>\n",
       "    <tr>\n",
       "      <th>5552</th>\n",
       "      <td>ham</td>\n",
       "      <td>Have a safe trip to Nigeria. Wish you happines...</td>\n",
       "      <td>91</td>\n",
       "      <td>1</td>\n",
       "    </tr>\n",
       "    <tr>\n",
       "      <th>5553</th>\n",
       "      <td>ham</td>\n",
       "      <td>Hahaha..use your brain dear</td>\n",
       "      <td>27</td>\n",
       "      <td>1</td>\n",
       "    </tr>\n",
       "    <tr>\n",
       "      <th>5554</th>\n",
       "      <td>ham</td>\n",
       "      <td>Well keep in mind I've only got enough gas for...</td>\n",
       "      <td>98</td>\n",
       "      <td>1</td>\n",
       "    </tr>\n",
       "    <tr>\n",
       "      <th>5555</th>\n",
       "      <td>ham</td>\n",
       "      <td>Yeh. Indians was nice. Tho it did kane me off ...</td>\n",
       "      <td>153</td>\n",
       "      <td>1</td>\n",
       "    </tr>\n",
       "    <tr>\n",
       "      <th>5556</th>\n",
       "      <td>ham</td>\n",
       "      <td>Yes i have. So that's why u texted. Pshew...mi...</td>\n",
       "      <td>63</td>\n",
       "      <td>1</td>\n",
       "    </tr>\n",
       "    <tr>\n",
       "      <th>5557</th>\n",
       "      <td>ham</td>\n",
       "      <td>No. I meant the calculation is the same. That ...</td>\n",
       "      <td>273</td>\n",
       "      <td>1</td>\n",
       "    </tr>\n",
       "    <tr>\n",
       "      <th>5558</th>\n",
       "      <td>ham</td>\n",
       "      <td>Sorry, I'll call later</td>\n",
       "      <td>22</td>\n",
       "      <td>1</td>\n",
       "    </tr>\n",
       "    <tr>\n",
       "      <th>5559</th>\n",
       "      <td>ham</td>\n",
       "      <td>if you aren't here in the next  &amp;lt;#&amp;gt;  hou...</td>\n",
       "      <td>66</td>\n",
       "      <td>1</td>\n",
       "    </tr>\n",
       "    <tr>\n",
       "      <th>5560</th>\n",
       "      <td>ham</td>\n",
       "      <td>Anything lor. Juz both of us lor.</td>\n",
       "      <td>33</td>\n",
       "      <td>1</td>\n",
       "    </tr>\n",
       "    <tr>\n",
       "      <th>5561</th>\n",
       "      <td>ham</td>\n",
       "      <td>Get me out of this dump heap. My mom decided t...</td>\n",
       "      <td>70</td>\n",
       "      <td>1</td>\n",
       "    </tr>\n",
       "    <tr>\n",
       "      <th>5562</th>\n",
       "      <td>ham</td>\n",
       "      <td>Ok lor... Sony ericsson salesman... I ask shuh...</td>\n",
       "      <td>96</td>\n",
       "      <td>1</td>\n",
       "    </tr>\n",
       "    <tr>\n",
       "      <th>5563</th>\n",
       "      <td>ham</td>\n",
       "      <td>Ard 6 like dat lor.</td>\n",
       "      <td>19</td>\n",
       "      <td>1</td>\n",
       "    </tr>\n",
       "    <tr>\n",
       "      <th>5564</th>\n",
       "      <td>ham</td>\n",
       "      <td>Why don't you wait 'til at least wednesday to ...</td>\n",
       "      <td>67</td>\n",
       "      <td>1</td>\n",
       "    </tr>\n",
       "    <tr>\n",
       "      <th>5565</th>\n",
       "      <td>ham</td>\n",
       "      <td>Huh y lei...</td>\n",
       "      <td>12</td>\n",
       "      <td>1</td>\n",
       "    </tr>\n",
       "    <tr>\n",
       "      <th>5566</th>\n",
       "      <td>spam</td>\n",
       "      <td>REMINDER FROM O2: To get 2.50 pounds free call...</td>\n",
       "      <td>147</td>\n",
       "      <td>0</td>\n",
       "    </tr>\n",
       "    <tr>\n",
       "      <th>5567</th>\n",
       "      <td>spam</td>\n",
       "      <td>This is the 2nd time we have tried 2 contact u...</td>\n",
       "      <td>161</td>\n",
       "      <td>0</td>\n",
       "    </tr>\n",
       "    <tr>\n",
       "      <th>5568</th>\n",
       "      <td>ham</td>\n",
       "      <td>Will Ì_ b going to esplanade fr home?</td>\n",
       "      <td>37</td>\n",
       "      <td>1</td>\n",
       "    </tr>\n",
       "    <tr>\n",
       "      <th>5569</th>\n",
       "      <td>ham</td>\n",
       "      <td>Pity, * was in mood for that. So...any other s...</td>\n",
       "      <td>57</td>\n",
       "      <td>1</td>\n",
       "    </tr>\n",
       "    <tr>\n",
       "      <th>5570</th>\n",
       "      <td>ham</td>\n",
       "      <td>The guy did some bitching but I acted like i'd...</td>\n",
       "      <td>125</td>\n",
       "      <td>1</td>\n",
       "    </tr>\n",
       "    <tr>\n",
       "      <th>5571</th>\n",
       "      <td>ham</td>\n",
       "      <td>Rofl. Its true to its name</td>\n",
       "      <td>26</td>\n",
       "      <td>1</td>\n",
       "    </tr>\n",
       "  </tbody>\n",
       "</table>\n",
       "<p>5572 rows × 4 columns</p>\n",
       "</div>"
      ],
      "text/plain": [
       "     label                                               text  length  cat\n",
       "0      ham  Go until jurong point, crazy.. Available only ...     111    1\n",
       "1      ham                      Ok lar... Joking wif u oni...      29    1\n",
       "2     spam  Free entry in 2 a wkly comp to win FA Cup fina...     155    0\n",
       "3      ham  U dun say so early hor... U c already then say...      49    1\n",
       "4      ham  Nah I don't think he goes to usf, he lives aro...      61    1\n",
       "5     spam  FreeMsg Hey there darling it's been 3 week's n...     148    0\n",
       "6      ham  Even my brother is not like to speak with me. ...      77    1\n",
       "7      ham  As per your request 'Melle Melle (Oru Minnamin...     160    1\n",
       "8     spam  WINNER!! As a valued network customer you have...     158    0\n",
       "9     spam  Had your mobile 11 months or more? U R entitle...     154    0\n",
       "10     ham  I'm gonna be home soon and i don't want to tal...     109    1\n",
       "11    spam  SIX chances to win CASH! From 100 to 20,000 po...     136    0\n",
       "12    spam  URGENT! You have won a 1 week FREE membership ...     156    0\n",
       "13     ham  I've been searching for the right words to tha...     196    1\n",
       "14     ham                I HAVE A DATE ON SUNDAY WITH WILL!!      35    1\n",
       "15    spam  XXXMobileMovieClub: To use your credit, click ...     149    0\n",
       "16     ham                         Oh k...i'm watching here:)      26    1\n",
       "17     ham  Eh u remember how 2 spell his name... Yes i di...      81    1\n",
       "18     ham  Fine if thatåÕs the way u feel. ThatåÕs the wa...      58    1\n",
       "19    spam  England v Macedonia - dont miss the goals/team...     156    0\n",
       "20     ham          Is that seriously how you spell his name?      41    1\n",
       "21     ham  IÛ÷m going to try for 2 months ha ha only joking      49    1\n",
       "22     ham  So Ì_ pay first lar... Then when is da stock c...      53    1\n",
       "23     ham  Aft i finish my lunch then i go str down lor. ...      88    1\n",
       "24     ham  Ffffffffff. Alright no way I can meet up with ...      57    1\n",
       "25     ham  Just forced myself to eat a slice. I'm really ...     144    1\n",
       "26     ham                     Lol your always so convincing.      30    1\n",
       "27     ham  Did you catch the bus ? Are you frying an egg ...     134    1\n",
       "28     ham  I'm back &amp; we're packing the car now, I'll...      75    1\n",
       "29     ham  Ahhh. Work. I vaguely remember that! What does...      64    1\n",
       "...    ...                                                ...     ...  ...\n",
       "5542   ham           Armand says get your ass over to epsilon      40    1\n",
       "5543   ham             U still havent got urself a jacket ah?      38    1\n",
       "5544   ham  I'm taking derek &amp; taylor to walmart, if I...     154    1\n",
       "5545   ham      Hi its in durban are you still on this number      45    1\n",
       "5546   ham         Ic. There are a lotta childporn cars then.      42    1\n",
       "5547  spam  Had your contract mobile 11 Mnths? Latest Moto...     160    0\n",
       "5548   ham                 No, I was trying it all weekend ;V      34    1\n",
       "5549   ham  You know, wot people wear. T shirts, jumpers, ...      87    1\n",
       "5550   ham        Cool, what time you think you can get here?      43    1\n",
       "5551   ham  Wen did you get so spiritual and deep. That's ...      51    1\n",
       "5552   ham  Have a safe trip to Nigeria. Wish you happines...      91    1\n",
       "5553   ham                        Hahaha..use your brain dear      27    1\n",
       "5554   ham  Well keep in mind I've only got enough gas for...      98    1\n",
       "5555   ham  Yeh. Indians was nice. Tho it did kane me off ...     153    1\n",
       "5556   ham  Yes i have. So that's why u texted. Pshew...mi...      63    1\n",
       "5557   ham  No. I meant the calculation is the same. That ...     273    1\n",
       "5558   ham                             Sorry, I'll call later      22    1\n",
       "5559   ham  if you aren't here in the next  &lt;#&gt;  hou...      66    1\n",
       "5560   ham                  Anything lor. Juz both of us lor.      33    1\n",
       "5561   ham  Get me out of this dump heap. My mom decided t...      70    1\n",
       "5562   ham  Ok lor... Sony ericsson salesman... I ask shuh...      96    1\n",
       "5563   ham                                Ard 6 like dat lor.      19    1\n",
       "5564   ham  Why don't you wait 'til at least wednesday to ...      67    1\n",
       "5565   ham                                       Huh y lei...      12    1\n",
       "5566  spam  REMINDER FROM O2: To get 2.50 pounds free call...     147    0\n",
       "5567  spam  This is the 2nd time we have tried 2 contact u...     161    0\n",
       "5568   ham              Will Ì_ b going to esplanade fr home?      37    1\n",
       "5569   ham  Pity, * was in mood for that. So...any other s...      57    1\n",
       "5570   ham  The guy did some bitching but I acted like i'd...     125    1\n",
       "5571   ham                         Rofl. Its true to its name      26    1\n",
       "\n",
       "[5572 rows x 4 columns]"
      ]
     },
     "execution_count": 5,
     "metadata": {},
     "output_type": "execute_result"
    }
   ],
   "source": [
    "data['length'] = data.text.str.len()\n",
    "data['cat'] = data['label'].map({'ham' : 1, 'spam' : 0})\n",
    "data"
   ]
  },
  {
   "cell_type": "code",
   "execution_count": 6,
   "metadata": {},
   "outputs": [],
   "source": [
    "stop_words = set(stopwords.words('english'))"
   ]
  },
  {
   "cell_type": "code",
   "execution_count": 7,
   "metadata": {},
   "outputs": [],
   "source": [
    "##remove punc and stop\n",
    "def remove_punc_stop(text):\n",
    "    sen = [i for i in text if i not in string.punctuation]\n",
    "    word = \"\".join(sen).split()\n",
    "    word = [i.lower() for i in word if i.lower() not in stopwords.words(\"english\")]\n",
    "    word = \" \".join(word)\n",
    "    return word\n",
    "\n",
    "def plot_wordcloud(data, type):\n",
    "    full_text = ''.join(data['cleaned text'][i] for i in range(len(data)) if data.cat[i] == type)\n",
    "    wordcloud = WordCloud(max_words = 100, background_color=\"white\").generate(full_text)\n",
    "    plt.imshow(wordcloud, interpolation='bilinear')\n",
    "    plt.axis('off')\n",
    "    plt.title((['spam', 'ham'][type]), fontsize = 20)\n",
    "\n",
    "def plot_mostfreq(data, type, mostcommon):\n",
    "    full = word_tokenize(''.join([data['cleaned text'][i] for i in range(len(data)) if data.cat[i] == type]))\n",
    "    freq = nltk.FreqDist(full)\n",
    "    freq.plot(mostcommon, title = (['spam', 'ham'][type]))\n",
    "    \n",
    "def plot_mostfreq2(data, type, mostcommon):\n",
    "    full = word_tokenize(''.join([data['cleaned text'][i] for i in range(len(data)) if data.cat[i] == type]))\n",
    "    freq = nltk.FreqDist(full)\n",
    "    dataframe = pd.DataFrame(freq.most_common(mostcommon))\n",
    "    word = dataframe[0]\n",
    "    count = dataframe[1]\n",
    "    sns.barplot(x = word[0:mostcommon], y = count[0:mostcommon], data = dataframe)\n",
    "    plt.xticks(rotation='vertical')\n",
    "    plt.title(['spam', 'ham'][type])\n",
    "    "
   ]
  },
  {
   "cell_type": "code",
   "execution_count": 8,
   "metadata": {},
   "outputs": [],
   "source": [
    "data['cleaned text'] = data.text.apply(remove_punc_stop)"
   ]
  },
  {
   "cell_type": "code",
   "execution_count": 9,
   "metadata": {},
   "outputs": [
    {
     "data": {
      "image/png": "[encoded data removed]",
      "text/plain": [
       "<Figure size 432x288 with 1 Axes>"
      ]
     },
     "metadata": {
      "needs_background": "light"
     },
     "output_type": "display_data"
    }
   ],
   "source": [
    "plot_wordcloud(data, 0)"
   ]
  },
  {
   "cell_type": "code",
   "execution_count": 10,
   "metadata": {},
   "outputs": [
    {
     "data": {
      "image/png": "[encoded data removed]",
      "text/plain": [
       "<Figure size 432x288 with 1 Axes>"
      ]
     },
     "metadata": {
      "needs_background": "light"
     },
     "output_type": "display_data"
    }
   ],
   "source": [
    "plot_wordcloud(data, 1)"
   ]
  },
  {
   "cell_type": "code",
   "execution_count": 11,
   "metadata": {},
   "outputs": [
    {
     "data": {
      "image/png": "[encoded data removed]",
      "text/plain": [
       "<Figure size 432x288 with 1 Axes>"
      ]
     },
     "metadata": {
      "needs_background": "light"
     },
     "output_type": "display_data"
    }
   ],
   "source": [
    "plot_mostfreq(data, 0, 30)"
   ]
  },
  {
   "cell_type": "code",
   "execution_count": 12,
   "metadata": {},
   "outputs": [
    {
     "data": {
      "image/png": "[encoded data removed]",
      "text/plain": [
       "<Figure size 432x288 with 1 Axes>"
      ]
     },
     "metadata": {
      "needs_background": "light"
     },
     "output_type": "display_data"
    }
   ],
   "source": [
    "plot_mostfreq2(data, 0, 30)"
   ]
  },
  {
   "cell_type": "code",
   "execution_count": 13,
   "metadata": {},
   "outputs": [
    {
     "data": {
      "image/png": "[encoded data removed]",
      "text/plain": [
       "<Figure size 432x288 with 1 Axes>"
      ]
     },
     "metadata": {
      "needs_background": "light"
     },
     "output_type": "display_data"
    }
   ],
   "source": [
    "plot_mostfreq(data, 1, 30)"
   ]
  },
  {
   "cell_type": "code",
   "execution_count": 14,
   "metadata": {},
   "outputs": [
    {
     "data": {
      "image/png": "[encoded data removed]",
      "text/plain": [
       "<Figure size 432x288 with 1 Axes>"
      ]
     },
     "metadata": {
      "needs_background": "light"
     },
     "output_type": "display_data"
    }
   ],
   "source": [
    "plot_mostfreq2(data, 1, 30)"
   ]
  },
  {
   "cell_type": "markdown",
   "metadata": {},
   "source": [
    "## Vectorizing"
   ]
  },
  {
   "cell_type": "code",
   "execution_count": 22,
   "metadata": {},
   "outputs": [],
   "source": [
    "##counting the occurrences of tokens in each document.\n",
    "vectorizer = CountVectorizer()\n",
    "data_X = vectorizer.fit_transform(data['cleaned text'])\n",
    "\n",
    "##To avoid these potential discrepancies it suffices to divide the number of occurrences \n",
    "##of each word in a document by the total number of words in the document: \n",
    "##these new features are called tf for Term Frequencies.\n",
    "vectorizer2 = TfidfVectorizer()\n",
    "data_X2 = vectorizer2.fit_transform(data['cleaned text'])\n",
    "\n",
    "dictionary = np.array(vectorizer.get_feature_names())\n",
    "dictionary2 = np.array(vectorizer2.get_feature_names())\n"
   ]
  },
  {
   "cell_type": "code",
   "execution_count": 23,
   "metadata": {},
   "outputs": [
    {
     "name": "stdout",
     "output_type": "stream",
     "text": [
      "47254\n"
     ]
    },
    {
     "data": {
      "text/plain": [
       "0.09045027061195789"
      ]
     },
     "execution_count": 23,
     "metadata": {},
     "output_type": "execute_result"
    }
   ],
   "source": [
    "##nonzero term in data\n",
    "print(data_X.nnz)\n",
    "##% of nonzero term\n",
    "(data_X.nnz)/(data_X.shape[0]*data_X.shape[1])*100"
   ]
  },
  {
   "cell_type": "code",
   "execution_count": 24,
   "metadata": {},
   "outputs": [
    {
     "name": "stdout",
     "output_type": "stream",
     "text": [
      "47254\n"
     ]
    },
    {
     "data": {
      "text/plain": [
       "0.09045027061195789"
      ]
     },
     "execution_count": 24,
     "metadata": {},
     "output_type": "execute_result"
    }
   ],
   "source": [
    "##nonzero term in data\n",
    "print(data_X2.nnz)\n",
    "##% of nonzero term\n",
    "(data_X2.nnz)/(data_X2.shape[0]*data_X2.shape[1])*100"
   ]
  },
  {
   "cell_type": "code",
   "execution_count": 25,
   "metadata": {},
   "outputs": [
    {
     "data": {
      "text/plain": [
       "((5572, 9376), (5572, 9376))"
      ]
     },
     "execution_count": 25,
     "metadata": {},
     "output_type": "execute_result"
    }
   ],
   "source": [
    "data_X.shape, data_X2.shape"
   ]
  },
  {
   "cell_type": "code",
   "execution_count": 26,
   "metadata": {
    "scrolled": true
   },
   "outputs": [],
   "source": [
    "dictionary = np.array(vectorizer.get_feature_names())"
   ]
  },
  {
   "cell_type": "code",
   "execution_count": 20,
   "metadata": {
    "scrolled": true
   },
   "outputs": [
    {
     "data": {
      "text/plain": [
       "<5572x9376 sparse matrix of type '<class 'numpy.int64'>'\n",
       "\twith 47254 stored elements in Compressed Sparse Row format>"
      ]
     },
     "execution_count": 20,
     "metadata": {},
     "output_type": "execute_result"
    }
   ],
   "source": [
    "vectorizer.transform(data['cleaned text'])"
   ]
  },
  {
   "cell_type": "code",
   "execution_count": 21,
   "metadata": {},
   "outputs": [
    {
     "data": {
      "text/plain": [
       "<5572x9376 sparse matrix of type '<class 'numpy.float64'>'\n",
       "\twith 47254 stored elements in Compressed Sparse Row format>"
      ]
     },
     "execution_count": 21,
     "metadata": {},
     "output_type": "execute_result"
    }
   ],
   "source": [
    "vectorizer2.transform(data['cleaned text'])"
   ]
  },
  {
   "cell_type": "markdown",
   "metadata": {},
   "source": [
    "## Split data"
   ]
  },
  {
   "cell_type": "code",
   "execution_count": 27,
   "metadata": {},
   "outputs": [],
   "source": [
    "X_tr, X_te, y_tr, y_te = \\\n",
    "    model_selection.train_test_split(data_X, data.cat, test_size = 0.2, random_state = 1)"
   ]
  },
  {
   "cell_type": "code",
   "execution_count": 29,
   "metadata": {},
   "outputs": [],
   "source": [
    "X_tr2, X_te2, y_tr2, y_te2 = \\\n",
    "    model_selection.train_test_split(data_X2, data.cat, test_size = 0.2, random_state = 1)"
   ]
  },
  {
   "cell_type": "code",
   "execution_count": 30,
   "metadata": {},
   "outputs": [
    {
     "data": {
      "text/plain": [
       "((4457, 9376), (1115, 9376), (4457, 9376), (1115, 9376))"
      ]
     },
     "execution_count": 30,
     "metadata": {},
     "output_type": "execute_result"
    }
   ],
   "source": [
    "X_tr.shape, X_te.shape, X_tr2.shape, X_te2.shape"
   ]
  },
  {
   "cell_type": "markdown",
   "metadata": {},
   "source": [
    "## SVC and KNN"
   ]
  },
  {
   "cell_type": "code",
   "execution_count": 31,
   "metadata": {},
   "outputs": [],
   "source": [
    "##function to tune parameter for each model\n",
    "# Need to spicify metrics, kernel set, C set to use\n",
    "def svc_tune_parameter(X, y, metric, kernel_set, C_set, cv):\n",
    "    S = {}\n",
    "    for k in kernel_set:\n",
    "        score = {}\n",
    "        for c in C_set:\n",
    "            model = SVC(C = c, kernel = k)\n",
    "            s = model_selection.cross_validate(model, X, y, scoring = metric, cv = cv)\n",
    "            score[c] = s\n",
    "        S[k] = score\n",
    "    return S\n",
    "\n",
    "def knn_tune_parameter(X, y, metric, Weight, N_neighbors, cv):\n",
    "    S = {}\n",
    "    for w in Weight:\n",
    "        score = {}\n",
    "        for n in N_neighbors:\n",
    "            model = KNeighborsClassifier(n_neighbors = n, weights = w)\n",
    "            s = model_selection.cross_validate(model, X, y, scoring = metric, cv = cv)\n",
    "            score[n] = s\n",
    "        S[w] = score\n",
    "    return S\n",
    "\n",
    "##return the mean score for 5-fold cross-validation with given metric\n",
    "def mean_calculator(metric, kernel, C, S_dict):\n",
    "    return(np.mean(S_dict[kernel][C][metric]))\n",
    "\n",
    "##calculate the max score with given metric, crossing kernel and C\n",
    "def best_parameter(metric, kernel, C, S_dict):\n",
    "    M = {}\n",
    "    for k in kernel:\n",
    "        mid = {}\n",
    "        for c in C:\n",
    "            mean = mean_calculator(metric, k, c, S_dict)\n",
    "            mid[c] = mean\n",
    "        M[k] = mid\n",
    "        \n",
    "    max_c_kernel = {}\n",
    "    for k in kernel:\n",
    "        max_c_kernel[k] = max(M[k].items(), key = lambda x: x[1])\n",
    "    \n",
    "    \n",
    "    max_kernel = max(max_c_kernel.items(), key = lambda x: x[1][1])\n",
    "        \n",
    "    return (max_kernel, max_c_kernel, M)"
   ]
  },
  {
   "cell_type": "markdown",
   "metadata": {},
   "source": [
    "### For CountVectorizer"
   ]
  },
  {
   "cell_type": "code",
   "execution_count": 174,
   "metadata": {},
   "outputs": [],
   "source": [
    "metric = {'Accuracy': make_scorer(accuracy_score), \\\n",
    "                     'precision': make_scorer(precision_score), \\\n",
    "                     'recall': make_scorer(recall_score), \\\n",
    "                     'AUC': make_scorer(roc_auc_score), \\\n",
    "                     'precision-recall curve' : make_scorer(average_precision_score),\\\n",
    "                     'f1' : make_scorer(f1_score)}\n",
    "kernel_set = ['linear', 'rbf', 'poly', 'sigmoid']\n",
    "C_set = range(1,6)\n",
    "s = svc_tune_parameter(X_tr, y_tr, metric, kernel_set, C_set, cv = 5)\n",
    "metric = 'test_AUC'\n",
    "compare_result = best_parameter(metric, kernel_set, C_set, s)"
   ]
  },
  {
   "cell_type": "code",
   "execution_count": 175,
   "metadata": {},
   "outputs": [
    {
     "data": {
      "text/plain": [
       "(('linear', (1, 0.9219612624840735)),\n",
       " {'linear': (1, 0.9219612624840735),\n",
       "  'rbf': (1, 0.5),\n",
       "  'poly': (1, 0.5),\n",
       "  'sigmoid': (1, 0.5)},\n",
       " {'linear': {1: 0.9219612624840735,\n",
       "   2: 0.9203219182217784,\n",
       "   3: 0.9203219182217784,\n",
       "   4: 0.9203219182217784,\n",
       "   5: 0.9203219182217784},\n",
       "  'rbf': {1: 0.5, 2: 0.5, 3: 0.5, 4: 0.5, 5: 0.5},\n",
       "  'poly': {1: 0.5, 2: 0.5, 3: 0.5, 4: 0.5, 5: 0.5},\n",
       "  'sigmoid': {1: 0.5, 2: 0.5, 3: 0.5, 4: 0.5, 5: 0.5}})"
      ]
     },
     "execution_count": 175,
     "metadata": {},
     "output_type": "execute_result"
    }
   ],
   "source": [
    "compare_result "
   ]
  },
  {
   "cell_type": "code",
   "execution_count": 176,
   "metadata": {},
   "outputs": [],
   "source": [
    "metric = {'Accuracy': make_scorer(accuracy_score), \\\n",
    "                     'precision': make_scorer(precision_score), \\\n",
    "                     'recall': make_scorer(recall_score), \\\n",
    "                     'AUC': make_scorer(roc_auc_score), \\\n",
    "                     'precision-recall curve' : make_scorer(average_precision_score),\\\n",
    "                     'f1' : make_scorer(f1_score)}\n",
    "Weights = ['uniform', 'distance']\n",
    "N_neighbors = range(5,16)\n",
    "s2 = knn_tune_parameter(X_tr, y_tr, metric, Weights, N_neighbors, cv = 5)\n",
    "metric = 'test_AUC'\n",
    "compare_result2 = best_parameter(metric, Weights, N_neighbors, s2)"
   ]
  },
  {
   "cell_type": "code",
   "execution_count": 177,
   "metadata": {},
   "outputs": [
    {
     "data": {
      "text/plain": [
       "(('distance', (5, 0.721169218263108)),\n",
       " {'uniform': (6, 0.6463487332339792), 'distance': (5, 0.721169218263108)},\n",
       " {'uniform': {5: 0.644709388971684,\n",
       "   6: 0.6463487332339792,\n",
       "   7: 0.6085151063541525,\n",
       "   8: 0.6109808968974394,\n",
       "   9: 0.5789188456848665,\n",
       "   10: 0.5805649640970059,\n",
       "   11: 0.5559206069638261,\n",
       "   12: 0.5600392900690964,\n",
       "   13: 0.5304362552499662,\n",
       "   14: 0.5312559273811137,\n",
       "   15: 0.5197669692453596},\n",
       "  'distance': {5: 0.721169218263108,\n",
       "   6: 0.7080205934155264,\n",
       "   7: 0.697317436661699,\n",
       "   8: 0.6923926297249695,\n",
       "   9: 0.6808833491396831,\n",
       "   10: 0.6751320959219618,\n",
       "   11: 0.662816691505216,\n",
       "   12: 0.6562457661563474,\n",
       "   13: 0.6455629318520526,\n",
       "   14: 0.6365194418100529,\n",
       "   15: 0.6324075328546267}})"
      ]
     },
     "execution_count": 177,
     "metadata": {},
     "output_type": "execute_result"
    }
   ],
   "source": [
    "compare_result2"
   ]
  },
  {
   "cell_type": "markdown",
   "metadata": {},
   "source": [
    "### For TfidfVectorizer"
   ]
  },
  {
   "cell_type": "code",
   "execution_count": 33,
   "metadata": {},
   "outputs": [],
   "source": [
    "metric = {'Accuracy': make_scorer(accuracy_score), \\\n",
    "                     'precision': make_scorer(precision_score), \\\n",
    "                     'recall': make_scorer(recall_score), \\\n",
    "                     'AUC': make_scorer(roc_auc_score), \\\n",
    "                     'precision-recall curve' : make_scorer(average_precision_score),\\\n",
    "                     'f1' : make_scorer(f1_score)}\n",
    "kernel_set = ['linear', 'rbf', 'poly', 'sigmoid']\n",
    "C_set = range(1,6)\n",
    "s3 = svc_tune_parameter(X_tr2, y_tr2, metric, kernel_set, C_set, cv = 5)\n",
    "metric = 'test_AUC'\n",
    "compare_result3 = best_parameter(metric, kernel_set, C_set, s3)"
   ]
  },
  {
   "cell_type": "code",
   "execution_count": 34,
   "metadata": {},
   "outputs": [
    {
     "data": {
      "text/plain": [
       "(('linear', (2, 0.9221380203520478)),\n",
       " {'linear': (2, 0.9221380203520478),\n",
       "  'rbf': (1, 0.5),\n",
       "  'poly': (1, 0.5),\n",
       "  'sigmoid': (1, 0.5)},\n",
       " {'linear': {1: 0.909242168067224,\n",
       "   2: 0.9221380203520478,\n",
       "   3: 0.9206217720697787,\n",
       "   4: 0.9217011844606666,\n",
       "   5: 0.9206149979199345},\n",
       "  'rbf': {1: 0.5, 2: 0.5, 3: 0.5, 4: 0.5, 5: 0.5},\n",
       "  'poly': {1: 0.5, 2: 0.5, 3: 0.5, 4: 0.5, 5: 0.5},\n",
       "  'sigmoid': {1: 0.5, 2: 0.5, 3: 0.5, 4: 0.5, 5: 0.5}})"
      ]
     },
     "execution_count": 34,
     "metadata": {},
     "output_type": "execute_result"
    }
   ],
   "source": [
    "compare_result3"
   ]
  },
  {
   "cell_type": "code",
   "execution_count": 39,
   "metadata": {},
   "outputs": [],
   "source": [
    "metric = {'Accuracy': make_scorer(accuracy_score), \\\n",
    "                     'precision': make_scorer(precision_score), \\\n",
    "                     'recall': make_scorer(recall_score), \\\n",
    "                     'AUC': make_scorer(roc_auc_score), \\\n",
    "                     'precision-recall curve' : make_scorer(average_precision_score),\\\n",
    "                     'f1' : make_scorer(f1_score)}\n",
    "Weights = ['uniform', 'distance']\n",
    "N_neighbors = range(5,16)\n",
    "s4 = knn_tune_parameter(X_tr2, y_tr2, metric, Weights, N_neighbors, cv = 5)\n",
    "metric = 'test_AUC'\n",
    "compare_result4 = best_parameter(metric, Weights, N_neighbors, s4)"
   ]
  },
  {
   "cell_type": "code",
   "execution_count": 40,
   "metadata": {},
   "outputs": [
    {
     "data": {
      "text/plain": [
       "(('distance', (15, 0.7802860626705633)),\n",
       " {'uniform': (10, 0.7615296030348191), 'distance': (15, 0.7802860626705633)},\n",
       " {'uniform': {5: 0.6077225308223818,\n",
       "   6: 0.6429684324617261,\n",
       "   7: 0.6018561170573093,\n",
       "   8: 0.7221243733911394,\n",
       "   9: 0.6777198211624441,\n",
       "   10: 0.7615296030348191,\n",
       "   11: 0.7278214334101071,\n",
       "   12: 0.7545555189966516,\n",
       "   13: 0.7291942632628177,\n",
       "   14: 0.7542686821375346,\n",
       "   15: 0.7314070876962084},\n",
       "  'distance': {5: 0.687461048638396,\n",
       "   6: 0.6874475003387076,\n",
       "   7: 0.6981100121934698,\n",
       "   8: 0.7096667118276656,\n",
       "   9: 0.7327597886465249,\n",
       "   10: 0.7492074244682293,\n",
       "   11: 0.7689202005148352,\n",
       "   12: 0.7754979000135483,\n",
       "   13: 0.7746714537325565,\n",
       "   14: 0.7735852671918246,\n",
       "   15: 0.7802860626705633}})"
      ]
     },
     "execution_count": 40,
     "metadata": {},
     "output_type": "execute_result"
    }
   ],
   "source": [
    "compare_result4"
   ]
  },
  {
   "cell_type": "markdown",
   "metadata": {},
   "source": [
    "#### For CountVectorizer(), SVC is linear with c = 1, KNN is distance with n = 5, for TfidfVectorizer(), SVC is lienar with c = 2, KNN is distance with n = 15"
   ]
  },
  {
   "cell_type": "code",
   "execution_count": 42,
   "metadata": {},
   "outputs": [],
   "source": [
    "M1 = SVC(C = 1, kernel = 'linear')\n",
    "M2 = KNeighborsClassifier(n_neighbors = 5, weights = 'distance')\n",
    "M3 = SVC(C = 2, kernel = 'linear')\n",
    "M4 = KNeighborsClassifier(n_neighbors = 15, weights = 'distance')"
   ]
  },
  {
   "cell_type": "code",
   "execution_count": 66,
   "metadata": {},
   "outputs": [
    {
     "data": {
      "text/html": [
       "<div>\n",
       "<style scoped>\n",
       "    .dataframe tbody tr th:only-of-type {\n",
       "        vertical-align: middle;\n",
       "    }\n",
       "\n",
       "    .dataframe tbody tr th {\n",
       "        vertical-align: top;\n",
       "    }\n",
       "\n",
       "    .dataframe thead th {\n",
       "        text-align: right;\n",
       "    }\n",
       "</style>\n",
       "<table border=\"1\" class=\"dataframe\">\n",
       "  <thead>\n",
       "    <tr style=\"text-align: right;\">\n",
       "      <th></th>\n",
       "      <th>Actual spam</th>\n",
       "      <th>Actual ham</th>\n",
       "    </tr>\n",
       "  </thead>\n",
       "  <tbody>\n",
       "    <tr>\n",
       "      <th>Predict spam</th>\n",
       "      <td>130</td>\n",
       "      <td>0</td>\n",
       "    </tr>\n",
       "    <tr>\n",
       "      <th>Predict ham</th>\n",
       "      <td>9</td>\n",
       "      <td>976</td>\n",
       "    </tr>\n",
       "  </tbody>\n",
       "</table>\n",
       "</div>"
      ],
      "text/plain": [
       "              Actual spam  Actual ham\n",
       "Predict spam          130           0\n",
       "Predict ham             9         976"
      ]
     },
     "execution_count": 66,
     "metadata": {},
     "output_type": "execute_result"
    }
   ],
   "source": [
    "M1.fit(X_tr, y_tr)\n",
    "pre = M1.predict(X_te)\n",
    "pd.DataFrame(confusion_matrix(pre, y_te),\\\n",
    "             index = ['Predict spam', 'Predict ham'], \\\n",
    "             columns = ['Actual spam', 'Actual ham'])"
   ]
  },
  {
   "cell_type": "code",
   "execution_count": 71,
   "metadata": {},
   "outputs": [
    {
     "name": "stdout",
     "output_type": "stream",
     "text": [
      "              precision    recall  f1-score   support\n",
      "\n",
      "           0       0.94      1.00      0.97       130\n",
      "           1       1.00      0.99      1.00       985\n",
      "\n",
      "    accuracy                           0.99      1115\n",
      "   macro avg       0.97      1.00      0.98      1115\n",
      "weighted avg       0.99      0.99      0.99      1115\n",
      "\n"
     ]
    }
   ],
   "source": [
    "print(classification_report(pre, y_te))"
   ]
  },
  {
   "cell_type": "code",
   "execution_count": 61,
   "metadata": {},
   "outputs": [
    {
     "data": {
      "text/html": [
       "<div>\n",
       "<style scoped>\n",
       "    .dataframe tbody tr th:only-of-type {\n",
       "        vertical-align: middle;\n",
       "    }\n",
       "\n",
       "    .dataframe tbody tr th {\n",
       "        vertical-align: top;\n",
       "    }\n",
       "\n",
       "    .dataframe thead th {\n",
       "        text-align: right;\n",
       "    }\n",
       "</style>\n",
       "<table border=\"1\" class=\"dataframe\">\n",
       "  <thead>\n",
       "    <tr style=\"text-align: right;\">\n",
       "      <th></th>\n",
       "      <th>Actual spam</th>\n",
       "      <th>Actual ham</th>\n",
       "    </tr>\n",
       "  </thead>\n",
       "  <tbody>\n",
       "    <tr>\n",
       "      <th>Predict spam</th>\n",
       "      <td>85</td>\n",
       "      <td>0</td>\n",
       "    </tr>\n",
       "    <tr>\n",
       "      <th>Predict ham</th>\n",
       "      <td>54</td>\n",
       "      <td>976</td>\n",
       "    </tr>\n",
       "  </tbody>\n",
       "</table>\n",
       "</div>"
      ],
      "text/plain": [
       "              Actual spam  Actual ham\n",
       "Predict spam           85           0\n",
       "Predict ham            54         976"
      ]
     },
     "execution_count": 61,
     "metadata": {},
     "output_type": "execute_result"
    }
   ],
   "source": [
    "M2.fit(X_tr, y_tr)\n",
    "pre2 = M2.predict(X_te)\n",
    "pd.DataFrame(confusion_matrix(pre2, y_te),\\\n",
    "             index = ['Predict spam', 'Predict ham'], \\\n",
    "             columns = ['Actual spam', 'Actual ham'])"
   ]
  },
  {
   "cell_type": "code",
   "execution_count": 72,
   "metadata": {},
   "outputs": [
    {
     "name": "stdout",
     "output_type": "stream",
     "text": [
      "              precision    recall  f1-score   support\n",
      "\n",
      "           0       0.61      1.00      0.76        85\n",
      "           1       1.00      0.95      0.97      1030\n",
      "\n",
      "    accuracy                           0.95      1115\n",
      "   macro avg       0.81      0.97      0.87      1115\n",
      "weighted avg       0.97      0.95      0.96      1115\n",
      "\n"
     ]
    }
   ],
   "source": [
    "print(classification_report(pre2, y_te))"
   ]
  },
  {
   "cell_type": "code",
   "execution_count": 65,
   "metadata": {},
   "outputs": [
    {
     "data": {
      "text/html": [
       "<div>\n",
       "<style scoped>\n",
       "    .dataframe tbody tr th:only-of-type {\n",
       "        vertical-align: middle;\n",
       "    }\n",
       "\n",
       "    .dataframe tbody tr th {\n",
       "        vertical-align: top;\n",
       "    }\n",
       "\n",
       "    .dataframe thead th {\n",
       "        text-align: right;\n",
       "    }\n",
       "</style>\n",
       "<table border=\"1\" class=\"dataframe\">\n",
       "  <thead>\n",
       "    <tr style=\"text-align: right;\">\n",
       "      <th></th>\n",
       "      <th>Actual spam</th>\n",
       "      <th>Actual ham</th>\n",
       "    </tr>\n",
       "  </thead>\n",
       "  <tbody>\n",
       "    <tr>\n",
       "      <th>Predict spam</th>\n",
       "      <td>128</td>\n",
       "      <td>0</td>\n",
       "    </tr>\n",
       "    <tr>\n",
       "      <th>Predict ham</th>\n",
       "      <td>11</td>\n",
       "      <td>976</td>\n",
       "    </tr>\n",
       "  </tbody>\n",
       "</table>\n",
       "</div>"
      ],
      "text/plain": [
       "              Actual spam  Actual ham\n",
       "Predict spam          128           0\n",
       "Predict ham            11         976"
      ]
     },
     "execution_count": 65,
     "metadata": {},
     "output_type": "execute_result"
    }
   ],
   "source": [
    "M3.fit(X_tr2, y_tr2)\n",
    "pre3 = M3.predict(X_te2)\n",
    "pd.DataFrame(confusion_matrix(pre3, y_te2),\\\n",
    "             index = ['Predict spam', 'Predict ham'], \\\n",
    "             columns = ['Actual spam', 'Actual ham'])"
   ]
  },
  {
   "cell_type": "code",
   "execution_count": 73,
   "metadata": {},
   "outputs": [
    {
     "name": "stdout",
     "output_type": "stream",
     "text": [
      "              precision    recall  f1-score   support\n",
      "\n",
      "           0       0.92      1.00      0.96       128\n",
      "           1       1.00      0.99      0.99       987\n",
      "\n",
      "    accuracy                           0.99      1115\n",
      "   macro avg       0.96      0.99      0.98      1115\n",
      "weighted avg       0.99      0.99      0.99      1115\n",
      "\n"
     ]
    }
   ],
   "source": [
    "print(classification_report(pre3, y_te2))"
   ]
  },
  {
   "cell_type": "code",
   "execution_count": 69,
   "metadata": {},
   "outputs": [
    {
     "data": {
      "text/html": [
       "<div>\n",
       "<style scoped>\n",
       "    .dataframe tbody tr th:only-of-type {\n",
       "        vertical-align: middle;\n",
       "    }\n",
       "\n",
       "    .dataframe tbody tr th {\n",
       "        vertical-align: top;\n",
       "    }\n",
       "\n",
       "    .dataframe thead th {\n",
       "        text-align: right;\n",
       "    }\n",
       "</style>\n",
       "<table border=\"1\" class=\"dataframe\">\n",
       "  <thead>\n",
       "    <tr style=\"text-align: right;\">\n",
       "      <th></th>\n",
       "      <th>Actual spam</th>\n",
       "      <th>Actual ham</th>\n",
       "    </tr>\n",
       "  </thead>\n",
       "  <tbody>\n",
       "    <tr>\n",
       "      <th>Predict spam</th>\n",
       "      <td>87</td>\n",
       "      <td>0</td>\n",
       "    </tr>\n",
       "    <tr>\n",
       "      <th>Predict ham</th>\n",
       "      <td>52</td>\n",
       "      <td>976</td>\n",
       "    </tr>\n",
       "  </tbody>\n",
       "</table>\n",
       "</div>"
      ],
      "text/plain": [
       "              Actual spam  Actual ham\n",
       "Predict spam           87           0\n",
       "Predict ham            52         976"
      ]
     },
     "execution_count": 69,
     "metadata": {},
     "output_type": "execute_result"
    }
   ],
   "source": [
    "M4.fit(X_tr2, y_tr2)\n",
    "pre4 = M4.predict(X_te2)\n",
    "pd.DataFrame(confusion_matrix(pre4, y_te2),\\\n",
    "             index = ['Predict spam', 'Predict ham'], \\\n",
    "             columns = ['Actual spam', 'Actual ham'])"
   ]
  },
  {
   "cell_type": "code",
   "execution_count": 74,
   "metadata": {},
   "outputs": [
    {
     "name": "stdout",
     "output_type": "stream",
     "text": [
      "              precision    recall  f1-score   support\n",
      "\n",
      "           0       0.63      1.00      0.77        87\n",
      "           1       1.00      0.95      0.97      1028\n",
      "\n",
      "    accuracy                           0.95      1115\n",
      "   macro avg       0.81      0.97      0.87      1115\n",
      "weighted avg       0.97      0.95      0.96      1115\n",
      "\n"
     ]
    }
   ],
   "source": [
    "print(classification_report(pre4, y_te2))"
   ]
  }
 ],
 "metadata": {
  "kernelspec": {
   "display_name": "Python 3",
   "language": "python",
   "name": "python3"
  },
  "language_info": {
   "codemirror_mode": {
    "name": "ipython",
    "version": 3
   },
   "file_extension": ".py",
   "mimetype": "text/x-python",
   "name": "python",
   "nbconvert_exporter": "python",
   "pygments_lexer": "ipython3",
   "version": "3.6.9"
  }
 },
 "nbformat": 4,
 "nbformat_minor": 2
}
