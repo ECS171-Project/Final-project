{
 "cells": [
  {
   "cell_type": "markdown",
   "metadata": {},
   "source": [
    "## MODELS \n",
    "\n",
    "- SVC\n",
    "- KNN"
   ]
  },
  {
   "cell_type": "code",
   "execution_count": 1,
   "metadata": {},
   "outputs": [],
   "source": [
    "import numpy as np \n",
    "import pandas as pd \n",
    "\n",
    "import matplotlib.pyplot as plt\n",
    "import seaborn as sns\n",
    "\n",
    "import string\n",
    "\n",
    "import nltk\n",
    "from nltk.corpus import stopwords\n",
    "from nltk.tokenize import word_tokenize\n",
    "\n",
    "from wordcloud import WordCloud\n",
    "\n",
    "import sklearn\n",
    "from sklearn import model_selection\n",
    "from sklearn.feature_extraction.text import CountVectorizer, TfidfVectorizer\n",
    "from sklearn.metrics import classification_report, confusion_matrix, accuracy_score,\\\n",
    "                            roc_curve, auc, roc_auc_score, f1_score, precision_recall_curve,\\\n",
    "                            precision_score, average_precision_score, recall_score\n",
    "from sklearn.metrics.scorer import make_scorer\n",
    "from sklearn.svm import SVC\n",
    "from sklearn.neighbors import KNeighborsClassifier\n",
    "import pickle"
   ]
  },
  {
   "cell_type": "code",
   "execution_count": 2,
   "metadata": {},
   "outputs": [],
   "source": [
    "import warnings\n",
    "warnings.filterwarnings(\"ignore\")\n",
    "import scikitplot \n",
    "from sklearn import metrics\n",
    "from sklearn.metrics import roc_curve, auc"
   ]
  },
  {
   "cell_type": "markdown",
   "metadata": {},
   "source": [
    "## Read preprocessed data that stored in pickles"
   ]
  },
  {
   "cell_type": "code",
   "execution_count": 3,
   "metadata": {},
   "outputs": [],
   "source": [
    "## vectorization CountVectorizer()\n",
    "with open('train_data.pkl', 'rb') as f:\n",
    "      X_tr, y_tr = pickle.load(f)\n",
    "        \n",
    "with open('test_data.pkl', 'rb') as f:\n",
    "      X_te, y_te = pickle.load(f)\n",
    "        \n",
    "## vectorization TfidfVectorizer()\n",
    "with open('train_data2.pkl', 'rb') as f:\n",
    "      X_tr2, y_tr2 = pickle.load(f)\n",
    "        \n",
    "with open('test_data2.pkl', 'rb') as f:\n",
    "      X_te2, y_te2 = pickle.load(f)"
   ]
  },
  {
   "cell_type": "markdown",
   "metadata": {},
   "source": [
    "## SVC and KNN"
   ]
  },
  {
   "cell_type": "code",
   "execution_count": 4,
   "metadata": {},
   "outputs": [],
   "source": [
    "## function to turn parameters for SVC\n",
    "def svc_tune_parameter(X, y, metric, kernel_set, C_set, cv):\n",
    "    \n",
    "    \"\"\" Tune parameters for SVC classifier.\n",
    "    Parameters:\n",
    "        X(array-like, sparse matrix): Training set\n",
    "        y(array-like):labels \n",
    "        metric(dict): Evaluation metrics\n",
    "        kernel_set(list): Different kernel tricks for tuning\n",
    "        C_set(list): Penalty parameter C of the error term\n",
    "        cv(int): k-folds of cross validation\n",
    "    \n",
    "    Return: \n",
    "        S(dict): scores for different tuning parameters\n",
    "    \"\"\"\n",
    "    \n",
    "    S = {}\n",
    "    for k in kernel_set:\n",
    "        score = {}\n",
    "        for c in C_set:\n",
    "            model = SVC(C = c, kernel = k)\n",
    "            s = model_selection.cross_validate(model, X, y, scoring = metric, cv = cv)\n",
    "            score[c] = s\n",
    "        S[k] = score\n",
    "    return S"
   ]
  },
  {
   "cell_type": "code",
   "execution_count": 5,
   "metadata": {},
   "outputs": [],
   "source": [
    "## function for tuning parameters for KNN\n",
    "def knn_tune_parameter(X, y, metric, Weight, N_neighbors, cv):\n",
    "    \n",
    "    \"\"\" Tune parameters for KNN classifier.\n",
    "    \n",
    "    Parameters:\n",
    "        X(array-like, sparse matrix): Training set\n",
    "        y(array-like):labels \n",
    "        metric(dict): Evaluation metrics\n",
    "        Weight(list): Different weight methods for tuning\n",
    "        N_neighbors(list): Number of K nearest neighbors\n",
    "        cv(int): k-folds of cross validation\n",
    "    \n",
    "    Return: \n",
    "        S(dict): scores for different tuning parameters\n",
    "    \"\"\"\n",
    "    \n",
    "    S = {}\n",
    "    for w in Weight:\n",
    "        score = {}\n",
    "        for n in N_neighbors:\n",
    "            model = KNeighborsClassifier(n_neighbors = n, weights = w)\n",
    "            s = model_selection.cross_validate(model, X, y, scoring = metric, cv = cv)\n",
    "            score[n] = s\n",
    "        S[w] = score\n",
    "    return S\n"
   ]
  },
  {
   "cell_type": "code",
   "execution_count": 6,
   "metadata": {},
   "outputs": [],
   "source": [
    "##return the mean score for 5-fold cross-validation with given metric\n",
    "def mean_calculator(metric, kernel, C, S_dict):\n",
    "    \n",
    "    \"\"\" Calculate mean score for cross validation\n",
    "    \n",
    "    Parameters:\n",
    "        metric(str): Evaluation metric\n",
    "        kernel(list): Tuning parameter \n",
    "        C(list): Tuning parameter\n",
    "        s_dict: Scores for different tuning parameters\n",
    "        \n",
    "    Return:\n",
    "        (int): Mean score for cross validation.\n",
    "    \n",
    "    \"\"\"\n",
    "    return(np.mean(S_dict[kernel][C][metric]))"
   ]
  },
  {
   "cell_type": "code",
   "execution_count": 7,
   "metadata": {},
   "outputs": [],
   "source": [
    "##calculate the max score with given metric, crossing kernel and C\n",
    "def best_parameter(metric, kernel, C, S_dict):\n",
    "        \n",
    "    \"\"\" Calculate best score for best model.\n",
    "    \n",
    "    Parameters:\n",
    "        metric(str): Evaluation metric\n",
    "        kernel(list): Tuning parameter \n",
    "        C(list): Tuning parameter\n",
    "        s_dict: Scores for different tuning parameters\n",
    "        \n",
    "    Return:\n",
    "        (dict): Max score with given metric, crossing kernel and C\n",
    "    \n",
    "    \"\"\"\n",
    "    \n",
    "    M = {}\n",
    "    for k in kernel:\n",
    "        mid = {}\n",
    "        for c in C:\n",
    "            mean = mean_calculator(metric, k, c, S_dict)\n",
    "            mid[c] = mean\n",
    "        M[k] = mid\n",
    "        \n",
    "    max_c_kernel = {}\n",
    "    for k in kernel:\n",
    "        max_c_kernel[k] = max(M[k].items(), key = lambda x: x[1])\n",
    "    \n",
    "    \n",
    "    max_kernel = max(max_c_kernel.items(), key = lambda x: x[1][1])\n",
    "        \n",
    "    return (max_kernel, max_c_kernel, M)"
   ]
  },
  {
   "cell_type": "code",
   "execution_count": 8,
   "metadata": {},
   "outputs": [],
   "source": [
    "def report_best_model(results):\n",
    "    \"\"\"Report BEST model\n",
    "    \n",
    "    Parameters:\n",
    "        results(dic): All results for cross validation\n",
    "    Return:\n",
    "        best model\n",
    "    \"\"\" \n",
    "    best_para = results[0]\n",
    "    print('Best parameters are:', best_para)"
   ]
  },
  {
   "cell_type": "code",
   "execution_count": 9,
   "metadata": {},
   "outputs": [],
   "source": [
    "def report_results1(results,para1,para2):\n",
    "    \"\"\"Report best results for parameter1\n",
    "    \n",
    "    Parameters:\n",
    "        results(dict):All results for cross validation\n",
    "        para1(str): Tuning parameters\n",
    "        para2(str): Tuning parameters\n",
    "        \n",
    "    Returns:\n",
    "        df1(dataframe):report best results for parameter1\n",
    "    \"\"\"\n",
    "    # best paramerts for different parameter\n",
    "    a = [[k,list(v)] for k,v in results[1].items()]\n",
    "    a = [[l[0], l[1][0], l[1][1]] for l in a]\n",
    "    df1 = pd.DataFrame(a,columns = [para1,para2,'F1_score'])\n",
    "        \n",
    "    return df1"
   ]
  },
  {
   "cell_type": "code",
   "execution_count": 10,
   "metadata": {},
   "outputs": [],
   "source": [
    "def report_results2(results,para1,para2):\n",
    "    \"\"\"Report best results for parameter1\n",
    "    \n",
    "    Parameters:\n",
    "        results(dict):All results for cross validation\n",
    "        para1(str): Tuning parameters\n",
    "        para2(str): Tuning parameters\n",
    "        \n",
    "    Returns:\n",
    "        df2(dataframe):Report best results for parameter1 and parameters\n",
    "    \"\"\"\n",
    "# best scores for different parameter 1 and parameter 2\n",
    "    b = results[2]\n",
    "    df2 = pd.DataFrame()\n",
    "    for i in b.keys():\n",
    "        temp = pd.DataFrame.from_dict(b[i],orient='index',columns = [i])\n",
    "        df2 = pd.concat((df2,temp),axis = 1)\n",
    "    return df2"
   ]
  },
  {
   "cell_type": "markdown",
   "metadata": {},
   "source": [
    "### Model Selection  For CountVectorizer"
   ]
  },
  {
   "cell_type": "code",
   "execution_count": 17,
   "metadata": {},
   "outputs": [],
   "source": [
    "#specify metric list output for 5-fold cross validation\n",
    "#choose to use test f1 score to compare each combinations of parameters of model\n",
    "metric = {'Accuracy': make_scorer(accuracy_score), \\\n",
    "                     'precision': make_scorer(precision_score), \\\n",
    "                     'recall': make_scorer(recall_score), \\\n",
    "                     'AUC': make_scorer(roc_auc_score), \\\n",
    "                     'precision-recall curve' : make_scorer(average_precision_score),\\\n",
    "                     'f1' : make_scorer(f1_score)}\n",
    "\n",
    "metric_used = 'test_f1'\n",
    "\n",
    "#parameter set to tune\n",
    "# for SVC, tune kernel list and penalty C parameters\n",
    "kernel_set = ['linear', 'rbf', 'poly', 'sigmoid']\n",
    "C_set = range(1,6)\n",
    "Weights = ['uniform', 'distance']\n",
    "N_neighbors = range(5,16)"
   ]
  },
  {
   "cell_type": "code",
   "execution_count": 18,
   "metadata": {},
   "outputs": [],
   "source": [
    "#tuning parameters for SVC and KNN with CountVectorizer()\n",
    "s = svc_tune_parameter(X_tr, y_tr, metric, kernel_set, C_set, cv = 5)\n",
    "s2 = knn_tune_parameter(X_tr, y_tr, metric, Weights, N_neighbors, cv = 5)"
   ]
  },
  {
   "cell_type": "code",
   "execution_count": 19,
   "metadata": {},
   "outputs": [],
   "source": [
    "# compare acrocss each parameters combinations using the mean score of 5-fold crossvalidation\n",
    "compare_result = best_parameter(metric_used, kernel_set, C_set, s)"
   ]
  },
  {
   "cell_type": "markdown",
   "metadata": {},
   "source": [
    "#### cross validation results for SVM(CountVectorizer)"
   ]
  },
  {
   "cell_type": "code",
   "execution_count": 68,
   "metadata": {},
   "outputs": [
    {
     "name": "stdout",
     "output_type": "stream",
     "text": [
      "Best parameters are: ('linear', (1, 0.9886485721339641))\n"
     ]
    }
   ],
   "source": [
    "# report best model\n",
    "report_best_model(compare_result)"
   ]
  },
  {
   "cell_type": "code",
   "execution_count": 69,
   "metadata": {},
   "outputs": [
    {
     "data": {
      "text/html": [
       "<div>\n",
       "<style scoped>\n",
       "    .dataframe tbody tr th:only-of-type {\n",
       "        vertical-align: middle;\n",
       "    }\n",
       "\n",
       "    .dataframe tbody tr th {\n",
       "        vertical-align: top;\n",
       "    }\n",
       "\n",
       "    .dataframe thead th {\n",
       "        text-align: right;\n",
       "    }\n",
       "</style>\n",
       "<table border=\"1\" class=\"dataframe\">\n",
       "  <thead>\n",
       "    <tr style=\"text-align: right;\">\n",
       "      <th></th>\n",
       "      <th>kenerl</th>\n",
       "      <th>C</th>\n",
       "      <th>F1_score</th>\n",
       "    </tr>\n",
       "  </thead>\n",
       "  <tbody>\n",
       "    <tr>\n",
       "      <th>0</th>\n",
       "      <td>linear</td>\n",
       "      <td>1</td>\n",
       "      <td>0.988649</td>\n",
       "    </tr>\n",
       "    <tr>\n",
       "      <th>1</th>\n",
       "      <td>rbf</td>\n",
       "      <td>1</td>\n",
       "      <td>0.927658</td>\n",
       "    </tr>\n",
       "    <tr>\n",
       "      <th>2</th>\n",
       "      <td>poly</td>\n",
       "      <td>1</td>\n",
       "      <td>0.927658</td>\n",
       "    </tr>\n",
       "    <tr>\n",
       "      <th>3</th>\n",
       "      <td>sigmoid</td>\n",
       "      <td>1</td>\n",
       "      <td>0.927658</td>\n",
       "    </tr>\n",
       "  </tbody>\n",
       "</table>\n",
       "</div>"
      ],
      "text/plain": [
       "    kenerl  C  F1_score\n",
       "0   linear  1  0.988649\n",
       "1      rbf  1  0.927658\n",
       "2     poly  1  0.927658\n",
       "3  sigmoid  1  0.927658"
      ]
     },
     "execution_count": 69,
     "metadata": {},
     "output_type": "execute_result"
    }
   ],
   "source": [
    "report_results1(compare_result,\"kenerl\",'C')"
   ]
  },
  {
   "cell_type": "code",
   "execution_count": 70,
   "metadata": {},
   "outputs": [
    {
     "data": {
      "text/html": [
       "<div>\n",
       "<style scoped>\n",
       "    .dataframe tbody tr th:only-of-type {\n",
       "        vertical-align: middle;\n",
       "    }\n",
       "\n",
       "    .dataframe tbody tr th {\n",
       "        vertical-align: top;\n",
       "    }\n",
       "\n",
       "    .dataframe thead th {\n",
       "        text-align: right;\n",
       "    }\n",
       "</style>\n",
       "<table border=\"1\" class=\"dataframe\">\n",
       "  <thead>\n",
       "    <tr style=\"text-align: right;\">\n",
       "      <th></th>\n",
       "      <th>linear</th>\n",
       "      <th>rbf</th>\n",
       "      <th>poly</th>\n",
       "      <th>sigmoid</th>\n",
       "    </tr>\n",
       "  </thead>\n",
       "  <tbody>\n",
       "    <tr>\n",
       "      <th>1</th>\n",
       "      <td>0.988649</td>\n",
       "      <td>0.927658</td>\n",
       "      <td>0.927658</td>\n",
       "      <td>0.927658</td>\n",
       "    </tr>\n",
       "    <tr>\n",
       "      <th>2</th>\n",
       "      <td>0.988529</td>\n",
       "      <td>0.927658</td>\n",
       "      <td>0.927658</td>\n",
       "      <td>0.927658</td>\n",
       "    </tr>\n",
       "    <tr>\n",
       "      <th>3</th>\n",
       "      <td>0.988529</td>\n",
       "      <td>0.927658</td>\n",
       "      <td>0.927658</td>\n",
       "      <td>0.927658</td>\n",
       "    </tr>\n",
       "    <tr>\n",
       "      <th>4</th>\n",
       "      <td>0.988529</td>\n",
       "      <td>0.927658</td>\n",
       "      <td>0.927658</td>\n",
       "      <td>0.927658</td>\n",
       "    </tr>\n",
       "    <tr>\n",
       "      <th>5</th>\n",
       "      <td>0.988529</td>\n",
       "      <td>0.927658</td>\n",
       "      <td>0.927658</td>\n",
       "      <td>0.927658</td>\n",
       "    </tr>\n",
       "  </tbody>\n",
       "</table>\n",
       "</div>"
      ],
      "text/plain": [
       "     linear       rbf      poly   sigmoid\n",
       "1  0.988649  0.927658  0.927658  0.927658\n",
       "2  0.988529  0.927658  0.927658  0.927658\n",
       "3  0.988529  0.927658  0.927658  0.927658\n",
       "4  0.988529  0.927658  0.927658  0.927658\n",
       "5  0.988529  0.927658  0.927658  0.927658"
      ]
     },
     "execution_count": 70,
     "metadata": {},
     "output_type": "execute_result"
    }
   ],
   "source": [
    "report_results2(compare_result,\"kenerl\",'C')"
   ]
  },
  {
   "cell_type": "markdown",
   "metadata": {},
   "source": [
    "#### cross validation results for KNN(CountVectorizer)"
   ]
  },
  {
   "cell_type": "code",
   "execution_count": 71,
   "metadata": {},
   "outputs": [],
   "source": [
    "compare_result2 = best_parameter(metric_used, Weights, N_neighbors, s2)"
   ]
  },
  {
   "cell_type": "code",
   "execution_count": 88,
   "metadata": {},
   "outputs": [
    {
     "name": "stdout",
     "output_type": "stream",
     "text": [
      "Best parameters are: ('distance', (5, 0.9618656197315977))\n"
     ]
    }
   ],
   "source": [
    "report_best_model(compare_result2)"
   ]
  },
  {
   "cell_type": "code",
   "execution_count": 72,
   "metadata": {},
   "outputs": [
    {
     "data": {
      "text/html": [
       "<div>\n",
       "<style scoped>\n",
       "    .dataframe tbody tr th:only-of-type {\n",
       "        vertical-align: middle;\n",
       "    }\n",
       "\n",
       "    .dataframe tbody tr th {\n",
       "        vertical-align: top;\n",
       "    }\n",
       "\n",
       "    .dataframe thead th {\n",
       "        text-align: right;\n",
       "    }\n",
       "</style>\n",
       "<table border=\"1\" class=\"dataframe\">\n",
       "  <thead>\n",
       "    <tr style=\"text-align: right;\">\n",
       "      <th></th>\n",
       "      <th>Weights</th>\n",
       "      <th>N_neighbors</th>\n",
       "      <th>F1_score</th>\n",
       "    </tr>\n",
       "  </thead>\n",
       "  <tbody>\n",
       "    <tr>\n",
       "      <th>0</th>\n",
       "      <td>uniform</td>\n",
       "      <td>6</td>\n",
       "      <td>0.949828</td>\n",
       "    </tr>\n",
       "    <tr>\n",
       "      <th>1</th>\n",
       "      <td>distance</td>\n",
       "      <td>5</td>\n",
       "      <td>0.961866</td>\n",
       "    </tr>\n",
       "  </tbody>\n",
       "</table>\n",
       "</div>"
      ],
      "text/plain": [
       "    Weights  N_neighbors  F1_score\n",
       "0   uniform            6  0.949828\n",
       "1  distance            5  0.961866"
      ]
     },
     "execution_count": 72,
     "metadata": {},
     "output_type": "execute_result"
    }
   ],
   "source": [
    "report_results1(compare_result2,\"Weights\",'N_neighbors')"
   ]
  },
  {
   "cell_type": "code",
   "execution_count": 73,
   "metadata": {},
   "outputs": [
    {
     "data": {
      "text/html": [
       "<div>\n",
       "<style scoped>\n",
       "    .dataframe tbody tr th:only-of-type {\n",
       "        vertical-align: middle;\n",
       "    }\n",
       "\n",
       "    .dataframe tbody tr th {\n",
       "        vertical-align: top;\n",
       "    }\n",
       "\n",
       "    .dataframe thead th {\n",
       "        text-align: right;\n",
       "    }\n",
       "</style>\n",
       "<table border=\"1\" class=\"dataframe\">\n",
       "  <thead>\n",
       "    <tr style=\"text-align: right;\">\n",
       "      <th></th>\n",
       "      <th>uniform</th>\n",
       "      <th>distance</th>\n",
       "    </tr>\n",
       "  </thead>\n",
       "  <tbody>\n",
       "    <tr>\n",
       "      <th>5</th>\n",
       "      <td>0.949382</td>\n",
       "      <td>0.961866</td>\n",
       "    </tr>\n",
       "    <tr>\n",
       "      <th>6</th>\n",
       "      <td>0.949828</td>\n",
       "      <td>0.960062</td>\n",
       "    </tr>\n",
       "    <tr>\n",
       "      <th>7</th>\n",
       "      <td>0.943797</td>\n",
       "      <td>0.958257</td>\n",
       "    </tr>\n",
       "    <tr>\n",
       "      <th>8</th>\n",
       "      <td>0.944015</td>\n",
       "      <td>0.956240</td>\n",
       "    </tr>\n",
       "    <tr>\n",
       "      <th>9</th>\n",
       "      <td>0.939469</td>\n",
       "      <td>0.955013</td>\n",
       "    </tr>\n",
       "    <tr>\n",
       "      <th>10</th>\n",
       "      <td>0.939683</td>\n",
       "      <td>0.953014</td>\n",
       "    </tr>\n",
       "    <tr>\n",
       "      <th>11</th>\n",
       "      <td>0.934962</td>\n",
       "      <td>0.951685</td>\n",
       "    </tr>\n",
       "    <tr>\n",
       "      <th>12</th>\n",
       "      <td>0.935283</td>\n",
       "      <td>0.950140</td>\n",
       "    </tr>\n",
       "    <tr>\n",
       "      <th>13</th>\n",
       "      <td>0.933046</td>\n",
       "      <td>0.948929</td>\n",
       "    </tr>\n",
       "    <tr>\n",
       "      <th>14</th>\n",
       "      <td>0.933152</td>\n",
       "      <td>0.948161</td>\n",
       "    </tr>\n",
       "    <tr>\n",
       "      <th>15</th>\n",
       "      <td>0.932090</td>\n",
       "      <td>0.947831</td>\n",
       "    </tr>\n",
       "  </tbody>\n",
       "</table>\n",
       "</div>"
      ],
      "text/plain": [
       "     uniform  distance\n",
       "5   0.949382  0.961866\n",
       "6   0.949828  0.960062\n",
       "7   0.943797  0.958257\n",
       "8   0.944015  0.956240\n",
       "9   0.939469  0.955013\n",
       "10  0.939683  0.953014\n",
       "11  0.934962  0.951685\n",
       "12  0.935283  0.950140\n",
       "13  0.933046  0.948929\n",
       "14  0.933152  0.948161\n",
       "15  0.932090  0.947831"
      ]
     },
     "execution_count": 73,
     "metadata": {},
     "output_type": "execute_result"
    }
   ],
   "source": [
    "report_results2(compare_result2,\"Weights\",'N_neighbors')"
   ]
  },
  {
   "cell_type": "markdown",
   "metadata": {},
   "source": [
    "### Model Selection For TfidfVectorizer"
   ]
  },
  {
   "cell_type": "code",
   "execution_count": 74,
   "metadata": {},
   "outputs": [],
   "source": [
    "s3 = svc_tune_parameter(X_tr2, y_tr2, metric, kernel_set, C_set, cv = 5)\n",
    "s4 = knn_tune_parameter(X_tr2, y_tr2, metric, Weights, N_neighbors, cv = 5)"
   ]
  },
  {
   "cell_type": "code",
   "execution_count": 78,
   "metadata": {},
   "outputs": [],
   "source": [
    "compare_result3 = best_parameter(metric_used, kernel_set, C_set, s3)"
   ]
  },
  {
   "cell_type": "markdown",
   "metadata": {},
   "source": [
    "#### cross validation results for SVM(TfidfVectorizer)"
   ]
  },
  {
   "cell_type": "code",
   "execution_count": 80,
   "metadata": {},
   "outputs": [
    {
     "name": "stdout",
     "output_type": "stream",
     "text": [
      "Best parameters are: ('linear', (2, 0.9884044067143618))\n"
     ]
    }
   ],
   "source": [
    "report_best_model(compare_result3)"
   ]
  },
  {
   "cell_type": "code",
   "execution_count": 81,
   "metadata": {},
   "outputs": [
    {
     "data": {
      "text/html": [
       "<div>\n",
       "<style scoped>\n",
       "    .dataframe tbody tr th:only-of-type {\n",
       "        vertical-align: middle;\n",
       "    }\n",
       "\n",
       "    .dataframe tbody tr th {\n",
       "        vertical-align: top;\n",
       "    }\n",
       "\n",
       "    .dataframe thead th {\n",
       "        text-align: right;\n",
       "    }\n",
       "</style>\n",
       "<table border=\"1\" class=\"dataframe\">\n",
       "  <thead>\n",
       "    <tr style=\"text-align: right;\">\n",
       "      <th></th>\n",
       "      <th>kenerl</th>\n",
       "      <th>C</th>\n",
       "      <th>F1_score</th>\n",
       "    </tr>\n",
       "  </thead>\n",
       "  <tbody>\n",
       "    <tr>\n",
       "      <th>0</th>\n",
       "      <td>linear</td>\n",
       "      <td>2</td>\n",
       "      <td>0.988404</td>\n",
       "    </tr>\n",
       "    <tr>\n",
       "      <th>1</th>\n",
       "      <td>rbf</td>\n",
       "      <td>1</td>\n",
       "      <td>0.927658</td>\n",
       "    </tr>\n",
       "    <tr>\n",
       "      <th>2</th>\n",
       "      <td>poly</td>\n",
       "      <td>1</td>\n",
       "      <td>0.927658</td>\n",
       "    </tr>\n",
       "    <tr>\n",
       "      <th>3</th>\n",
       "      <td>sigmoid</td>\n",
       "      <td>1</td>\n",
       "      <td>0.927658</td>\n",
       "    </tr>\n",
       "  </tbody>\n",
       "</table>\n",
       "</div>"
      ],
      "text/plain": [
       "    kenerl  C  F1_score\n",
       "0   linear  2  0.988404\n",
       "1      rbf  1  0.927658\n",
       "2     poly  1  0.927658\n",
       "3  sigmoid  1  0.927658"
      ]
     },
     "execution_count": 81,
     "metadata": {},
     "output_type": "execute_result"
    }
   ],
   "source": [
    "report_results1(compare_result3,\"kenerl\",'C')"
   ]
  },
  {
   "cell_type": "code",
   "execution_count": 82,
   "metadata": {},
   "outputs": [
    {
     "data": {
      "text/html": [
       "<div>\n",
       "<style scoped>\n",
       "    .dataframe tbody tr th:only-of-type {\n",
       "        vertical-align: middle;\n",
       "    }\n",
       "\n",
       "    .dataframe tbody tr th {\n",
       "        vertical-align: top;\n",
       "    }\n",
       "\n",
       "    .dataframe thead th {\n",
       "        text-align: right;\n",
       "    }\n",
       "</style>\n",
       "<table border=\"1\" class=\"dataframe\">\n",
       "  <thead>\n",
       "    <tr style=\"text-align: right;\">\n",
       "      <th></th>\n",
       "      <th>linear</th>\n",
       "      <th>rbf</th>\n",
       "      <th>poly</th>\n",
       "      <th>sigmoid</th>\n",
       "    </tr>\n",
       "  </thead>\n",
       "  <tbody>\n",
       "    <tr>\n",
       "      <th>1</th>\n",
       "      <td>0.987454</td>\n",
       "      <td>0.927658</td>\n",
       "      <td>0.927658</td>\n",
       "      <td>0.927658</td>\n",
       "    </tr>\n",
       "    <tr>\n",
       "      <th>2</th>\n",
       "      <td>0.988404</td>\n",
       "      <td>0.927658</td>\n",
       "      <td>0.927658</td>\n",
       "      <td>0.927658</td>\n",
       "    </tr>\n",
       "    <tr>\n",
       "      <th>3</th>\n",
       "      <td>0.988046</td>\n",
       "      <td>0.927658</td>\n",
       "      <td>0.927658</td>\n",
       "      <td>0.927658</td>\n",
       "    </tr>\n",
       "    <tr>\n",
       "      <th>4</th>\n",
       "      <td>0.987805</td>\n",
       "      <td>0.927658</td>\n",
       "      <td>0.927658</td>\n",
       "      <td>0.927658</td>\n",
       "    </tr>\n",
       "    <tr>\n",
       "      <th>5</th>\n",
       "      <td>0.987686</td>\n",
       "      <td>0.927658</td>\n",
       "      <td>0.927658</td>\n",
       "      <td>0.927658</td>\n",
       "    </tr>\n",
       "  </tbody>\n",
       "</table>\n",
       "</div>"
      ],
      "text/plain": [
       "     linear       rbf      poly   sigmoid\n",
       "1  0.987454  0.927658  0.927658  0.927658\n",
       "2  0.988404  0.927658  0.927658  0.927658\n",
       "3  0.988046  0.927658  0.927658  0.927658\n",
       "4  0.987805  0.927658  0.927658  0.927658\n",
       "5  0.987686  0.927658  0.927658  0.927658"
      ]
     },
     "execution_count": 82,
     "metadata": {},
     "output_type": "execute_result"
    }
   ],
   "source": [
    "report_results2(compare_result3,\"kenerl\",'C')"
   ]
  },
  {
   "cell_type": "markdown",
   "metadata": {},
   "source": [
    "#### cross validation results for KNN(TfidfVectorizer)"
   ]
  },
  {
   "cell_type": "code",
   "execution_count": 83,
   "metadata": {},
   "outputs": [],
   "source": [
    "compare_result4 = best_parameter(metric_used, Weights, N_neighbors, s4)"
   ]
  },
  {
   "cell_type": "code",
   "execution_count": 84,
   "metadata": {},
   "outputs": [
    {
     "name": "stdout",
     "output_type": "stream",
     "text": [
      "Best parameters are: ('distance', (15, 0.9662985893072584))\n"
     ]
    }
   ],
   "source": [
    "report_best_model(compare_result4)"
   ]
  },
  {
   "cell_type": "code",
   "execution_count": 85,
   "metadata": {},
   "outputs": [
    {
     "data": {
      "text/html": [
       "<div>\n",
       "<style scoped>\n",
       "    .dataframe tbody tr th:only-of-type {\n",
       "        vertical-align: middle;\n",
       "    }\n",
       "\n",
       "    .dataframe tbody tr th {\n",
       "        vertical-align: top;\n",
       "    }\n",
       "\n",
       "    .dataframe thead th {\n",
       "        text-align: right;\n",
       "    }\n",
       "</style>\n",
       "<table border=\"1\" class=\"dataframe\">\n",
       "  <thead>\n",
       "    <tr style=\"text-align: right;\">\n",
       "      <th></th>\n",
       "      <th>Weight</th>\n",
       "      <th>N_neighbors</th>\n",
       "      <th>F1_score</th>\n",
       "    </tr>\n",
       "  </thead>\n",
       "  <tbody>\n",
       "    <tr>\n",
       "      <th>0</th>\n",
       "      <td>uniform</td>\n",
       "      <td>14</td>\n",
       "      <td>0.961183</td>\n",
       "    </tr>\n",
       "    <tr>\n",
       "      <th>1</th>\n",
       "      <td>distance</td>\n",
       "      <td>15</td>\n",
       "      <td>0.966299</td>\n",
       "    </tr>\n",
       "  </tbody>\n",
       "</table>\n",
       "</div>"
      ],
      "text/plain": [
       "     Weight  N_neighbors  F1_score\n",
       "0   uniform           14  0.961183\n",
       "1  distance           15  0.966299"
      ]
     },
     "execution_count": 85,
     "metadata": {},
     "output_type": "execute_result"
    }
   ],
   "source": [
    "report_results1(compare_result4,\"Weight\",'N_neighbors')"
   ]
  },
  {
   "cell_type": "code",
   "execution_count": 86,
   "metadata": {},
   "outputs": [
    {
     "data": {
      "text/html": [
       "<div>\n",
       "<style scoped>\n",
       "    .dataframe tbody tr th:only-of-type {\n",
       "        vertical-align: middle;\n",
       "    }\n",
       "\n",
       "    .dataframe tbody tr th {\n",
       "        vertical-align: top;\n",
       "    }\n",
       "\n",
       "    .dataframe thead th {\n",
       "        text-align: right;\n",
       "    }\n",
       "</style>\n",
       "<table border=\"1\" class=\"dataframe\">\n",
       "  <thead>\n",
       "    <tr style=\"text-align: right;\">\n",
       "      <th></th>\n",
       "      <th>uniform</th>\n",
       "      <th>distance</th>\n",
       "    </tr>\n",
       "  </thead>\n",
       "  <tbody>\n",
       "    <tr>\n",
       "      <th>5</th>\n",
       "      <td>0.949051</td>\n",
       "      <td>0.960567</td>\n",
       "    </tr>\n",
       "    <tr>\n",
       "      <th>6</th>\n",
       "      <td>0.949739</td>\n",
       "      <td>0.959215</td>\n",
       "    </tr>\n",
       "    <tr>\n",
       "      <th>7</th>\n",
       "      <td>0.944723</td>\n",
       "      <td>0.957653</td>\n",
       "    </tr>\n",
       "    <tr>\n",
       "      <th>8</th>\n",
       "      <td>0.945294</td>\n",
       "      <td>0.956193</td>\n",
       "    </tr>\n",
       "    <tr>\n",
       "      <th>9</th>\n",
       "      <td>0.941291</td>\n",
       "      <td>0.956330</td>\n",
       "    </tr>\n",
       "    <tr>\n",
       "      <th>10</th>\n",
       "      <td>0.953734</td>\n",
       "      <td>0.958675</td>\n",
       "    </tr>\n",
       "    <tr>\n",
       "      <th>11</th>\n",
       "      <td>0.950183</td>\n",
       "      <td>0.961607</td>\n",
       "    </tr>\n",
       "    <tr>\n",
       "      <th>12</th>\n",
       "      <td>0.960987</td>\n",
       "      <td>0.962599</td>\n",
       "    </tr>\n",
       "    <tr>\n",
       "      <th>13</th>\n",
       "      <td>0.957622</td>\n",
       "      <td>0.964291</td>\n",
       "    </tr>\n",
       "    <tr>\n",
       "      <th>14</th>\n",
       "      <td>0.961183</td>\n",
       "      <td>0.965852</td>\n",
       "    </tr>\n",
       "    <tr>\n",
       "      <th>15</th>\n",
       "      <td>0.959484</td>\n",
       "      <td>0.966299</td>\n",
       "    </tr>\n",
       "  </tbody>\n",
       "</table>\n",
       "</div>"
      ],
      "text/plain": [
       "     uniform  distance\n",
       "5   0.949051  0.960567\n",
       "6   0.949739  0.959215\n",
       "7   0.944723  0.957653\n",
       "8   0.945294  0.956193\n",
       "9   0.941291  0.956330\n",
       "10  0.953734  0.958675\n",
       "11  0.950183  0.961607\n",
       "12  0.960987  0.962599\n",
       "13  0.957622  0.964291\n",
       "14  0.961183  0.965852\n",
       "15  0.959484  0.966299"
      ]
     },
     "execution_count": 86,
     "metadata": {},
     "output_type": "execute_result"
    }
   ],
   "source": [
    "report_results2(compare_result4,\"Weight\",'N_neighbors')"
   ]
  },
  {
   "cell_type": "markdown",
   "metadata": {},
   "source": [
    "## Best model selected as below: \n",
    "- CountVectorizer(): \n",
    "    - Best model of SVC is linear with c = 1\n",
    "    - Best model of KNN is distance with n = 5\n",
    "\n",
    "\n",
    "- TfidfVectorizer() \n",
    "    - Best model of SVC is lienar with c = 2\n",
    "    - Best model of KNN is distance with n = 15"
   ]
  },
  {
   "cell_type": "markdown",
   "metadata": {},
   "source": [
    "## Model Evaluation"
   ]
  },
  {
   "cell_type": "code",
   "execution_count": 11,
   "metadata": {},
   "outputs": [],
   "source": [
    "M1 = SVC(C = 1, kernel = 'linear', probability = True)\n",
    "M2 = KNeighborsClassifier(n_neighbors = 5, weights = 'distance')\n",
    "M3 = SVC(C = 2, kernel = 'linear', probability = True)\n",
    "M4 = KNeighborsClassifier(n_neighbors = 15, weights = 'distance')"
   ]
  },
  {
   "cell_type": "code",
   "execution_count": 12,
   "metadata": {},
   "outputs": [],
   "source": [
    "def plot_roc(model,plot_title, x_tr, y_tr, x_te,y_te):\n",
    "    probas_= model.fit(x_tr, y_tr).predict_proba(x_te)\n",
    "    print(\"roc_auc for class 1:\", metrics.roc_auc_score(y_te,probas_[:,1]))\n",
    "    scikitplot.metrics.plot_roc(y_te, probas_, \n",
    "                            title = plot_title,\n",
    "                            plot_micro = False, plot_macro = False)\n",
    "    plt.show()"
   ]
  },
  {
   "cell_type": "code",
   "execution_count": 13,
   "metadata": {},
   "outputs": [],
   "source": [
    "def plot_precision(model,plot_title, x_tr, y_tr,x_te, y_te):\n",
    "    probas_= model.fit(x_tr, y_tr).predict_proba(x_te)\n",
    "    scikitplot.metrics.plot_precision_recall(y_te, probas_, \n",
    "                                         title = plot_title,\n",
    "                                         plot_micro = False)\n",
    "    \n",
    "                          \n",
    "    plt.show()"
   ]
  },
  {
   "cell_type": "markdown",
   "metadata": {},
   "source": [
    "#### model = M1, CountVectorizer(), SVC is linear with c = 1"
   ]
  },
  {
   "cell_type": "code",
   "execution_count": 14,
   "metadata": {},
   "outputs": [
    {
     "data": {
      "text/html": [
       "<div>\n",
       "<style scoped>\n",
       "    .dataframe tbody tr th:only-of-type {\n",
       "        vertical-align: middle;\n",
       "    }\n",
       "\n",
       "    .dataframe tbody tr th {\n",
       "        vertical-align: top;\n",
       "    }\n",
       "\n",
       "    .dataframe thead th {\n",
       "        text-align: right;\n",
       "    }\n",
       "</style>\n",
       "<table border=\"1\" class=\"dataframe\">\n",
       "  <thead>\n",
       "    <tr style=\"text-align: right;\">\n",
       "      <th></th>\n",
       "      <th>Actual spam</th>\n",
       "      <th>Actual ham</th>\n",
       "    </tr>\n",
       "  </thead>\n",
       "  <tbody>\n",
       "    <tr>\n",
       "      <th>Predict spam</th>\n",
       "      <td>91</td>\n",
       "      <td>2</td>\n",
       "    </tr>\n",
       "    <tr>\n",
       "      <th>Predict ham</th>\n",
       "      <td>17</td>\n",
       "      <td>726</td>\n",
       "    </tr>\n",
       "  </tbody>\n",
       "</table>\n",
       "</div>"
      ],
      "text/plain": [
       "              Actual spam  Actual ham\n",
       "Predict spam           91           2\n",
       "Predict ham            17         726"
      ]
     },
     "execution_count": 14,
     "metadata": {},
     "output_type": "execute_result"
    }
   ],
   "source": [
    "M1 = M1.fit(X_tr, y_tr)\n",
    "pre = M1.predict(X_te)\n",
    "pd.DataFrame(confusion_matrix(pre, y_te),\\\n",
    "             index = ['Predict spam', 'Predict ham'], \\\n",
    "             columns = ['Actual spam', 'Actual ham'])"
   ]
  },
  {
   "cell_type": "code",
   "execution_count": 15,
   "metadata": {},
   "outputs": [
    {
     "name": "stdout",
     "output_type": "stream",
     "text": [
      "              precision    recall  f1-score   support\n",
      "\n",
      "           0       0.84      0.98      0.91        93\n",
      "           1       1.00      0.98      0.99       743\n",
      "\n",
      "   micro avg       0.98      0.98      0.98       836\n",
      "   macro avg       0.92      0.98      0.95       836\n",
      "weighted avg       0.98      0.98      0.98       836\n",
      "\n"
     ]
    }
   ],
   "source": [
    "print(classification_report(pre, y_te))"
   ]
  },
  {
   "cell_type": "code",
   "execution_count": 16,
   "metadata": {},
   "outputs": [
    {
     "name": "stdout",
     "output_type": "stream",
     "text": [
      "roc_auc for class 1: 0.9920253357753358\n"
     ]
    },
    {
     "data": {
      "image/png": "[encoded data removed]",
      "text/plain": [
       "<Figure size 432x288 with 1 Axes>"
      ]
     },
     "metadata": {
      "needs_background": "light"
     },
     "output_type": "display_data"
    }
   ],
   "source": [
    "plot_roc(M1,\"Plot 1.1: ROC Curves : SVC + CountVectorizer\", X_tr,y_tr, X_te, y_te)"
   ]
  },
  {
   "cell_type": "code",
   "execution_count": 17,
   "metadata": {},
   "outputs": [
    {
     "data": {
      "image/png": "[encoded data removed]",
      "text/plain": [
       "<Figure size 432x288 with 1 Axes>"
      ]
     },
     "metadata": {
      "needs_background": "light"
     },
     "output_type": "display_data"
    }
   ],
   "source": [
    "plot_precision(M1,\"Plot 1.2: Precision recall Curves : SVC + CountVectorizer\",X_tr,y_tr, X_te, y_te)"
   ]
  },
  {
   "cell_type": "markdown",
   "metadata": {},
   "source": [
    "#### model = M2, CountVectorizer(), KNN is distance with n = 5"
   ]
  },
  {
   "cell_type": "code",
   "execution_count": 18,
   "metadata": {
    "scrolled": true
   },
   "outputs": [
    {
     "data": {
      "text/html": [
       "<div>\n",
       "<style scoped>\n",
       "    .dataframe tbody tr th:only-of-type {\n",
       "        vertical-align: middle;\n",
       "    }\n",
       "\n",
       "    .dataframe tbody tr th {\n",
       "        vertical-align: top;\n",
       "    }\n",
       "\n",
       "    .dataframe thead th {\n",
       "        text-align: right;\n",
       "    }\n",
       "</style>\n",
       "<table border=\"1\" class=\"dataframe\">\n",
       "  <thead>\n",
       "    <tr style=\"text-align: right;\">\n",
       "      <th></th>\n",
       "      <th>Actual spam</th>\n",
       "      <th>Actual ham</th>\n",
       "    </tr>\n",
       "  </thead>\n",
       "  <tbody>\n",
       "    <tr>\n",
       "      <th>Predict spam</th>\n",
       "      <td>64</td>\n",
       "      <td>0</td>\n",
       "    </tr>\n",
       "    <tr>\n",
       "      <th>Predict ham</th>\n",
       "      <td>44</td>\n",
       "      <td>728</td>\n",
       "    </tr>\n",
       "  </tbody>\n",
       "</table>\n",
       "</div>"
      ],
      "text/plain": [
       "              Actual spam  Actual ham\n",
       "Predict spam           64           0\n",
       "Predict ham            44         728"
      ]
     },
     "execution_count": 18,
     "metadata": {},
     "output_type": "execute_result"
    }
   ],
   "source": [
    "M2 = M2.fit(X_tr, y_tr)\n",
    "pre2 = M2.predict(X_te)\n",
    "pd.DataFrame(confusion_matrix(pre2, y_te),\\\n",
    "             index = ['Predict spam', 'Predict ham'], \\\n",
    "             columns = ['Actual spam', 'Actual ham'])"
   ]
  },
  {
   "cell_type": "code",
   "execution_count": 19,
   "metadata": {},
   "outputs": [
    {
     "name": "stdout",
     "output_type": "stream",
     "text": [
      "              precision    recall  f1-score   support\n",
      "\n",
      "           0       0.59      1.00      0.74        64\n",
      "           1       1.00      0.94      0.97       772\n",
      "\n",
      "   micro avg       0.95      0.95      0.95       836\n",
      "   macro avg       0.80      0.97      0.86       836\n",
      "weighted avg       0.97      0.95      0.95       836\n",
      "\n"
     ]
    }
   ],
   "source": [
    "print(classification_report(pre2, y_te))"
   ]
  },
  {
   "cell_type": "code",
   "execution_count": 20,
   "metadata": {},
   "outputs": [
    {
     "name": "stdout",
     "output_type": "stream",
     "text": [
      "roc_auc for class 1: 0.8472222222222222\n"
     ]
    },
    {
     "data": {
      "image/png": "[encoded data removed]",
      "text/plain": [
       "<Figure size 432x288 with 1 Axes>"
      ]
     },
     "metadata": {
      "needs_background": "light"
     },
     "output_type": "display_data"
    }
   ],
   "source": [
    "plot_roc(M2,\"Plot 2.1: ROC Curves : KNN + CountVectorizer\",X_tr,y_tr, X_te, y_te)"
   ]
  },
  {
   "cell_type": "code",
   "execution_count": 21,
   "metadata": {},
   "outputs": [
    {
     "data": {
      "image/png": "[encoded data removed]",
      "text/plain": [
       "<Figure size 432x288 with 1 Axes>"
      ]
     },
     "metadata": {
      "needs_background": "light"
     },
     "output_type": "display_data"
    }
   ],
   "source": [
    "plot_precision(M2,\"Plot 2.2: Precision recall Curves : KNN + CountVectorizer\",X_tr,y_tr, X_te, y_te)"
   ]
  },
  {
   "cell_type": "markdown",
   "metadata": {},
   "source": [
    "#### model = M3, TfidfVectorizer(), SVC is linear with c = 2"
   ]
  },
  {
   "cell_type": "code",
   "execution_count": 22,
   "metadata": {
    "scrolled": true
   },
   "outputs": [
    {
     "data": {
      "text/html": [
       "<div>\n",
       "<style scoped>\n",
       "    .dataframe tbody tr th:only-of-type {\n",
       "        vertical-align: middle;\n",
       "    }\n",
       "\n",
       "    .dataframe tbody tr th {\n",
       "        vertical-align: top;\n",
       "    }\n",
       "\n",
       "    .dataframe thead th {\n",
       "        text-align: right;\n",
       "    }\n",
       "</style>\n",
       "<table border=\"1\" class=\"dataframe\">\n",
       "  <thead>\n",
       "    <tr style=\"text-align: right;\">\n",
       "      <th></th>\n",
       "      <th>Actual spam</th>\n",
       "      <th>Actual ham</th>\n",
       "    </tr>\n",
       "  </thead>\n",
       "  <tbody>\n",
       "    <tr>\n",
       "      <th>Predict spam</th>\n",
       "      <td>94</td>\n",
       "      <td>3</td>\n",
       "    </tr>\n",
       "    <tr>\n",
       "      <th>Predict ham</th>\n",
       "      <td>14</td>\n",
       "      <td>725</td>\n",
       "    </tr>\n",
       "  </tbody>\n",
       "</table>\n",
       "</div>"
      ],
      "text/plain": [
       "              Actual spam  Actual ham\n",
       "Predict spam           94           3\n",
       "Predict ham            14         725"
      ]
     },
     "execution_count": 22,
     "metadata": {},
     "output_type": "execute_result"
    }
   ],
   "source": [
    "M3 = M3.fit(X_tr2, y_tr2)\n",
    "pre3 = M3.predict(X_te2)\n",
    "pd.DataFrame(confusion_matrix(pre3, y_te2),\\\n",
    "             index = ['Predict spam', 'Predict ham'], \\\n",
    "             columns = ['Actual spam', 'Actual ham'])"
   ]
  },
  {
   "cell_type": "code",
   "execution_count": 23,
   "metadata": {},
   "outputs": [
    {
     "name": "stdout",
     "output_type": "stream",
     "text": [
      "              precision    recall  f1-score   support\n",
      "\n",
      "           0       0.87      0.97      0.92        97\n",
      "           1       1.00      0.98      0.99       739\n",
      "\n",
      "   micro avg       0.98      0.98      0.98       836\n",
      "   macro avg       0.93      0.98      0.95       836\n",
      "weighted avg       0.98      0.98      0.98       836\n",
      "\n"
     ]
    }
   ],
   "source": [
    "print(classification_report(pre3, y_te2))"
   ]
  },
  {
   "cell_type": "code",
   "execution_count": 24,
   "metadata": {},
   "outputs": [
    {
     "name": "stdout",
     "output_type": "stream",
     "text": [
      "roc_auc for class 1: 0.9950333231583232\n"
     ]
    },
    {
     "data": {
      "image/png": "[encoded data removed]",
      "text/plain": [
       "<Figure size 432x288 with 1 Axes>"
      ]
     },
     "metadata": {
      "needs_background": "light"
     },
     "output_type": "display_data"
    }
   ],
   "source": [
    "plot_roc(M3,\"Plot 3.1: ROC Curves : SVM + TfidfVectorizer\",X_tr2,y_tr2, X_te2, y_te2)"
   ]
  },
  {
   "cell_type": "code",
   "execution_count": 25,
   "metadata": {},
   "outputs": [
    {
     "data": {
      "image/png": "[encoded data removed]",
      "text/plain": [
       "<Figure size 432x288 with 1 Axes>"
      ]
     },
     "metadata": {
      "needs_background": "light"
     },
     "output_type": "display_data"
    }
   ],
   "source": [
    "plot_precision(M3, \"Plot 3.2: Precison recall Curves : SVM + TfidfVectorizer\",X_tr2,y_tr2, X_te2, y_te2)"
   ]
  },
  {
   "cell_type": "markdown",
   "metadata": {},
   "source": [
    "#### model = M4, TfidfVectorizer(), KNN is distance with n = 15"
   ]
  },
  {
   "cell_type": "code",
   "execution_count": 26,
   "metadata": {},
   "outputs": [
    {
     "data": {
      "text/html": [
       "<div>\n",
       "<style scoped>\n",
       "    .dataframe tbody tr th:only-of-type {\n",
       "        vertical-align: middle;\n",
       "    }\n",
       "\n",
       "    .dataframe tbody tr th {\n",
       "        vertical-align: top;\n",
       "    }\n",
       "\n",
       "    .dataframe thead th {\n",
       "        text-align: right;\n",
       "    }\n",
       "</style>\n",
       "<table border=\"1\" class=\"dataframe\">\n",
       "  <thead>\n",
       "    <tr style=\"text-align: right;\">\n",
       "      <th></th>\n",
       "      <th>Actual spam</th>\n",
       "      <th>Actual ham</th>\n",
       "    </tr>\n",
       "  </thead>\n",
       "  <tbody>\n",
       "    <tr>\n",
       "      <th>Predict spam</th>\n",
       "      <td>68</td>\n",
       "      <td>0</td>\n",
       "    </tr>\n",
       "    <tr>\n",
       "      <th>Predict ham</th>\n",
       "      <td>40</td>\n",
       "      <td>728</td>\n",
       "    </tr>\n",
       "  </tbody>\n",
       "</table>\n",
       "</div>"
      ],
      "text/plain": [
       "              Actual spam  Actual ham\n",
       "Predict spam           68           0\n",
       "Predict ham            40         728"
      ]
     },
     "execution_count": 26,
     "metadata": {},
     "output_type": "execute_result"
    }
   ],
   "source": [
    "M4 = M4.fit(X_tr2, y_tr2)\n",
    "pre4 = M4.predict(X_te2)\n",
    "pd.DataFrame(confusion_matrix(pre4, y_te2),\\\n",
    "             index = ['Predict spam', 'Predict ham'], \\\n",
    "             columns = ['Actual spam', 'Actual ham'])"
   ]
  },
  {
   "cell_type": "code",
   "execution_count": 27,
   "metadata": {},
   "outputs": [
    {
     "name": "stdout",
     "output_type": "stream",
     "text": [
      "              precision    recall  f1-score   support\n",
      "\n",
      "           0       0.63      1.00      0.77        68\n",
      "           1       1.00      0.95      0.97       768\n",
      "\n",
      "   micro avg       0.95      0.95      0.95       836\n",
      "   macro avg       0.81      0.97      0.87       836\n",
      "weighted avg       0.97      0.95      0.96       836\n",
      "\n"
     ]
    }
   ],
   "source": [
    "print(classification_report(pre4, y_te2))"
   ]
  },
  {
   "cell_type": "code",
   "execution_count": 28,
   "metadata": {},
   "outputs": [
    {
     "name": "stdout",
     "output_type": "stream",
     "text": [
      "roc_auc for class 1: 0.9866452991452991\n"
     ]
    },
    {
     "data": {
      "image/png": "[encoded data removed]",
      "text/plain": [
       "<Figure size 432x288 with 1 Axes>"
      ]
     },
     "metadata": {
      "needs_background": "light"
     },
     "output_type": "display_data"
    }
   ],
   "source": [
    "plot_roc(M4,\"Plot 4.1: ROC Curves : KNN + TfidfVectorizer\",X_tr2,y_tr2, X_te2, y_te2)"
   ]
  },
  {
   "cell_type": "code",
   "execution_count": 29,
   "metadata": {},
   "outputs": [
    {
     "data": {
      "image/png": "[encoded data removed]",
      "text/plain": [
       "<Figure size 432x288 with 1 Axes>"
      ]
     },
     "metadata": {
      "needs_background": "light"
     },
     "output_type": "display_data"
    }
   ],
   "source": [
    "plot_precision(M4, \"Plot 4.2: Precision recall Curves : KNN + TfidfVectorizer\",X_tr2,y_tr2, X_te2, y_te2)"
   ]
  },
  {
   "cell_type": "markdown",
   "metadata": {},
   "source": [
    "### Store models"
   ]
  },
  {
   "cell_type": "code",
   "execution_count": 31,
   "metadata": {},
   "outputs": [],
   "source": [
    "## store four models\n",
    "with open('svc_model/svc_count.pkl','wb') as f:\n",
    "    pickle.dump((M1), f)\n",
    "    \n",
    "with open('knn_model/knn_count.pkl','wb') as f:\n",
    "    pickle.dump((M2), f)\n",
    "\n",
    "with open('svc_model/svc_tfid.pkl','wb') as f:\n",
    "    pickle.dump((M3), f)\n",
    "    \n",
    "with open('knn_model/knn_tfid.pkl','wb') as f:\n",
    "    pickle.dump((M4), f)"
   ]
  },
  {
   "cell_type": "code",
   "execution_count": null,
   "metadata": {},
   "outputs": [],
   "source": []
  }
 ],
 "metadata": {
  "kernelspec": {
   "display_name": "Python 3",
   "language": "python",
   "name": "python3"
  },
  "language_info": {
   "codemirror_mode": {
    "name": "ipython",
    "version": 3
   },
   "file_extension": ".py",
   "mimetype": "text/x-python",
   "name": "python",
   "nbconvert_exporter": "python",
   "pygments_lexer": "ipython3",
   "version": "3.7.1"
  }
 },
 "nbformat": 4,
 "nbformat_minor": 2
}
