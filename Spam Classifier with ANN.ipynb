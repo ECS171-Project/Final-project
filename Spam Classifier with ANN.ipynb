{
 "cells": [
  {
   "cell_type": "code",
   "execution_count": 4,
   "metadata": {},
   "outputs": [],
   "source": [
    "# Import packages\n",
    "import pandas as pd\n",
    "import numpy as np\n",
    "#from w2v_utils import *\n",
    "import matplotlib.pyplot as plt\n",
    "%matplotlib inline\n",
    "import seaborn as sns\n",
    "import string\n",
    "import re # regular expresson package\n",
    "# Import NLP packages\n",
    "import nltk\n",
    "from nltk.stem import WordNetLemmatizer\n",
    "from nltk.corpus import stopwords\n",
    "from nltk.tokenize import word_tokenize\n",
    "# Import keras for NN implementation\n",
    "from keras.models import Model\n",
    "from keras.models import Sequential\n",
    "from keras.layers import Embedding, Dense, Bidirectional, LSTM, Dropout, BatchNormalization\n",
    "from keras.preprocessing.text import Tokenizer\n",
    "from keras.preprocessing import sequence\n",
    "\n",
    "# Import sklearn packages\n",
    "from sklearn.preprocessing import LabelEncoder\n",
    "from sklearn.model_selection import train_test_split\n",
    "from sklearn.metrics import classification_report, precision_recall_curve, confusion_matrix\n",
    "from sklearn.feature_extraction.text import TfidfVectorizer\n",
    "from sklearn import svm"
   ]
  },
  {
   "cell_type": "code",
   "execution_count": 5,
   "metadata": {},
   "outputs": [
    {
     "name": "stdout",
     "output_type": "stream",
     "text": [
      "The data has 5572 row(s) and  2 column(s)\n"
     ]
    },
    {
     "data": {
      "text/html": [
       "<div>\n",
       "<style scoped>\n",
       "    .dataframe tbody tr th:only-of-type {\n",
       "        vertical-align: middle;\n",
       "    }\n",
       "\n",
       "    .dataframe tbody tr th {\n",
       "        vertical-align: top;\n",
       "    }\n",
       "\n",
       "    .dataframe thead th {\n",
       "        text-align: right;\n",
       "    }\n",
       "</style>\n",
       "<table border=\"1\" class=\"dataframe\">\n",
       "  <thead>\n",
       "    <tr style=\"text-align: right;\">\n",
       "      <th></th>\n",
       "      <th>label</th>\n",
       "      <th>text</th>\n",
       "    </tr>\n",
       "  </thead>\n",
       "  <tbody>\n",
       "    <tr>\n",
       "      <td>0</td>\n",
       "      <td>ham</td>\n",
       "      <td>Go until jurong point, crazy.. Available only ...</td>\n",
       "    </tr>\n",
       "    <tr>\n",
       "      <td>1</td>\n",
       "      <td>ham</td>\n",
       "      <td>Ok lar... Joking wif u oni...</td>\n",
       "    </tr>\n",
       "    <tr>\n",
       "      <td>2</td>\n",
       "      <td>spam</td>\n",
       "      <td>Free entry in 2 a wkly comp to win FA Cup fina...</td>\n",
       "    </tr>\n",
       "    <tr>\n",
       "      <td>3</td>\n",
       "      <td>ham</td>\n",
       "      <td>U dun say so early hor... U c already then say...</td>\n",
       "    </tr>\n",
       "    <tr>\n",
       "      <td>4</td>\n",
       "      <td>ham</td>\n",
       "      <td>Nah I don't think he goes to usf, he lives aro...</td>\n",
       "    </tr>\n",
       "  </tbody>\n",
       "</table>\n",
       "</div>"
      ],
      "text/plain": [
       "  label                                               text\n",
       "0   ham  Go until jurong point, crazy.. Available only ...\n",
       "1   ham                      Ok lar... Joking wif u oni...\n",
       "2  spam  Free entry in 2 a wkly comp to win FA Cup fina...\n",
       "3   ham  U dun say so early hor... U c already then say...\n",
       "4   ham  Nah I don't think he goes to usf, he lives aro..."
      ]
     },
     "execution_count": 5,
     "metadata": {},
     "output_type": "execute_result"
    }
   ],
   "source": [
    "# Load the data\n",
    "data = pd.read_csv('spam.csv', usecols = [0,1], encoding='latin-1')\n",
    "data.columns = ['label', 'text']\n",
    "print(\"The data has\", data.shape[0], \"row(s) and \", data.shape[1], \"column(s)\")\n",
    "data.head()"
   ]
  },
  {
   "cell_type": "code",
   "execution_count": 6,
   "metadata": {},
   "outputs": [
    {
     "data": {
      "text/html": [
       "<div>\n",
       "<style scoped>\n",
       "    .dataframe tbody tr th:only-of-type {\n",
       "        vertical-align: middle;\n",
       "    }\n",
       "\n",
       "    .dataframe tbody tr th {\n",
       "        vertical-align: top;\n",
       "    }\n",
       "\n",
       "    .dataframe thead tr th {\n",
       "        text-align: left;\n",
       "    }\n",
       "\n",
       "    .dataframe thead tr:last-of-type th {\n",
       "        text-align: right;\n",
       "    }\n",
       "</style>\n",
       "<table border=\"1\" class=\"dataframe\">\n",
       "  <thead>\n",
       "    <tr>\n",
       "      <th></th>\n",
       "      <th colspan=\"4\" halign=\"left\">text</th>\n",
       "    </tr>\n",
       "    <tr>\n",
       "      <th></th>\n",
       "      <th>count</th>\n",
       "      <th>unique</th>\n",
       "      <th>top</th>\n",
       "      <th>freq</th>\n",
       "    </tr>\n",
       "    <tr>\n",
       "      <th>label</th>\n",
       "      <th></th>\n",
       "      <th></th>\n",
       "      <th></th>\n",
       "      <th></th>\n",
       "    </tr>\n",
       "  </thead>\n",
       "  <tbody>\n",
       "    <tr>\n",
       "      <td>ham</td>\n",
       "      <td>4825</td>\n",
       "      <td>4516</td>\n",
       "      <td>Sorry, I'll call later</td>\n",
       "      <td>30</td>\n",
       "    </tr>\n",
       "    <tr>\n",
       "      <td>spam</td>\n",
       "      <td>747</td>\n",
       "      <td>653</td>\n",
       "      <td>Please call our customer service representativ...</td>\n",
       "      <td>4</td>\n",
       "    </tr>\n",
       "  </tbody>\n",
       "</table>\n",
       "</div>"
      ],
      "text/plain": [
       "       text                                                               \n",
       "      count unique                                                top freq\n",
       "label                                                                     \n",
       "ham    4825   4516                             Sorry, I'll call later   30\n",
       "spam    747    653  Please call our customer service representativ...    4"
      ]
     },
     "execution_count": 6,
     "metadata": {},
     "output_type": "execute_result"
    }
   ],
   "source": [
    "# Get a word count and unique word count of the text\n",
    "data.groupby('label').describe()"
   ]
  },
  {
   "cell_type": "code",
   "execution_count": 7,
   "metadata": {},
   "outputs": [
    {
     "data": {
      "image/png": "[encoded data removed]",
      "text/plain": [
       "<Figure size 432x288 with 1 Axes>"
      ]
     },
     "metadata": {},
     "output_type": "display_data"
    }
   ],
   "source": [
    "x = data.groupby('label').describe()\n",
    "# Get the number of ham and spam\n",
    "num_ham = x['text']['count'][0]\n",
    "num_spam = x['text']['count'][1]\n",
    "# plot a pie chart to show how many spams and hams\n",
    "plt.pie([num_ham, num_spam],labels=[\"Ham\", \"Spam\"],explode=(0,0.2),autopct='%1.2f%%',startangle=45)\n",
    "plt.show()"
   ]
  },
  {
   "cell_type": "code",
   "execution_count": 8,
   "metadata": {},
   "outputs": [
    {
     "data": {
      "text/html": [
       "<div>\n",
       "<style scoped>\n",
       "    .dataframe tbody tr th:only-of-type {\n",
       "        vertical-align: middle;\n",
       "    }\n",
       "\n",
       "    .dataframe tbody tr th {\n",
       "        vertical-align: top;\n",
       "    }\n",
       "\n",
       "    .dataframe thead th {\n",
       "        text-align: right;\n",
       "    }\n",
       "</style>\n",
       "<table border=\"1\" class=\"dataframe\">\n",
       "  <thead>\n",
       "    <tr style=\"text-align: right;\">\n",
       "      <th></th>\n",
       "      <th>label</th>\n",
       "      <th>text</th>\n",
       "    </tr>\n",
       "  </thead>\n",
       "  <tbody>\n",
       "    <tr>\n",
       "      <td>0</td>\n",
       "      <td>ham</td>\n",
       "      <td>Go until jurong point, crazy.. Available only ...</td>\n",
       "    </tr>\n",
       "    <tr>\n",
       "      <td>1</td>\n",
       "      <td>ham</td>\n",
       "      <td>Ok lar... Joking wif u oni...</td>\n",
       "    </tr>\n",
       "    <tr>\n",
       "      <td>2</td>\n",
       "      <td>spam</td>\n",
       "      <td>Free entry in 2 a wkly comp to win FA Cup fina...</td>\n",
       "    </tr>\n",
       "    <tr>\n",
       "      <td>3</td>\n",
       "      <td>ham</td>\n",
       "      <td>U dun say so early hor... U c already then say...</td>\n",
       "    </tr>\n",
       "    <tr>\n",
       "      <td>4</td>\n",
       "      <td>ham</td>\n",
       "      <td>Nah I don't think he goes to usf, he lives aro...</td>\n",
       "    </tr>\n",
       "    <tr>\n",
       "      <td>...</td>\n",
       "      <td>...</td>\n",
       "      <td>...</td>\n",
       "    </tr>\n",
       "    <tr>\n",
       "      <td>5567</td>\n",
       "      <td>spam</td>\n",
       "      <td>This is the 2nd time we have tried 2 contact u...</td>\n",
       "    </tr>\n",
       "    <tr>\n",
       "      <td>5568</td>\n",
       "      <td>ham</td>\n",
       "      <td>Will Ì_ b going to esplanade fr home?</td>\n",
       "    </tr>\n",
       "    <tr>\n",
       "      <td>5569</td>\n",
       "      <td>ham</td>\n",
       "      <td>Pity, * was in mood for that. So...any other s...</td>\n",
       "    </tr>\n",
       "    <tr>\n",
       "      <td>5570</td>\n",
       "      <td>ham</td>\n",
       "      <td>The guy did some bitching but I acted like i'd...</td>\n",
       "    </tr>\n",
       "    <tr>\n",
       "      <td>5571</td>\n",
       "      <td>ham</td>\n",
       "      <td>Rofl. Its true to its name</td>\n",
       "    </tr>\n",
       "  </tbody>\n",
       "</table>\n",
       "<p>5572 rows × 2 columns</p>\n",
       "</div>"
      ],
      "text/plain": [
       "     label                                               text\n",
       "0      ham  Go until jurong point, crazy.. Available only ...\n",
       "1      ham                      Ok lar... Joking wif u oni...\n",
       "2     spam  Free entry in 2 a wkly comp to win FA Cup fina...\n",
       "3      ham  U dun say so early hor... U c already then say...\n",
       "4      ham  Nah I don't think he goes to usf, he lives aro...\n",
       "...    ...                                                ...\n",
       "5567  spam  This is the 2nd time we have tried 2 contact u...\n",
       "5568   ham              Will Ì_ b going to esplanade fr home?\n",
       "5569   ham  Pity, * was in mood for that. So...any other s...\n",
       "5570   ham  The guy did some bitching but I acted like i'd...\n",
       "5571   ham                         Rofl. Its true to its name\n",
       "\n",
       "[5572 rows x 2 columns]"
      ]
     },
     "execution_count": 8,
     "metadata": {},
     "output_type": "execute_result"
    }
   ],
   "source": [
    "data"
   ]
  },
  {
   "cell_type": "code",
   "execution_count": 9,
   "metadata": {},
   "outputs": [
    {
     "data": {
      "text/html": [
       "<div>\n",
       "<style scoped>\n",
       "    .dataframe tbody tr th:only-of-type {\n",
       "        vertical-align: middle;\n",
       "    }\n",
       "\n",
       "    .dataframe tbody tr th {\n",
       "        vertical-align: top;\n",
       "    }\n",
       "\n",
       "    .dataframe thead th {\n",
       "        text-align: right;\n",
       "    }\n",
       "</style>\n",
       "<table border=\"1\" class=\"dataframe\">\n",
       "  <thead>\n",
       "    <tr style=\"text-align: right;\">\n",
       "      <th></th>\n",
       "      <th>label</th>\n",
       "      <th>text</th>\n",
       "    </tr>\n",
       "  </thead>\n",
       "  <tbody>\n",
       "    <tr>\n",
       "      <td>0</td>\n",
       "      <td>0</td>\n",
       "      <td>Go until jurong point, crazy.. Available only ...</td>\n",
       "    </tr>\n",
       "    <tr>\n",
       "      <td>1</td>\n",
       "      <td>0</td>\n",
       "      <td>Ok lar... Joking wif u oni...</td>\n",
       "    </tr>\n",
       "    <tr>\n",
       "      <td>2</td>\n",
       "      <td>1</td>\n",
       "      <td>Free entry in 2 a wkly comp to win FA Cup fina...</td>\n",
       "    </tr>\n",
       "    <tr>\n",
       "      <td>3</td>\n",
       "      <td>0</td>\n",
       "      <td>U dun say so early hor... U c already then say...</td>\n",
       "    </tr>\n",
       "    <tr>\n",
       "      <td>4</td>\n",
       "      <td>0</td>\n",
       "      <td>Nah I don't think he goes to usf, he lives aro...</td>\n",
       "    </tr>\n",
       "    <tr>\n",
       "      <td>...</td>\n",
       "      <td>...</td>\n",
       "      <td>...</td>\n",
       "    </tr>\n",
       "    <tr>\n",
       "      <td>5567</td>\n",
       "      <td>1</td>\n",
       "      <td>This is the 2nd time we have tried 2 contact u...</td>\n",
       "    </tr>\n",
       "    <tr>\n",
       "      <td>5568</td>\n",
       "      <td>0</td>\n",
       "      <td>Will Ì_ b going to esplanade fr home?</td>\n",
       "    </tr>\n",
       "    <tr>\n",
       "      <td>5569</td>\n",
       "      <td>0</td>\n",
       "      <td>Pity, * was in mood for that. So...any other s...</td>\n",
       "    </tr>\n",
       "    <tr>\n",
       "      <td>5570</td>\n",
       "      <td>0</td>\n",
       "      <td>The guy did some bitching but I acted like i'd...</td>\n",
       "    </tr>\n",
       "    <tr>\n",
       "      <td>5571</td>\n",
       "      <td>0</td>\n",
       "      <td>Rofl. Its true to its name</td>\n",
       "    </tr>\n",
       "  </tbody>\n",
       "</table>\n",
       "<p>5572 rows × 2 columns</p>\n",
       "</div>"
      ],
      "text/plain": [
       "      label                                               text\n",
       "0         0  Go until jurong point, crazy.. Available only ...\n",
       "1         0                      Ok lar... Joking wif u oni...\n",
       "2         1  Free entry in 2 a wkly comp to win FA Cup fina...\n",
       "3         0  U dun say so early hor... U c already then say...\n",
       "4         0  Nah I don't think he goes to usf, he lives aro...\n",
       "...     ...                                                ...\n",
       "5567      1  This is the 2nd time we have tried 2 contact u...\n",
       "5568      0              Will Ì_ b going to esplanade fr home?\n",
       "5569      0  Pity, * was in mood for that. So...any other s...\n",
       "5570      0  The guy did some bitching but I acted like i'd...\n",
       "5571      0                         Rofl. Its true to its name\n",
       "\n",
       "[5572 rows x 2 columns]"
      ]
     },
     "execution_count": 9,
     "metadata": {},
     "output_type": "execute_result"
    }
   ],
   "source": [
    "# Encode ham and spam into binary number\n",
    "le = LabelEncoder()\n",
    "data.label = le.fit_transform(data.label)\n",
    "data"
   ]
  },
  {
   "cell_type": "markdown",
   "metadata": {},
   "source": [
    "We are going to try lemmatization and stopword removal. However, conventional processing techniques are not going to work well with a SMS corpus. The texts have a lot of shortened words and abbreviations. Ideally, we have to implement a customized normalization of text."
   ]
  },
  {
   "cell_type": "code",
   "execution_count": 10,
   "metadata": {},
   "outputs": [],
   "source": [
    "total_stopwords = set([word.replace(\"'\",'') for word in stopwords.words('english')])\n",
    "lemma = WordNetLemmatizer()\n",
    "def preprocess_text(text):\n",
    "    text = text.lower() # Convert to lowercase\n",
    "    text = text.replace(\"'\",'') # \n",
    "    text = re.sub('[^a-zA-Z]',' ',text)\n",
    "    words = text.split()\n",
    "    words = [lemma.lemmatize(word) for word in words if (word not in total_stopwords) and (len(word)>1)] # Remove stop words\n",
    "    text = \" \".join(words)\n",
    "    return text"
   ]
  },
  {
   "cell_type": "code",
   "execution_count": 11,
   "metadata": {},
   "outputs": [
    {
     "data": {
      "text/html": [
       "<div>\n",
       "<style scoped>\n",
       "    .dataframe tbody tr th:only-of-type {\n",
       "        vertical-align: middle;\n",
       "    }\n",
       "\n",
       "    .dataframe tbody tr th {\n",
       "        vertical-align: top;\n",
       "    }\n",
       "\n",
       "    .dataframe thead th {\n",
       "        text-align: right;\n",
       "    }\n",
       "</style>\n",
       "<table border=\"1\" class=\"dataframe\">\n",
       "  <thead>\n",
       "    <tr style=\"text-align: right;\">\n",
       "      <th></th>\n",
       "      <th>label</th>\n",
       "      <th>text</th>\n",
       "    </tr>\n",
       "  </thead>\n",
       "  <tbody>\n",
       "    <tr>\n",
       "      <td>0</td>\n",
       "      <td>0</td>\n",
       "      <td>go jurong point crazy available bugis great wo...</td>\n",
       "    </tr>\n",
       "    <tr>\n",
       "      <td>1</td>\n",
       "      <td>0</td>\n",
       "      <td>ok lar joking wif oni</td>\n",
       "    </tr>\n",
       "    <tr>\n",
       "      <td>2</td>\n",
       "      <td>1</td>\n",
       "      <td>free entry wkly comp win fa cup final tkts st ...</td>\n",
       "    </tr>\n",
       "    <tr>\n",
       "      <td>3</td>\n",
       "      <td>0</td>\n",
       "      <td>dun say early hor already say</td>\n",
       "    </tr>\n",
       "    <tr>\n",
       "      <td>4</td>\n",
       "      <td>0</td>\n",
       "      <td>nah dont think go usf life around though</td>\n",
       "    </tr>\n",
       "    <tr>\n",
       "      <td>...</td>\n",
       "      <td>...</td>\n",
       "      <td>...</td>\n",
       "    </tr>\n",
       "    <tr>\n",
       "      <td>5567</td>\n",
       "      <td>1</td>\n",
       "      <td>nd time tried contact pound prize claim easy c...</td>\n",
       "    </tr>\n",
       "    <tr>\n",
       "      <td>5568</td>\n",
       "      <td>0</td>\n",
       "      <td>going esplanade fr home</td>\n",
       "    </tr>\n",
       "    <tr>\n",
       "      <td>5569</td>\n",
       "      <td>0</td>\n",
       "      <td>pity mood suggestion</td>\n",
       "    </tr>\n",
       "    <tr>\n",
       "      <td>5570</td>\n",
       "      <td>0</td>\n",
       "      <td>guy bitching acted like id interested buying s...</td>\n",
       "    </tr>\n",
       "    <tr>\n",
       "      <td>5571</td>\n",
       "      <td>0</td>\n",
       "      <td>rofl true name</td>\n",
       "    </tr>\n",
       "  </tbody>\n",
       "</table>\n",
       "<p>5572 rows × 2 columns</p>\n",
       "</div>"
      ],
      "text/plain": [
       "      label                                               text\n",
       "0         0  go jurong point crazy available bugis great wo...\n",
       "1         0                              ok lar joking wif oni\n",
       "2         1  free entry wkly comp win fa cup final tkts st ...\n",
       "3         0                      dun say early hor already say\n",
       "4         0           nah dont think go usf life around though\n",
       "...     ...                                                ...\n",
       "5567      1  nd time tried contact pound prize claim easy c...\n",
       "5568      0                            going esplanade fr home\n",
       "5569      0                               pity mood suggestion\n",
       "5570      0  guy bitching acted like id interested buying s...\n",
       "5571      0                                     rofl true name\n",
       "\n",
       "[5572 rows x 2 columns]"
      ]
     },
     "execution_count": 11,
     "metadata": {},
     "output_type": "execute_result"
    }
   ],
   "source": [
    "data.text = data.text.apply(preprocess_text)\n",
    "data"
   ]
  },
  {
   "cell_type": "code",
   "execution_count": 57,
   "metadata": {},
   "outputs": [],
   "source": [
    "# Split into train and test data\n",
    "x_train, x_test, y_train, y_test = train_test_split(data.text, data.label, test_size=0.15, stratify=data.label)"
   ]
  },
  {
   "cell_type": "markdown",
   "metadata": {},
   "source": [
    "# Word Embedding approach with RNN\n",
    "\n",
    "In the tokenization layer, they maintain a dictionary that map a word to an index. For example, dog -> 0, cat->1, and so on.\n",
    "\n",
    "Embedding layer will internally maintain a lookup table, and the lookup table will map the index/token to a vector, and that vector is what represent the word in the higher dimensional space. (See details for tokenizer: https://towardsdatascience.com/spam-filtering-system-with-deep-learning-b8070b28f9e0)\n",
    "\n",
    "Summary of the process: Email -> Token -> LookUp table -> Vector"
   ]
  },
  {
   "cell_type": "markdown",
   "metadata": {},
   "source": [
    "## 1. LSTM with Vanila Embedding From Scratch"
   ]
  },
  {
   "cell_type": "code",
   "execution_count": 58,
   "metadata": {},
   "outputs": [],
   "source": [
    "from keras.layers import Dense, Input, LSTM, Embedding, Dropout, Activation, GRU, Conv1D\n",
    "from keras.layers import Bidirectional, GlobalMaxPool1D\n",
    "from keras.models import Model\n",
    "from keras import initializers, regularizers, constraints, optimizers, layers\n",
    "from keras.preprocessing.text import Tokenizer\n",
    "from keras.preprocessing.sequence import pad_sequences\n"
   ]
  },
  {
   "cell_type": "code",
   "execution_count": 59,
   "metadata": {},
   "outputs": [],
   "source": [
    "## some config values \n",
    "embed_size = 100 # how dimension of the word vector we would like to set\n",
    "max_len = x_train.apply(lambda str: len(str.split())).max() # max number of words"
   ]
  },
  {
   "cell_type": "code",
   "execution_count": 60,
   "metadata": {},
   "outputs": [],
   "source": [
    "tok = Tokenizer()\n",
    "tok.fit_on_texts(x_train)\n",
    "# Get how many unique words to use (i.e num rows in embedding vector)\n",
    "vocab_size = len(tok.word_index) + 1"
   ]
  },
  {
   "cell_type": "code",
   "execution_count": 61,
   "metadata": {},
   "outputs": [],
   "source": [
    "x_train_features = np.array(tok.texts_to_sequences(x_train))\n",
    "x_test_features = np.array(tok.texts_to_sequences(x_test))\n",
    "# ensure that all sequences in a list have the same length by padding 0 at the back of the sequence\n",
    "x_train_features = pad_sequences(x_train_features,maxlen=max_len)\n",
    "x_test_features = pad_sequences(x_test_features,maxlen=max_len)"
   ]
  },
  {
   "cell_type": "markdown",
   "metadata": {},
   "source": [
    "-The idea of Bidirectional is simple yet powerful. What it does is having two LSTM network instead of one.\n",
    "\n",
    "-For the first LSTM network, it will feed in the input sequence as per normal. For the second LSTM network, it will reverse the input sequence and feed in to the LSTM network. The output of these two networks will be merged and then passed on to the next layer.\n",
    "\n",
    "-The intuition behind Bidirectional is that, for some of the sentences, the context information is at the end of the sentence."
   ]
  },
  {
   "cell_type": "code",
   "execution_count": 62,
   "metadata": {},
   "outputs": [
    {
     "name": "stdout",
     "output_type": "stream",
     "text": [
      "Model: \"model_10\"\n",
      "_________________________________________________________________\n",
      "Layer (type)                 Output Shape              Param #   \n",
      "=================================================================\n",
      "input_12 (InputLayer)        (None, 75)                0         \n",
      "_________________________________________________________________\n",
      "embedding_13 (Embedding)     (None, 75, 100)           646600    \n",
      "_________________________________________________________________\n",
      "bidirectional_12 (Bidirectio (None, 75, 128)           63360     \n",
      "_________________________________________________________________\n",
      "global_max_pooling1d_13 (Glo (None, 128)               0         \n",
      "_________________________________________________________________\n",
      "dense_22 (Dense)             (None, 16)                2064      \n",
      "_________________________________________________________________\n",
      "dropout_11 (Dropout)         (None, 16)                0         \n",
      "_________________________________________________________________\n",
      "dense_23 (Dense)             (None, 1)                 17        \n",
      "=================================================================\n",
      "Total params: 712,041\n",
      "Trainable params: 712,041\n",
      "Non-trainable params: 0\n",
      "_________________________________________________________________\n",
      "None\n"
     ]
    }
   ],
   "source": [
    "inp = Input(shape=(max_len,))\n",
    "# Embedding layer\n",
    "# Arg: input_dim: This is the size of the vocabulary in the text data. \n",
    "# For example, if your data is integer encoded to values between 0-10, \n",
    "# then the size of the vocabulary would be 11 words.\n",
    "# Arg: output_dim: This is the size of the vector space in which words will be embedded. It defines the size of the output vectors from this layer for each word. \n",
    "# For example, it could be 32 or 100 or even larger. Test different values for your problem.\n",
    "# Arg: input_length: This is the length of input sequences, as you would define for any input layer of a Keras model. \n",
    "# For example, if all of your input documents are comprised of 1000 words, this would be 1000.\n",
    "x = Embedding(vocab_size, embed_size)(inp)\n",
    "# Bidirectional with Graded Recurrent Unit\n",
    "x = Bidirectional(GRU(64, return_sequences=True))(x)\n",
    "x = GlobalMaxPool1D()(x)\n",
    "x = Dense(16, activation=\"relu\")(x)\n",
    "x = Dropout(0.1)(x)\n",
    "x = Dense(1, activation=\"sigmoid\")(x)\n",
    "model = Model(inputs=inp, outputs=x)\n",
    "model.compile(loss='binary_crossentropy', optimizer='adam', metrics=['accuracy'])\n",
    "print(model.summary())"
   ]
  },
  {
   "cell_type": "code",
   "execution_count": 63,
   "metadata": {},
   "outputs": [
    {
     "name": "stderr",
     "output_type": "stream",
     "text": [
      "/Library/Frameworks/Python.framework/Versions/3.6/lib/python3.6/site-packages/tensorflow_core/python/framework/indexed_slices.py:424: UserWarning: Converting sparse IndexedSlices to a dense Tensor of unknown shape. This may consume a large amount of memory.\n",
      "  \"Converting sparse IndexedSlices to a dense Tensor of unknown shape. \"\n"
     ]
    },
    {
     "name": "stdout",
     "output_type": "stream",
     "text": [
      "Train on 4736 samples, validate on 836 samples\n",
      "Epoch 1/20\n",
      "4736/4736 [==============================] - 10s 2ms/step - loss: 0.6667 - accuracy: 0.8051 - val_loss: 0.6093 - val_accuracy: 0.8660\n",
      "Epoch 2/20\n",
      "4736/4736 [==============================] - 8s 2ms/step - loss: 0.5433 - accuracy: 0.8659 - val_loss: 0.4396 - val_accuracy: 0.8660\n",
      "Epoch 3/20\n",
      "4736/4736 [==============================] - 9s 2ms/step - loss: 0.3954 - accuracy: 0.8659 - val_loss: 0.3794 - val_accuracy: 0.8660\n",
      "Epoch 4/20\n",
      "4736/4736 [==============================] - 10s 2ms/step - loss: 0.3544 - accuracy: 0.8659 - val_loss: 0.3216 - val_accuracy: 0.8660\n",
      "Epoch 5/20\n",
      "4736/4736 [==============================] - 9s 2ms/step - loss: 0.2885 - accuracy: 0.8659 - val_loss: 0.2453 - val_accuracy: 0.8660\n",
      "Epoch 6/20\n",
      "4736/4736 [==============================] - 9s 2ms/step - loss: 0.1942 - accuracy: 0.8659 - val_loss: 0.1721 - val_accuracy: 0.8660\n",
      "Epoch 7/20\n",
      "4736/4736 [==============================] - 10s 2ms/step - loss: 0.1338 - accuracy: 0.9286 - val_loss: 0.1533 - val_accuracy: 0.9701\n",
      "Epoch 8/20\n",
      "4736/4736 [==============================] - 10s 2ms/step - loss: 0.1096 - accuracy: 0.9772 - val_loss: 0.1421 - val_accuracy: 0.9809\n",
      "Epoch 9/20\n",
      "4736/4736 [==============================] - 11s 2ms/step - loss: 0.0929 - accuracy: 0.9821 - val_loss: 0.1392 - val_accuracy: 0.9833\n",
      "Epoch 10/20\n",
      "4736/4736 [==============================] - 11s 2ms/step - loss: 0.0761 - accuracy: 0.9844 - val_loss: 0.1315 - val_accuracy: 0.9833\n",
      "Epoch 11/20\n",
      "4736/4736 [==============================] - 12s 2ms/step - loss: 0.0592 - accuracy: 0.9808 - val_loss: 0.1171 - val_accuracy: 0.9797\n",
      "Epoch 12/20\n",
      "4736/4736 [==============================] - 8s 2ms/step - loss: 0.0399 - accuracy: 0.9941 - val_loss: 0.1028 - val_accuracy: 0.9821\n",
      "Epoch 13/20\n",
      "4736/4736 [==============================] - 10s 2ms/step - loss: 0.0210 - accuracy: 0.9968 - val_loss: 0.0941 - val_accuracy: 0.9821\n",
      "Epoch 14/20\n",
      "4736/4736 [==============================] - 11s 2ms/step - loss: 0.0139 - accuracy: 0.9968 - val_loss: 0.0955 - val_accuracy: 0.9821\n",
      "Epoch 15/20\n",
      "4736/4736 [==============================] - 10s 2ms/step - loss: 0.0102 - accuracy: 0.9975 - val_loss: 0.1033 - val_accuracy: 0.9821\n",
      "Epoch 16/20\n",
      "4736/4736 [==============================] - 10s 2ms/step - loss: 0.0094 - accuracy: 0.9979 - val_loss: 0.0919 - val_accuracy: 0.9797\n",
      "Epoch 17/20\n",
      "4736/4736 [==============================] - 11s 2ms/step - loss: 0.0078 - accuracy: 0.9985 - val_loss: 0.1013 - val_accuracy: 0.9856\n",
      "Epoch 18/20\n",
      "4736/4736 [==============================] - 9s 2ms/step - loss: 0.0074 - accuracy: 0.9973 - val_loss: 0.1008 - val_accuracy: 0.9844\n",
      "Epoch 19/20\n",
      "4736/4736 [==============================] - 9s 2ms/step - loss: 0.0066 - accuracy: 0.9975 - val_loss: 0.1016 - val_accuracy: 0.9833\n",
      "Epoch 20/20\n",
      "4736/4736 [==============================] - 9s 2ms/step - loss: 0.0067 - accuracy: 0.9979 - val_loss: 0.1010 - val_accuracy: 0.9833\n"
     ]
    }
   ],
   "source": [
    "history = model.fit(x_train_features, y_train, batch_size=512, epochs=20, validation_data=(x_test_features, y_test))"
   ]
  },
  {
   "cell_type": "code",
   "execution_count": 73,
   "metadata": {},
   "outputs": [],
   "source": [
    "y_pred = model.predict(x_test_features)"
   ]
  },
  {
   "cell_type": "code",
   "execution_count": 74,
   "metadata": {},
   "outputs": [
    {
     "data": {
      "image/png": "[encoded data removed]",
      "text/plain": [
       "<Figure size 432x288 with 1 Axes>"
      ]
     },
     "metadata": {},
     "output_type": "display_data"
    },
    {
     "name": "stdout",
     "output_type": "stream",
     "text": [
      "              precision    recall  f1-score   support\n",
      "\n",
      "           0       0.98      0.99      0.99       724\n",
      "           1       0.91      0.90      0.91       112\n",
      "\n",
      "    accuracy                           0.97       836\n",
      "   macro avg       0.95      0.94      0.95       836\n",
      "weighted avg       0.97      0.97      0.97       836\n",
      "\n"
     ]
    },
    {
     "data": {
      "text/html": [
       "<div>\n",
       "<style scoped>\n",
       "    .dataframe tbody tr th:only-of-type {\n",
       "        vertical-align: middle;\n",
       "    }\n",
       "\n",
       "    .dataframe tbody tr th {\n",
       "        vertical-align: top;\n",
       "    }\n",
       "\n",
       "    .dataframe thead th {\n",
       "        text-align: right;\n",
       "    }\n",
       "</style>\n",
       "<table border=\"1\" class=\"dataframe\">\n",
       "  <thead>\n",
       "    <tr style=\"text-align: right;\">\n",
       "      <th></th>\n",
       "      <th>Predicted 0</th>\n",
       "      <th>Predicted 1</th>\n",
       "    </tr>\n",
       "  </thead>\n",
       "  <tbody>\n",
       "    <tr>\n",
       "      <td>Actual 0</td>\n",
       "      <td>714</td>\n",
       "      <td>10</td>\n",
       "    </tr>\n",
       "    <tr>\n",
       "      <td>Actual 1</td>\n",
       "      <td>11</td>\n",
       "      <td>101</td>\n",
       "    </tr>\n",
       "  </tbody>\n",
       "</table>\n",
       "</div>"
      ],
      "text/plain": [
       "          Predicted 0  Predicted 1\n",
       "Actual 0          714           10\n",
       "Actual 1           11          101"
      ]
     },
     "metadata": {},
     "output_type": "display_data"
    }
   ],
   "source": [
    "pr, rc, thresholds = precision_recall_curve(y_test, y_pred)\n",
    "plt.plot(thresholds, pr[1:])\n",
    "plt.plot(thresholds, rc[1:])\n",
    "plt.show()\n",
    "crossover_index = np.max(np.where(pr <= rc))\n",
    "crossover_cutoff = thresholds[crossover_index]\n",
    "crossover_recall = rc[crossover_index]\n",
    "\n",
    "print(classification_report(y_test, y_pred > crossover_cutoff))\n",
    "\n",
    "m_confusion_test = confusion_matrix(y_test, y_pred > crossover_cutoff)\n",
    "display(pd.DataFrame(data = m_confusion_test, columns = ['Predicted 0', 'Predicted 1'],\n",
    "            index = ['Actual 0', 'Actual 1']))\n",
    "\n"
   ]
  },
  {
   "cell_type": "markdown",
   "metadata": {},
   "source": [
    "## 2. LSTM with GloVe pre-trained embedding layer"
   ]
  },
  {
   "cell_type": "code",
   "execution_count": 47,
   "metadata": {},
   "outputs": [
    {
     "name": "stdout",
     "output_type": "stream",
     "text": [
      "Loaded 400000 word vectors.\n"
     ]
    }
   ],
   "source": [
    "# load the whole embedding into memory\n",
    "embeddings_index = dict()\n",
    "f = open('glove.6B.300d.txt')\n",
    "for line in f:\n",
    "    values = line.split()\n",
    "    word = values[0]\n",
    "    coefs = np.asarray(values[1:], dtype='float32')\n",
    "    embeddings_index[word] = coefs\n",
    "f.close()\n",
    "print('Loaded %s word vectors.' % len(embeddings_index))"
   ]
  },
  {
   "cell_type": "code",
   "execution_count": 68,
   "metadata": {},
   "outputs": [],
   "source": [
    "# create a weight matrix for words in training docs\n",
    "embedding_matrix = np.zeros((vocab_size, 300))\n",
    "for word, i in tok.word_index.items():\n",
    "    embedding_vector = embeddings_index.get(word)\n",
    "    if embedding_vector is not None:\n",
    "        embedding_matrix[i] = embedding_vector"
   ]
  },
  {
   "cell_type": "code",
   "execution_count": 69,
   "metadata": {},
   "outputs": [
    {
     "name": "stdout",
     "output_type": "stream",
     "text": [
      "Model: \"model_11\"\n",
      "_________________________________________________________________\n",
      "Layer (type)                 Output Shape              Param #   \n",
      "=================================================================\n",
      "input_14 (InputLayer)        (None, 75)                0         \n",
      "_________________________________________________________________\n",
      "embedding_15 (Embedding)     (None, 75, 300)           1939800   \n",
      "_________________________________________________________________\n",
      "bidirectional_13 (Bidirectio (None, 75, 128)           140160    \n",
      "_________________________________________________________________\n",
      "global_max_pooling1d_14 (Glo (None, 128)               0         \n",
      "_________________________________________________________________\n",
      "dense_24 (Dense)             (None, 16)                2064      \n",
      "_________________________________________________________________\n",
      "dropout_12 (Dropout)         (None, 16)                0         \n",
      "_________________________________________________________________\n",
      "dense_25 (Dense)             (None, 1)                 17        \n",
      "=================================================================\n",
      "Total params: 2,082,041\n",
      "Trainable params: 142,241\n",
      "Non-trainable params: 1,939,800\n",
      "_________________________________________________________________\n",
      "None\n"
     ]
    }
   ],
   "source": [
    "inp = Input(shape=(max_len,))\n",
    "# Embedding layer\n",
    "# Arg: input_dim: This is the size of the vocabulary in the text data. \n",
    "# For example, if your data is integer encoded to values between 0-10, \n",
    "# then the size of the vocabulary would be 11 words.\n",
    "# Arg: output_dim: This is the size of the vector space in which words will be embedded. It defines the size of the output vectors from this layer for each word. \n",
    "# For example, it could be 32 or 100 or even larger. Test different values for your problem.\n",
    "# Arg: input_length: This is the length of input sequences, as you would define for any input layer of a Keras model. \n",
    "# For example, if all of your input documents are comprised of 1000 words, this would be 1000.\n",
    "x = Embedding(vocab_size, 300, weights=[embedding_matrix], trainable=False)(inp)\n",
    "# Bidirectional with Graded Recurrent Unit\n",
    "x = Bidirectional(GRU(64, return_sequences=True))(x)\n",
    "x = GlobalMaxPool1D()(x)\n",
    "x = Dense(16, activation=\"relu\")(x)\n",
    "x = Dropout(0.1)(x)\n",
    "x = Dense(1, activation=\"sigmoid\")(x)\n",
    "model2 = Model(inputs=inp, outputs=x)\n",
    "model2.compile(loss='binary_crossentropy', optimizer='adam', metrics=['accuracy'])\n",
    "print(model2.summary())"
   ]
  },
  {
   "cell_type": "code",
   "execution_count": 70,
   "metadata": {},
   "outputs": [
    {
     "name": "stdout",
     "output_type": "stream",
     "text": [
      "Train on 4736 samples, validate on 836 samples\n",
      "Epoch 1/20\n",
      "4736/4736 [==============================] - 12s 2ms/step - loss: 0.5286 - accuracy: 0.7633 - val_loss: 0.3796 - val_accuracy: 0.8648\n",
      "Epoch 2/20\n",
      "4736/4736 [==============================] - 10s 2ms/step - loss: 0.3331 - accuracy: 0.8678 - val_loss: 0.2855 - val_accuracy: 0.8864\n",
      "Epoch 3/20\n",
      "4736/4736 [==============================] - 10s 2ms/step - loss: 0.2461 - accuracy: 0.9179 - val_loss: 0.2213 - val_accuracy: 0.9306\n",
      "Epoch 4/20\n",
      "4736/4736 [==============================] - 10s 2ms/step - loss: 0.1860 - accuracy: 0.9430 - val_loss: 0.1811 - val_accuracy: 0.9438\n",
      "Epoch 5/20\n",
      "4736/4736 [==============================] - 10s 2ms/step - loss: 0.1413 - accuracy: 0.9544 - val_loss: 0.1477 - val_accuracy: 0.9510\n",
      "Epoch 6/20\n",
      "4736/4736 [==============================] - 10s 2ms/step - loss: 0.0995 - accuracy: 0.9717 - val_loss: 0.1147 - val_accuracy: 0.9641\n",
      "Epoch 7/20\n",
      "4736/4736 [==============================] - 10s 2ms/step - loss: 0.0705 - accuracy: 0.9808 - val_loss: 0.0904 - val_accuracy: 0.9737\n",
      "Epoch 8/20\n",
      "4736/4736 [==============================] - 10s 2ms/step - loss: 0.0598 - accuracy: 0.9799 - val_loss: 0.0813 - val_accuracy: 0.9797\n",
      "Epoch 9/20\n",
      "4736/4736 [==============================] - 10s 2ms/step - loss: 0.0488 - accuracy: 0.9842 - val_loss: 0.0761 - val_accuracy: 0.9797\n",
      "Epoch 10/20\n",
      "4736/4736 [==============================] - 12s 3ms/step - loss: 0.0454 - accuracy: 0.9863 - val_loss: 0.0727 - val_accuracy: 0.9797\n",
      "Epoch 11/20\n",
      "4736/4736 [==============================] - 12s 3ms/step - loss: 0.0393 - accuracy: 0.9888 - val_loss: 0.0773 - val_accuracy: 0.9809\n",
      "Epoch 12/20\n",
      "4736/4736 [==============================] - 11s 2ms/step - loss: 0.0339 - accuracy: 0.9907 - val_loss: 0.0747 - val_accuracy: 0.9809\n",
      "Epoch 13/20\n",
      "4736/4736 [==============================] - 12s 3ms/step - loss: 0.0299 - accuracy: 0.9918 - val_loss: 0.0749 - val_accuracy: 0.9821\n",
      "Epoch 14/20\n",
      "4736/4736 [==============================] - 12s 2ms/step - loss: 0.0277 - accuracy: 0.9922 - val_loss: 0.0804 - val_accuracy: 0.9797\n",
      "Epoch 15/20\n",
      "4736/4736 [==============================] - 10s 2ms/step - loss: 0.0242 - accuracy: 0.9926 - val_loss: 0.0758 - val_accuracy: 0.9821\n",
      "Epoch 16/20\n",
      "4736/4736 [==============================] - 10s 2ms/step - loss: 0.0205 - accuracy: 0.9939 - val_loss: 0.0830 - val_accuracy: 0.9809\n",
      "Epoch 17/20\n",
      "4736/4736 [==============================] - 10s 2ms/step - loss: 0.0186 - accuracy: 0.9941 - val_loss: 0.0792 - val_accuracy: 0.9833\n",
      "Epoch 18/20\n",
      "4736/4736 [==============================] - 10s 2ms/step - loss: 0.0154 - accuracy: 0.9962 - val_loss: 0.0837 - val_accuracy: 0.9821\n",
      "Epoch 19/20\n",
      "4736/4736 [==============================] - 10s 2ms/step - loss: 0.0154 - accuracy: 0.9943 - val_loss: 0.0812 - val_accuracy: 0.9856\n",
      "Epoch 20/20\n",
      "4736/4736 [==============================] - 11s 2ms/step - loss: 0.0135 - accuracy: 0.9958 - val_loss: 0.0847 - val_accuracy: 0.9856\n"
     ]
    }
   ],
   "source": [
    "history2 = model2.fit(x_train_features, y_train, batch_size=512, epochs=20, validation_data=(x_test_features, y_test))"
   ]
  },
  {
   "cell_type": "code",
   "execution_count": 75,
   "metadata": {},
   "outputs": [],
   "source": [
    "y_pred = model2.predict(x_test_features)"
   ]
  },
  {
   "cell_type": "code",
   "execution_count": 77,
   "metadata": {},
   "outputs": [
    {
     "data": {
      "image/png": "[encoded data removed]",
      "text/plain": [
       "<Figure size 432x288 with 1 Axes>"
      ]
     },
     "metadata": {},
     "output_type": "display_data"
    },
    {
     "name": "stdout",
     "output_type": "stream",
     "text": [
      "              precision    recall  f1-score   support\n",
      "\n",
      "           0       0.99      0.99      0.99       724\n",
      "           1       0.95      0.94      0.94       112\n",
      "\n",
      "    accuracy                           0.98       836\n",
      "   macro avg       0.97      0.96      0.97       836\n",
      "weighted avg       0.98      0.98      0.98       836\n",
      "\n"
     ]
    },
    {
     "data": {
      "text/html": [
       "<div>\n",
       "<style scoped>\n",
       "    .dataframe tbody tr th:only-of-type {\n",
       "        vertical-align: middle;\n",
       "    }\n",
       "\n",
       "    .dataframe tbody tr th {\n",
       "        vertical-align: top;\n",
       "    }\n",
       "\n",
       "    .dataframe thead th {\n",
       "        text-align: right;\n",
       "    }\n",
       "</style>\n",
       "<table border=\"1\" class=\"dataframe\">\n",
       "  <thead>\n",
       "    <tr style=\"text-align: right;\">\n",
       "      <th></th>\n",
       "      <th>Predicted 0</th>\n",
       "      <th>Predicted 1</th>\n",
       "    </tr>\n",
       "  </thead>\n",
       "  <tbody>\n",
       "    <tr>\n",
       "      <td>Actual 0</td>\n",
       "      <td>718</td>\n",
       "      <td>6</td>\n",
       "    </tr>\n",
       "    <tr>\n",
       "      <td>Actual 1</td>\n",
       "      <td>7</td>\n",
       "      <td>105</td>\n",
       "    </tr>\n",
       "  </tbody>\n",
       "</table>\n",
       "</div>"
      ],
      "text/plain": [
       "          Predicted 0  Predicted 1\n",
       "Actual 0          718            6\n",
       "Actual 1            7          105"
      ]
     },
     "metadata": {},
     "output_type": "display_data"
    }
   ],
   "source": [
    "pr2, rc2, thresholds2 = precision_recall_curve(y_test, y_pred)\n",
    "plt.plot(thresholds2, pr2[1:])\n",
    "plt.plot(thresholds2, rc2[1:])\n",
    "plt.show()\n",
    "crossover_index2 = np.max(np.where(pr2 <= rc2))\n",
    "crossover_cutoff2 = thresholds2[crossover_index2]\n",
    "crossover_recall2 = rc2[crossover_index2]\n",
    "\n",
    "print(classification_report(y_test, y_pred > crossover_cutoff2))\n",
    "\n",
    "m_confusion_test2 = confusion_matrix(y_test, y_pred > crossover_cutoff2)\n",
    "display(pd.DataFrame(data = m_confusion_test2, columns = ['Predicted 0', 'Predicted 1'],\n",
    "            index = ['Actual 0', 'Actual 1']))\n"
   ]
  },
  {
   "cell_type": "code",
   "execution_count": 82,
   "metadata": {},
   "outputs": [
    {
     "data": {
      "image/png": "[encoded data removed]",
      "text/plain": [
       "<Figure size 432x288 with 1 Axes>"
      ]
     },
     "metadata": {},
     "output_type": "display_data"
    }
   ],
   "source": [
    "# Plot the precision and recall plot\n",
    "plt.plot(rc, pr, linestyle='--', label='Embedding from Scratch')\n",
    "plt.plot(rc2, pr2, linestyle='--', label='Pretrained GloVe')\n",
    "# axis labels\n",
    "plt.xlabel('Recall')\n",
    "plt.ylabel('Precision')\n",
    "# show the legend\n",
    "plt.legend()\n",
    "# show the plot\n",
    "plt.show()"
   ]
  },
  {
   "cell_type": "markdown",
   "metadata": {},
   "source": [
    "## Term Frequency Inverse Document Frequency (TF-IDF)\n",
    "Liao, et.al. suggests that TF-IDF features representation is better than the TF representation. \n",
    " \n",
    " Reference:\n",
    "  Liao, C., Alpha, S., \"Dixon.P, \"Feature Preparation in Text Categorization\", Oracle Corporation, 2004. "
   ]
  },
  {
   "cell_type": "code",
   "execution_count": 49,
   "metadata": {},
   "outputs": [
    {
     "data": {
      "text/plain": [
       "TfidfVectorizer(analyzer='word', binary=False, decode_error='strict',\n",
       "                dtype=<class 'numpy.float64'>, encoding='utf-8',\n",
       "                input='content', lowercase=True, max_df=1.0, max_features=None,\n",
       "                min_df=1, ngram_range=(1, 1), norm='l2', preprocessor=None,\n",
       "                smooth_idf=True, stop_words=None, strip_accents=None,\n",
       "                sublinear_tf=False, token_pattern='(?u)\\\\b\\\\w\\\\w+\\\\b',\n",
       "                tokenizer=None, use_idf=True, vocabulary=None)"
      ]
     },
     "execution_count": 49,
     "metadata": {},
     "output_type": "execute_result"
    }
   ],
   "source": [
    "# Explore Term Frequency Inverse Document Frequency (TF-IDF) (Source: )\n",
    "vectorizer = TfidfVectorizer()\n",
    "vectorizer.fit(x_train)"
   ]
  },
  {
   "cell_type": "code",
   "execution_count": 50,
   "metadata": {},
   "outputs": [],
   "source": [
    "x_train_vec = vectorizer.transform(x_train).toarray()"
   ]
  },
  {
   "cell_type": "code",
   "execution_count": 51,
   "metadata": {},
   "outputs": [
    {
     "data": {
      "text/plain": [
       "SVC(C=1.0, cache_size=200, class_weight=None, coef0=0.0,\n",
       "    decision_function_shape='ovr', degree=3, gamma='scale', kernel='rbf',\n",
       "    max_iter=-1, probability=False, random_state=None, shrinking=True,\n",
       "    tol=0.001, verbose=False)"
      ]
     },
     "execution_count": 51,
     "metadata": {},
     "output_type": "execute_result"
    }
   ],
   "source": [
    "model_tdif = svm.SVC(gamma='scale')\n",
    "model_tdif.fit(x_train_vec, y_train)"
   ]
  },
  {
   "cell_type": "code",
   "execution_count": 52,
   "metadata": {},
   "outputs": [],
   "source": [
    "x_test_vec = vectorizer.transform(x_test).toarray()"
   ]
  },
  {
   "cell_type": "code",
   "execution_count": 53,
   "metadata": {},
   "outputs": [],
   "source": [
    "y_pred_tdif = model_tdif.predict(x_test_vec)"
   ]
  },
  {
   "cell_type": "code",
   "execution_count": 54,
   "metadata": {},
   "outputs": [
    {
     "name": "stdout",
     "output_type": "stream",
     "text": [
      "              precision    recall  f1-score   support\n",
      "\n",
      "           0       0.99      1.00      0.99       724\n",
      "           1       0.99      0.92      0.95       112\n",
      "\n",
      "    accuracy                           0.99       836\n",
      "   macro avg       0.99      0.96      0.97       836\n",
      "weighted avg       0.99      0.99      0.99       836\n",
      "\n"
     ]
    },
    {
     "data": {
      "text/html": [
       "<div>\n",
       "<style scoped>\n",
       "    .dataframe tbody tr th:only-of-type {\n",
       "        vertical-align: middle;\n",
       "    }\n",
       "\n",
       "    .dataframe tbody tr th {\n",
       "        vertical-align: top;\n",
       "    }\n",
       "\n",
       "    .dataframe thead th {\n",
       "        text-align: right;\n",
       "    }\n",
       "</style>\n",
       "<table border=\"1\" class=\"dataframe\">\n",
       "  <thead>\n",
       "    <tr style=\"text-align: right;\">\n",
       "      <th></th>\n",
       "      <th>Predicted 0</th>\n",
       "      <th>Predicted 1</th>\n",
       "    </tr>\n",
       "  </thead>\n",
       "  <tbody>\n",
       "    <tr>\n",
       "      <td>Actual 0</td>\n",
       "      <td>723</td>\n",
       "      <td>1</td>\n",
       "    </tr>\n",
       "    <tr>\n",
       "      <td>Actual 1</td>\n",
       "      <td>9</td>\n",
       "      <td>103</td>\n",
       "    </tr>\n",
       "  </tbody>\n",
       "</table>\n",
       "</div>"
      ],
      "text/plain": [
       "          Predicted 0  Predicted 1\n",
       "Actual 0          723            1\n",
       "Actual 1            9          103"
      ]
     },
     "metadata": {},
     "output_type": "display_data"
    },
    {
     "name": "stdout",
     "output_type": "stream",
     "text": [
      "This model misclassifies 1 genuine SMS as spam and misses only 9 SPAM.\n"
     ]
    }
   ],
   "source": [
    "print(classification_report(y_test, y_pred_tdif))\n",
    "\n",
    "m_confusion_test = confusion_matrix(y_test, y_pred_tdif)\n",
    "display(pd.DataFrame(data = m_confusion_test, columns = ['Predicted 0', 'Predicted 1'],\n",
    "            index = ['Actual 0', 'Actual 1']))\n",
    "\n",
    "print(\"This model misclassifies {c} genuine SMS as spam and misses only {d} SPAM.\".format(c = m_confusion_test[0,1], d = m_confusion_test[1,0]))"
   ]
  },
  {
   "cell_type": "code",
   "execution_count": 65,
   "metadata": {},
   "outputs": [
    {
     "data": {
      "image/png": "[encoded data removed]",
      "text/plain": [
       "<Figure size 432x288 with 1 Axes>"
      ]
     },
     "metadata": {},
     "output_type": "display_data"
    }
   ],
   "source": [
    "pr, rc, thresholds = precision_recall_curve(y_test, y_pred_tdif)\n",
    "plt.plot(thresholds, pr[1:])\n",
    "plt.plot(thresholds, rc[1:])\n",
    "plt.xlabel(\"Precision percentage\")\n",
    "plt.ylabel(\"Recall percentage\")\n",
    "plt.title(\"Precision vs Recall for TF-IDF\")\n",
    "plt.legend(['Precision','Recall'], loc='upper left')\n",
    "plt.show()"
   ]
  },
  {
   "cell_type": "code",
   "execution_count": null,
   "metadata": {},
   "outputs": [],
   "source": []
  }
 ],
 "metadata": {
  "kernelspec": {
   "display_name": "Python 3",
   "language": "python",
   "name": "python3"
  },
  "language_info": {
   "codemirror_mode": {
    "name": "ipython",
    "version": 3
   },
   "file_extension": ".py",
   "mimetype": "text/x-python",
   "name": "python",
   "nbconvert_exporter": "python",
   "pygments_lexer": "ipython3",
   "version": "3.6.5"
  }
 },
 "nbformat": 4,
 "nbformat_minor": 2
}
