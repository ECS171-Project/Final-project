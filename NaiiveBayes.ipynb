{
 "cells": [
  {
   "cell_type": "code",
   "execution_count": 15,
   "metadata": {},
   "outputs": [],
   "source": [
    "import pandas as pd\n",
    "import numpy as np\n",
    "import matplotlib.pyplot as plt\n",
    "import string"
   ]
  },
  {
   "cell_type": "code",
   "execution_count": 16,
   "metadata": {},
   "outputs": [],
   "source": [
    "import pickle"
   ]
  },
  {
   "cell_type": "markdown",
   "metadata": {
    "colab_type": "text",
    "id": "sFOCJhQ94CsG"
   },
   "source": [
    "# 1. Load the data:"
   ]
  },
  {
   "cell_type": "code",
   "execution_count": 17,
   "metadata": {},
   "outputs": [],
   "source": [
    "def load_data(train_pkl_file, test_pkl_file):\n",
    "    with open(test_pkl_file, 'rb') as f:\n",
    "        x_test, y_test = pickle.load(f)\n",
    "    with open(train_pkl_file, 'rb') as f:\n",
    "        x_train, y_train = pickle.load(f)\n",
    "    return x_train, x_test, y_train, y_test\n"
   ]
  },
  {
   "cell_type": "code",
   "execution_count": 18,
   "metadata": {},
   "outputs": [],
   "source": [
    "x_tr1, x_te1, y_tr1, y_te1 = load_data('train_data.pkl', 'test_data.pkl')\n",
    "x_tr2, x_te2, y_tr2, y_te2 = load_data('train_data2.pkl', 'test_data2.pkl')"
   ]
  },
  {
   "cell_type": "code",
   "execution_count": 19,
   "metadata": {},
   "outputs": [
    {
     "data": {
      "text/plain": [
       "(836,)"
      ]
     },
     "execution_count": 19,
     "metadata": {},
     "output_type": "execute_result"
    }
   ],
   "source": [
    "y_te1.shape"
   ]
  },
  {
   "cell_type": "markdown",
   "metadata": {
    "colab_type": "text",
    "id": "5LB9sNBUDP-i"
   },
   "source": [
    "# 2. Naïve Bayes models"
   ]
  },
  {
   "cell_type": "markdown",
   "metadata": {},
   "source": [
    "## 2.0 Build up bayes class."
   ]
  },
  {
   "cell_type": "code",
   "execution_count": 20,
   "metadata": {},
   "outputs": [],
   "source": [
    "\n",
    "from sklearn.naive_bayes import GaussianNB, MultinomialNB, BernoulliNB\n",
    "from sklearn.metrics import f1_score, accuracy_score, precision_score, recall_score, confusion_matrix\n",
    "from sklearn.utils.multiclass import unique_labels"
   ]
  },
  {
   "cell_type": "code",
   "execution_count": 21,
   "metadata": {},
   "outputs": [],
   "source": [
    "class myBayes:\n",
    "  '''\n",
    "  This class is my bayes class.\n",
    "  '''\n",
    "  def __init__(self, model, **kw):\n",
    "    '''\n",
    "    model: sklearn models\n",
    "    **kw: any keywords in the given model\n",
    "    '''\n",
    "    self.model = model(**kw)\n",
    "\n",
    "  def __call__(self, x_tr, x_te, y_tr, y_te):\n",
    "    print('>>>> running')\n",
    "    self.__x_tr = x_tr\n",
    "    self.__x_te = x_te\n",
    "    self.__y_tr = np.array(y_tr).reshape(-1,1)\n",
    "    self.__y_te = np.array(y_te).reshape(-1,1)\n",
    "    self.__y = np.vstack((self.__y_tr, self.__y_te))\n",
    "    self.__x = np.vstack((x_tr, x_te))\n",
    "    m = self.model\n",
    "    m.fit(x_tr, y_tr)\n",
    "    self.tr_pred = m.predict(x_tr)\n",
    "    self.te_pred = m.predict(x_te)\n",
    "    self.pred = m.predict(self.__x)\n",
    "    self.te_score = m.predict_proba(x_tr)\n",
    "    self.tr_score = m.predict_proba(x_te)\n",
    "    # calculate the score:\n",
    "    self.__f1_tr = f1_score(y_tr, self.tr_pred)\n",
    "    self.__f1_te = f1_score(y_te, self.te_pred)\n",
    "    self.__f1_all = f1_score(self.__y, self.pred)\n",
    "    self.__accu_tr = accuracy_score(y_tr, self.tr_pred)\n",
    "    self.__accu_te = accuracy_score(y_te, self.te_pred)\n",
    "    self.__accu_all = accuracy_score(self.__y, self.pred)\n",
    "    print('>>>> fitted')\n",
    "\n",
    "  # Get the confusion matrix:\n",
    "  def get_confusion_matrix(self, target = 'test'):\n",
    "    '''\n",
    "    Method get the confusion matrix.\n",
    "    By default, this method will return the confusion matrix for test set.\n",
    "    '''\n",
    "    classes = ['ham', 'spam']\n",
    "    if target == 'test':\n",
    "      cm = confusion_matrix(self.__y_te, self.te_pred)\n",
    "    elif target == 'training':\n",
    "      cm = confusion_matrix(self.__y_tr, self.tr_pred)\n",
    "    elif traget == 'whole':\n",
    "      cm = confusion_matrix(self.__y, self.pred)\n",
    "    frame = pd.DataFrame(cm, columns = classes, index = classes)\n",
    "    return frame\n",
    "\n",
    "  # Method to get scores:\n",
    "  def get_scores(self):\n",
    "    '''\n",
    "    Get the score frame.\n",
    "    output: pd.DataFrame. f1 score and accuracy for both training set and test set.\n",
    "    '''\n",
    "    dic = {'f1_score':[self.__f1_tr, self.__f1_te, self.__f1_all], 'accuracy':[self.__accu_tr, self.__accu_te, self.__accu_all]}\n",
    "    frame = pd.DataFrame(dic, index = ['Traing', 'Test', 'Whole Set'])\n",
    "    return frame\n",
    "\n",
    "\n",
    "  # Plot the confusion matrix\n",
    "  def plot_confusion(self, target = 'test'):\n",
    "    '''\n",
    "    Method to plot the confusion matrix.\n",
    "    By default, the method will plot the confusion matrix for the test set.\n",
    "    '''\n",
    "    model_name = str(self.model).split('(')[0]\n",
    "    classes = ['ham', 'spam']\n",
    "    if target == 'test':\n",
    "      cm = confusion_matrix(self.__y_te, self.te_pred)\n",
    "    elif target == 'training':\n",
    "      cm = confusion_matrix(self.__y_tr, self.tr_pred)\n",
    "    elif target == 'whole':\n",
    "      cm = confusion_matrix(self.__y, self.pred)\n",
    "\n",
    "    ## Draw the figure\n",
    "    fig, ax = plt.subplots(figsize = (6,6))\n",
    "    im = ax.imshow(cm, interpolation='nearest', cmap = plt.cm.Blues)\n",
    "    ax.figure.colorbar(im, ax=ax)\n",
    "    # We want to show all ticks...\n",
    "    ax.set(xticks=np.arange(cm.shape[1]),\n",
    "           yticks=np.arange(cm.shape[0]),\n",
    "           # ... and label them with the respective list entries\n",
    "           xticklabels=classes, yticklabels=classes,\n",
    "           title='Confusion Matrix for {} on {} set'.format(model_name, target),\n",
    "           ylabel='True label',\n",
    "           xlabel='Predicted label')\n",
    "\n",
    "    # Loop over data dimensions and create text annotations.\n",
    "    fmt = 'd'\n",
    "    thresh = cm.max() / 2.\n",
    "    for i in range(cm.shape[0]):\n",
    "        for j in range(cm.shape[1]):\n",
    "            ax.text(j, i, format(cm[i, j], fmt),\n",
    "                    ha=\"center\", va=\"center\",\n",
    "                    color=\"white\" if cm[i, j] > thresh else \"black\")\n",
    "    fig.tight_layout()\n",
    "    plt.savefig('pics/{}_confusion_matrix_{}.png'.format(model_name, target))\n",
    "    plt.show()\n",
    "\n",
    "    # Plot Roc curve:\n",
    "    def ROC(self):\n",
    "      '''\n",
    "      This method helps to return the ROC of the model.\n",
    "      '''\n",
    "      "
   ]
  },
  {
   "cell_type": "markdown",
   "metadata": {
    "colab_type": "text",
    "id": "Qx9WIvHK8rvy"
   },
   "source": [
    "## 2.1 Gaussian Naïve Bayes:"
   ]
  },
  {
   "cell_type": "markdown",
   "metadata": {},
   "source": [
    "Gaussian naïve Bayes does not take sparse as an valid input since it is not designed to make prediction on text data because very sarse data seldomly fullfill the assumption of the model. But to make comnparison anyway, I change the sparse matrix to numpy array"
   ]
  },
  {
   "cell_type": "markdown",
   "metadata": {},
   "source": [
    "This method is also time-consuming."
   ]
  },
  {
   "cell_type": "code",
   "execution_count": 22,
   "metadata": {},
   "outputs": [
    {
     "name": "stdout",
     "output_type": "stream",
     "text": [
      ">>>> running\n",
      ">>>> fitted\n",
      ">>>> running\n",
      ">>>> fitted\n"
     ]
    }
   ],
   "source": [
    "gnb1 = myBayes(GaussianNB)\n",
    "gnb1(x_tr1.toarray(), x_te1.toarray(), y_tr1, y_te1)\n",
    "\n",
    "gnb2 = myBayes(GaussianNB)\n",
    "gnb2(x_tr2.toarray(), x_te2.toarray(), y_tr2, y_te2)"
   ]
  },
  {
   "cell_type": "code",
   "execution_count": 23,
   "metadata": {},
   "outputs": [
    {
     "data": {
      "text/html": [
       "<div>\n",
       "<style scoped>\n",
       "    .dataframe tbody tr th:only-of-type {\n",
       "        vertical-align: middle;\n",
       "    }\n",
       "\n",
       "    .dataframe tbody tr th {\n",
       "        vertical-align: top;\n",
       "    }\n",
       "\n",
       "    .dataframe thead th {\n",
       "        text-align: right;\n",
       "    }\n",
       "</style>\n",
       "<table border=\"1\" class=\"dataframe\">\n",
       "  <thead>\n",
       "    <tr style=\"text-align: right;\">\n",
       "      <th></th>\n",
       "      <th>f1_score</th>\n",
       "      <th>accuracy</th>\n",
       "    </tr>\n",
       "  </thead>\n",
       "  <tbody>\n",
       "    <tr>\n",
       "      <th>Traing</th>\n",
       "      <td>0.848606</td>\n",
       "      <td>0.951858</td>\n",
       "    </tr>\n",
       "    <tr>\n",
       "      <th>Test</th>\n",
       "      <td>0.671096</td>\n",
       "      <td>0.881579</td>\n",
       "    </tr>\n",
       "    <tr>\n",
       "      <th>Whole Set</th>\n",
       "      <td>0.819037</td>\n",
       "      <td>0.941314</td>\n",
       "    </tr>\n",
       "  </tbody>\n",
       "</table>\n",
       "</div>"
      ],
      "text/plain": [
       "           f1_score  accuracy\n",
       "Traing     0.848606  0.951858\n",
       "Test       0.671096  0.881579\n",
       "Whole Set  0.819037  0.941314"
      ]
     },
     "execution_count": 23,
     "metadata": {},
     "output_type": "execute_result"
    }
   ],
   "source": [
    "gnb1.get_scores()"
   ]
  },
  {
   "cell_type": "code",
   "execution_count": 24,
   "metadata": {},
   "outputs": [
    {
     "data": {
      "text/html": [
       "<div>\n",
       "<style scoped>\n",
       "    .dataframe tbody tr th:only-of-type {\n",
       "        vertical-align: middle;\n",
       "    }\n",
       "\n",
       "    .dataframe tbody tr th {\n",
       "        vertical-align: top;\n",
       "    }\n",
       "\n",
       "    .dataframe thead th {\n",
       "        text-align: right;\n",
       "    }\n",
       "</style>\n",
       "<table border=\"1\" class=\"dataframe\">\n",
       "  <thead>\n",
       "    <tr style=\"text-align: right;\">\n",
       "      <th></th>\n",
       "      <th>f1_score</th>\n",
       "      <th>accuracy</th>\n",
       "    </tr>\n",
       "  </thead>\n",
       "  <tbody>\n",
       "    <tr>\n",
       "      <th>Traing</th>\n",
       "      <td>0.848606</td>\n",
       "      <td>0.951858</td>\n",
       "    </tr>\n",
       "    <tr>\n",
       "      <th>Test</th>\n",
       "      <td>0.668896</td>\n",
       "      <td>0.881579</td>\n",
       "    </tr>\n",
       "    <tr>\n",
       "      <th>Whole Set</th>\n",
       "      <td>0.818837</td>\n",
       "      <td>0.941314</td>\n",
       "    </tr>\n",
       "  </tbody>\n",
       "</table>\n",
       "</div>"
      ],
      "text/plain": [
       "           f1_score  accuracy\n",
       "Traing     0.848606  0.951858\n",
       "Test       0.668896  0.881579\n",
       "Whole Set  0.818837  0.941314"
      ]
     },
     "execution_count": 24,
     "metadata": {},
     "output_type": "execute_result"
    }
   ],
   "source": [
    "gnb2.get_scores()"
   ]
  },
  {
   "cell_type": "code",
   "execution_count": 25,
   "metadata": {},
   "outputs": [
    {
     "data": {
      "text/html": [
       "<div>\n",
       "<style scoped>\n",
       "    .dataframe tbody tr th:only-of-type {\n",
       "        vertical-align: middle;\n",
       "    }\n",
       "\n",
       "    .dataframe tbody tr th {\n",
       "        vertical-align: top;\n",
       "    }\n",
       "\n",
       "    .dataframe thead th {\n",
       "        text-align: right;\n",
       "    }\n",
       "</style>\n",
       "<table border=\"1\" class=\"dataframe\">\n",
       "  <thead>\n",
       "    <tr style=\"text-align: right;\">\n",
       "      <th></th>\n",
       "      <th>ham</th>\n",
       "      <th>spam</th>\n",
       "    </tr>\n",
       "  </thead>\n",
       "  <tbody>\n",
       "    <tr>\n",
       "      <th>ham</th>\n",
       "      <td>636</td>\n",
       "      <td>92</td>\n",
       "    </tr>\n",
       "    <tr>\n",
       "      <th>spam</th>\n",
       "      <td>7</td>\n",
       "      <td>101</td>\n",
       "    </tr>\n",
       "  </tbody>\n",
       "</table>\n",
       "</div>"
      ],
      "text/plain": [
       "      ham  spam\n",
       "ham   636    92\n",
       "spam    7   101"
      ]
     },
     "execution_count": 25,
     "metadata": {},
     "output_type": "execute_result"
    }
   ],
   "source": [
    "gnb1.get_confusion_matrix()"
   ]
  },
  {
   "cell_type": "code",
   "execution_count": 26,
   "metadata": {},
   "outputs": [
    {
     "data": {
      "text/html": [
       "<div>\n",
       "<style scoped>\n",
       "    .dataframe tbody tr th:only-of-type {\n",
       "        vertical-align: middle;\n",
       "    }\n",
       "\n",
       "    .dataframe tbody tr th {\n",
       "        vertical-align: top;\n",
       "    }\n",
       "\n",
       "    .dataframe thead th {\n",
       "        text-align: right;\n",
       "    }\n",
       "</style>\n",
       "<table border=\"1\" class=\"dataframe\">\n",
       "  <thead>\n",
       "    <tr style=\"text-align: right;\">\n",
       "      <th></th>\n",
       "      <th>ham</th>\n",
       "      <th>spam</th>\n",
       "    </tr>\n",
       "  </thead>\n",
       "  <tbody>\n",
       "    <tr>\n",
       "      <th>ham</th>\n",
       "      <td>3869</td>\n",
       "      <td>228</td>\n",
       "    </tr>\n",
       "    <tr>\n",
       "      <th>spam</th>\n",
       "      <td>0</td>\n",
       "      <td>639</td>\n",
       "    </tr>\n",
       "  </tbody>\n",
       "</table>\n",
       "</div>"
      ],
      "text/plain": [
       "       ham  spam\n",
       "ham   3869   228\n",
       "spam     0   639"
      ]
     },
     "execution_count": 26,
     "metadata": {},
     "output_type": "execute_result"
    }
   ],
   "source": [
    "gnb1.get_confusion_matrix(target='training')"
   ]
  },
  {
   "cell_type": "code",
   "execution_count": 27,
   "metadata": {},
   "outputs": [
    {
     "data": {
      "image/png": "[encoded data removed]",
      "text/plain": [
       "<Figure size 432x432 with 2 Axes>"
      ]
     },
     "metadata": {
      "needs_background": "light"
     },
     "output_type": "display_data"
    }
   ],
   "source": [
    "gnb1.plot_confusion(target = 'training')"
   ]
  },
  {
   "cell_type": "code",
   "execution_count": 28,
   "metadata": {},
   "outputs": [
    {
     "data": {
      "image/png": "[encoded data removed]",
      "text/plain": [
       "<Figure size 432x432 with 2 Axes>"
      ]
     },
     "metadata": {
      "needs_background": "light"
     },
     "output_type": "display_data"
    }
   ],
   "source": [
    "gnb1.plot_confusion(target = 'test')"
   ]
  },
  {
   "cell_type": "code",
   "execution_count": 29,
   "metadata": {},
   "outputs": [
    {
     "data": {
      "image/png": "[encoded data removed]",
      "text/plain": [
       "<Figure size 432x432 with 2 Axes>"
      ]
     },
     "metadata": {
      "needs_background": "light"
     },
     "output_type": "display_data"
    }
   ],
   "source": [
    "gnb1.plot_confusion(target = 'whole')"
   ]
  },
  {
   "cell_type": "markdown",
   "metadata": {
    "colab_type": "text",
    "id": "yw0ZUP_JClW9"
   },
   "source": [
    "## 2.2 Multinomial Naïve Bayes"
   ]
  },
  {
   "cell_type": "code",
   "execution_count": 30,
   "metadata": {},
   "outputs": [
    {
     "name": "stdout",
     "output_type": "stream",
     "text": [
      ">>>> running\n",
      ">>>> fitted\n",
      ">>>> running\n",
      ">>>> fitted\n"
     ]
    }
   ],
   "source": [
    "# Fit 2 models by using two data sets generlized by different vectorizer.\n",
    "mnb1 = myBayes(MultinomialNB)\n",
    "mnb1(x_tr1.toarray(), x_te1.toarray(), y_tr1, y_te1)\n",
    "\n",
    "mnb2 = myBayes(MultinomialNB)\n",
    "mnb2(x_tr2.toarray(), x_te2.toarray(), y_tr2, y_te2)"
   ]
  },
  {
   "cell_type": "code",
   "execution_count": 31,
   "metadata": {},
   "outputs": [
    {
     "data": {
      "text/html": [
       "<div>\n",
       "<style scoped>\n",
       "    .dataframe tbody tr th:only-of-type {\n",
       "        vertical-align: middle;\n",
       "    }\n",
       "\n",
       "    .dataframe tbody tr th {\n",
       "        vertical-align: top;\n",
       "    }\n",
       "\n",
       "    .dataframe thead th {\n",
       "        text-align: right;\n",
       "    }\n",
       "</style>\n",
       "<table border=\"1\" class=\"dataframe\">\n",
       "  <thead>\n",
       "    <tr style=\"text-align: right;\">\n",
       "      <th></th>\n",
       "      <th>f1_score</th>\n",
       "      <th>accuracy</th>\n",
       "    </tr>\n",
       "  </thead>\n",
       "  <tbody>\n",
       "    <tr>\n",
       "      <th>Traing</th>\n",
       "      <td>0.976526</td>\n",
       "      <td>0.993666</td>\n",
       "    </tr>\n",
       "    <tr>\n",
       "      <th>Test</th>\n",
       "      <td>0.905830</td>\n",
       "      <td>0.974880</td>\n",
       "    </tr>\n",
       "    <tr>\n",
       "      <th>Whole Set</th>\n",
       "      <td>0.966023</td>\n",
       "      <td>0.990847</td>\n",
       "    </tr>\n",
       "  </tbody>\n",
       "</table>\n",
       "</div>"
      ],
      "text/plain": [
       "           f1_score  accuracy\n",
       "Traing     0.976526  0.993666\n",
       "Test       0.905830  0.974880\n",
       "Whole Set  0.966023  0.990847"
      ]
     },
     "execution_count": 31,
     "metadata": {},
     "output_type": "execute_result"
    }
   ],
   "source": [
    "# Get the scores for the first MNB model.\n",
    "mnb1.get_scores()"
   ]
  },
  {
   "cell_type": "code",
   "execution_count": 32,
   "metadata": {},
   "outputs": [
    {
     "data": {
      "text/html": [
       "<div>\n",
       "<style scoped>\n",
       "    .dataframe tbody tr th:only-of-type {\n",
       "        vertical-align: middle;\n",
       "    }\n",
       "\n",
       "    .dataframe tbody tr th {\n",
       "        vertical-align: top;\n",
       "    }\n",
       "\n",
       "    .dataframe thead th {\n",
       "        text-align: right;\n",
       "    }\n",
       "</style>\n",
       "<table border=\"1\" class=\"dataframe\">\n",
       "  <thead>\n",
       "    <tr style=\"text-align: right;\">\n",
       "      <th></th>\n",
       "      <th>f1_score</th>\n",
       "      <th>accuracy</th>\n",
       "    </tr>\n",
       "  </thead>\n",
       "  <tbody>\n",
       "    <tr>\n",
       "      <th>Traing</th>\n",
       "      <td>0.904884</td>\n",
       "      <td>0.976562</td>\n",
       "    </tr>\n",
       "    <tr>\n",
       "      <th>Test</th>\n",
       "      <td>0.875000</td>\n",
       "      <td>0.971292</td>\n",
       "    </tr>\n",
       "    <tr>\n",
       "      <th>Whole Set</th>\n",
       "      <td>0.900662</td>\n",
       "      <td>0.975772</td>\n",
       "    </tr>\n",
       "  </tbody>\n",
       "</table>\n",
       "</div>"
      ],
      "text/plain": [
       "           f1_score  accuracy\n",
       "Traing     0.904884  0.976562\n",
       "Test       0.875000  0.971292\n",
       "Whole Set  0.900662  0.975772"
      ]
     },
     "execution_count": 32,
     "metadata": {},
     "output_type": "execute_result"
    }
   ],
   "source": [
    "# Get the scores for the second MNB model.\n",
    "mnb2.get_scores()"
   ]
  },
  {
   "cell_type": "markdown",
   "metadata": {},
   "source": [
    "Based on the scores above, the first vectorizer performs slightly better than  the second one, still. And the highest test and overall f1 scores come from the mnb1.\n"
   ]
  },
  {
   "cell_type": "code",
   "execution_count": 33,
   "metadata": {},
   "outputs": [
    {
     "data": {
      "image/png": "[encoded data removed]",
      "text/plain": [
       "<Figure size 432x432 with 2 Axes>"
      ]
     },
     "metadata": {
      "needs_background": "light"
     },
     "output_type": "display_data"
    }
   ],
   "source": [
    "mnb1.plot_confusion(target = 'test')"
   ]
  },
  {
   "cell_type": "code",
   "execution_count": 34,
   "metadata": {},
   "outputs": [
    {
     "data": {
      "image/png": "[encoded data removed]",
      "text/plain": [
       "<Figure size 432x432 with 2 Axes>"
      ]
     },
     "metadata": {
      "needs_background": "light"
     },
     "output_type": "display_data"
    }
   ],
   "source": [
    "mnb1.plot_confusion(target = 'training')"
   ]
  },
  {
   "cell_type": "code",
   "execution_count": 35,
   "metadata": {},
   "outputs": [
    {
     "data": {
      "image/png": "[encoded data removed]",
      "text/plain": [
       "<Figure size 432x432 with 2 Axes>"
      ]
     },
     "metadata": {
      "needs_background": "light"
     },
     "output_type": "display_data"
    }
   ],
   "source": [
    "mnb1.plot_confusion(target = 'whole')"
   ]
  },
  {
   "cell_type": "markdown",
   "metadata": {},
   "source": [
    "## 2.3 Bernoulli naïve Bayes"
   ]
  },
  {
   "cell_type": "markdown",
   "metadata": {},
   "source": [
    "Similar to the procedures in section 2.2, 2.3, I will still fit 2 models based on different vectorizer and try to tell the which one is more suitable."
   ]
  },
  {
   "cell_type": "code",
   "execution_count": 36,
   "metadata": {},
   "outputs": [
    {
     "name": "stdout",
     "output_type": "stream",
     "text": [
      ">>>> running\n",
      ">>>> fitted\n",
      ">>>> running\n",
      ">>>> fitted\n"
     ]
    }
   ],
   "source": [
    "# Fit models.\n",
    "bnb1 = myBayes(BernoulliNB)\n",
    "bnb1(x_tr1.toarray(), x_te1.toarray(), y_tr1, y_te1)\n",
    "\n",
    "bnb2 = myBayes(BernoulliNB)\n",
    "bnb2(x_tr2.toarray(), x_te2.toarray(), y_tr2, y_te2)"
   ]
  },
  {
   "cell_type": "code",
   "execution_count": 37,
   "metadata": {},
   "outputs": [
    {
     "data": {
      "text/html": [
       "<div>\n",
       "<style scoped>\n",
       "    .dataframe tbody tr th:only-of-type {\n",
       "        vertical-align: middle;\n",
       "    }\n",
       "\n",
       "    .dataframe tbody tr th {\n",
       "        vertical-align: top;\n",
       "    }\n",
       "\n",
       "    .dataframe thead th {\n",
       "        text-align: right;\n",
       "    }\n",
       "</style>\n",
       "<table border=\"1\" class=\"dataframe\">\n",
       "  <thead>\n",
       "    <tr style=\"text-align: right;\">\n",
       "      <th></th>\n",
       "      <th>f1_score</th>\n",
       "      <th>accuracy</th>\n",
       "    </tr>\n",
       "  </thead>\n",
       "  <tbody>\n",
       "    <tr>\n",
       "      <th>Traing</th>\n",
       "      <td>0.932668</td>\n",
       "      <td>0.982897</td>\n",
       "    </tr>\n",
       "    <tr>\n",
       "      <th>Test</th>\n",
       "      <td>0.896552</td>\n",
       "      <td>0.974880</td>\n",
       "    </tr>\n",
       "    <tr>\n",
       "      <th>Whole Set</th>\n",
       "      <td>0.927454</td>\n",
       "      <td>0.981694</td>\n",
       "    </tr>\n",
       "  </tbody>\n",
       "</table>\n",
       "</div>"
      ],
      "text/plain": [
       "           f1_score  accuracy\n",
       "Traing     0.932668  0.982897\n",
       "Test       0.896552  0.974880\n",
       "Whole Set  0.927454  0.981694"
      ]
     },
     "execution_count": 37,
     "metadata": {},
     "output_type": "execute_result"
    }
   ],
   "source": [
    "# Get the scores for the 1st model.\n",
    "bnb1.get_scores()"
   ]
  },
  {
   "cell_type": "code",
   "execution_count": 38,
   "metadata": {},
   "outputs": [
    {
     "data": {
      "text/html": [
       "<div>\n",
       "<style scoped>\n",
       "    .dataframe tbody tr th:only-of-type {\n",
       "        vertical-align: middle;\n",
       "    }\n",
       "\n",
       "    .dataframe tbody tr th {\n",
       "        vertical-align: top;\n",
       "    }\n",
       "\n",
       "    .dataframe thead th {\n",
       "        text-align: right;\n",
       "    }\n",
       "</style>\n",
       "<table border=\"1\" class=\"dataframe\">\n",
       "  <thead>\n",
       "    <tr style=\"text-align: right;\">\n",
       "      <th></th>\n",
       "      <th>f1_score</th>\n",
       "      <th>accuracy</th>\n",
       "    </tr>\n",
       "  </thead>\n",
       "  <tbody>\n",
       "    <tr>\n",
       "      <th>Traing</th>\n",
       "      <td>0.932668</td>\n",
       "      <td>0.982897</td>\n",
       "    </tr>\n",
       "    <tr>\n",
       "      <th>Test</th>\n",
       "      <td>0.896552</td>\n",
       "      <td>0.974880</td>\n",
       "    </tr>\n",
       "    <tr>\n",
       "      <th>Whole Set</th>\n",
       "      <td>0.927454</td>\n",
       "      <td>0.981694</td>\n",
       "    </tr>\n",
       "  </tbody>\n",
       "</table>\n",
       "</div>"
      ],
      "text/plain": [
       "           f1_score  accuracy\n",
       "Traing     0.932668  0.982897\n",
       "Test       0.896552  0.974880\n",
       "Whole Set  0.927454  0.981694"
      ]
     },
     "execution_count": 38,
     "metadata": {},
     "output_type": "execute_result"
    }
   ],
   "source": [
    "# Get the score for 2nd model.\n",
    "bnb2.get_scores()"
   ]
  },
  {
   "cell_type": "markdown",
   "metadata": {},
   "source": [
    "As the scores showed above, two vectorizer does not make obvious differeces, and the second BNB performs better than MNB2 with respect to f1 score over the whole data set."
   ]
  },
  {
   "cell_type": "markdown",
   "metadata": {},
   "source": [
    "Since both models perform in a same manner, I will just show confusion matrix for the second model."
   ]
  },
  {
   "cell_type": "code",
   "execution_count": 39,
   "metadata": {},
   "outputs": [
    {
     "data": {
      "text/html": [
       "<div>\n",
       "<style scoped>\n",
       "    .dataframe tbody tr th:only-of-type {\n",
       "        vertical-align: middle;\n",
       "    }\n",
       "\n",
       "    .dataframe tbody tr th {\n",
       "        vertical-align: top;\n",
       "    }\n",
       "\n",
       "    .dataframe thead th {\n",
       "        text-align: right;\n",
       "    }\n",
       "</style>\n",
       "<table border=\"1\" class=\"dataframe\">\n",
       "  <thead>\n",
       "    <tr style=\"text-align: right;\">\n",
       "      <th></th>\n",
       "      <th>ham</th>\n",
       "      <th>spam</th>\n",
       "    </tr>\n",
       "  </thead>\n",
       "  <tbody>\n",
       "    <tr>\n",
       "      <th>ham</th>\n",
       "      <td>724</td>\n",
       "      <td>4</td>\n",
       "    </tr>\n",
       "    <tr>\n",
       "      <th>spam</th>\n",
       "      <td>17</td>\n",
       "      <td>91</td>\n",
       "    </tr>\n",
       "  </tbody>\n",
       "</table>\n",
       "</div>"
      ],
      "text/plain": [
       "      ham  spam\n",
       "ham   724     4\n",
       "spam   17    91"
      ]
     },
     "execution_count": 39,
     "metadata": {},
     "output_type": "execute_result"
    }
   ],
   "source": [
    "bnb2.get_confusion_matrix()"
   ]
  },
  {
   "cell_type": "code",
   "execution_count": 40,
   "metadata": {},
   "outputs": [
    {
     "data": {
      "image/png": "[encoded data removed]",
      "text/plain": [
       "<Figure size 432x432 with 2 Axes>"
      ]
     },
     "metadata": {
      "needs_background": "light"
     },
     "output_type": "display_data"
    }
   ],
   "source": [
    "bnb2.plot_confusion(target = 'training')"
   ]
  },
  {
   "cell_type": "code",
   "execution_count": 41,
   "metadata": {},
   "outputs": [
    {
     "data": {
      "image/png": "[encoded data removed]",
      "text/plain": [
       "<Figure size 432x432 with 2 Axes>"
      ]
     },
     "metadata": {
      "needs_background": "light"
     },
     "output_type": "display_data"
    }
   ],
   "source": [
    "bnb2.plot_confusion(target = 'test')"
   ]
  },
  {
   "cell_type": "code",
   "execution_count": 42,
   "metadata": {},
   "outputs": [
    {
     "data": {
      "image/png": "[encoded data removed]",
      "text/plain": [
       "<Figure size 432x432 with 2 Axes>"
      ]
     },
     "metadata": {
      "needs_background": "light"
     },
     "output_type": "display_data"
    }
   ],
   "source": [
    "bnb2.plot_confusion(target = 'whole')"
   ]
  },
  {
   "cell_type": "markdown",
   "metadata": {},
   "source": [
    "## 3. Final model: MNB1, BNB2"
   ]
  },
  {
   "cell_type": "markdown",
   "metadata": {},
   "source": [
    "Based on the output above, the best using the first vectorizer is Multinomial naïve Bayes.\n",
    "\n",
    "The one perform best on the second vectorizer is Bernulli naïve Bayes.\n",
    "\n"
   ]
  },
  {
   "cell_type": "code",
   "execution_count": 43,
   "metadata": {},
   "outputs": [
    {
     "name": "stdout",
     "output_type": "stream",
     "text": [
      ">>>> running\n",
      ">>>> fitted\n",
      ">>>> running\n",
      ">>>> fitted\n"
     ]
    }
   ],
   "source": [
    "# Give the final model.\n",
    "# Count vect:\n",
    "mnb1 = myBayes(MultinomialNB)\n",
    "mnb1(x_tr1.toarray(), x_te1.toarray(), y_tr1, y_te1)\n",
    "\n",
    "# Tfid vect:\n",
    "bnb2 = myBayes(BernoulliNB)\n",
    "bnb2(x_tr2.toarray(), x_te2.toarray(), y_tr2, y_te2)"
   ]
  },
  {
   "cell_type": "code",
   "execution_count": 44,
   "metadata": {},
   "outputs": [],
   "source": [
    "with open('bayes_model/MNB1.pkl', 'wb') as f:\n",
    "    pickle.dump(mnb1.model, f)\n",
    "with open('bayes_model/BNB2.pkl', 'wb') as f:\n",
    "    pickle.dump(bnb2.model, f)"
   ]
  }
 ],
 "metadata": {
  "accelerator": "GPU",
  "colab": {
   "collapsed_sections": [],
   "name": "NaiiveBayes.ipynb",
   "provenance": []
  },
  "kernelspec": {
   "display_name": "Python 3",
   "language": "python",
   "name": "python3"
  },
  "language_info": {
   "codemirror_mode": {
    "name": "ipython",
    "version": 3
   },
   "file_extension": ".py",
   "mimetype": "text/x-python",
   "name": "python",
   "nbconvert_exporter": "python",
   "pygments_lexer": "ipython3",
   "version": "3.6.9"
  }
 },
 "nbformat": 4,
 "nbformat_minor": 1
}
